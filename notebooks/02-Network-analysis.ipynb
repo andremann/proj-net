{
 "cells": [
  {
   "cell_type": "code",
   "execution_count": 1,
   "metadata": {},
   "outputs": [
    {
     "data": {
      "text/html": [
       "<script type=\"text/javascript\">window.PlotlyConfig = {MathJaxConfig: 'local'};</script><script type=\"text/javascript\">if (window.MathJax) {MathJax.Hub.Config({SVG: {font: \"STIX-Web\"}});}</script><script>requirejs.config({paths: { 'plotly': ['https://cdn.plot.ly/plotly-latest.min']},});if(!window._Plotly) {require(['plotly'],function(plotly) {window._Plotly=plotly;});}</script>"
      ],
      "text/vnd.plotly.v1+html": [
       "<script type=\"text/javascript\">window.PlotlyConfig = {MathJaxConfig: 'local'};</script><script type=\"text/javascript\">if (window.MathJax) {MathJax.Hub.Config({SVG: {font: \"STIX-Web\"}});}</script><script>requirejs.config({paths: { 'plotly': ['https://cdn.plot.ly/plotly-latest.min']},});if(!window._Plotly) {require(['plotly'],function(plotly) {window._Plotly=plotly;});}</script>"
      ]
     },
     "metadata": {},
     "output_type": "display_data"
    }
   ],
   "source": [
    "import numpy as np\n",
    "import pandas as pd\n",
    "pd.set_option('display.max_columns', None)\n",
    "pd.set_option('display.max_colwidth', 50)\n",
    "\n",
    "import networkx as nx\n",
    "from networkx.algorithms import bipartite\n",
    "\n",
    "import pycountry_convert\n",
    "\n",
    "import matplotlib.pyplot as plt\n",
    "import plotly\n",
    "from plotly.offline import iplot, init_notebook_mode\n",
    "import plotly.graph_objs as go\n",
    "import plotly.figure_factory as ff\n",
    "import plotly.io as pio\n",
    "\n",
    "init_notebook_mode(connected=True)"
   ]
  },
  {
   "cell_type": "markdown",
   "metadata": {},
   "source": [
    "# Data preparation"
   ]
  },
  {
   "cell_type": "markdown",
   "metadata": {},
   "source": [
    "## H2020"
   ]
  },
  {
   "cell_type": "code",
   "execution_count": 2,
   "metadata": {},
   "outputs": [],
   "source": [
    "h2020_projects = pd.read_csv('../data/processed/h2020-projects.csv', delimiter='\\t', header=None)\n",
    "h2020_projects.columns = ['rcn', 'reference', 'acronym', 'title', 'total_cost', 'ec_contribution',\n",
    "                    'teaser', 'objective', 'start', 'end', 'status']\n",
    "# h2020_projects.head()"
   ]
  },
  {
   "cell_type": "code",
   "execution_count": 3,
   "metadata": {},
   "outputs": [],
   "source": [
    "h2020_organisations = pd.read_csv('../data/processed/h2020-organisations.csv', delimiter='\\t', header=None)\n",
    "h2020_organisations.columns = ['rcn', 'org_id', 'org_rcn', 'order', 'org_type',\n",
    "                               'short_name', 'legal_name', 'city', 'country', 'contribution']\n",
    "# h2020_organisations.head()"
   ]
  },
  {
   "cell_type": "markdown",
   "metadata": {},
   "source": [
    "## FP7"
   ]
  },
  {
   "cell_type": "code",
   "execution_count": 4,
   "metadata": {},
   "outputs": [],
   "source": [
    "fp7_projects = pd.read_csv('../data/processed/fp7-projects.csv', delimiter='\\t', header=None)\n",
    "fp7_projects.columns = ['rcn', 'reference', 'acronym', 'title', 'total_cost', 'ec_contribution',\n",
    "                    'teaser', 'objective', 'start', 'end', 'status']\n",
    "# fp7_projects.head()"
   ]
  },
  {
   "cell_type": "code",
   "execution_count": 5,
   "metadata": {},
   "outputs": [],
   "source": [
    "fp7_organisations = pd.read_csv('../data/processed/fp7-organisations.csv', delimiter='\\t', header=None)\n",
    "fp7_organisations.columns = ['rcn', 'org_id', 'org_rcn', 'order', 'org_type',\n",
    "                            'short_name', 'legal_name', 'city', 'country', 'contribution']\n",
    "# fp7_organisations.head()"
   ]
  },
  {
   "cell_type": "markdown",
   "metadata": {},
   "source": [
    "## FP6"
   ]
  },
  {
   "cell_type": "code",
   "execution_count": 6,
   "metadata": {},
   "outputs": [],
   "source": [
    "fp6_projects = pd.read_csv('../data/processed/fp6-projects.csv', delimiter='\\t', header=None)\n",
    "fp6_projects.columns = ['rcn', 'reference', 'acronym', 'title', 'total_cost', 'ec_contribution',\n",
    "                    'teaser', 'objective', 'start', 'end', 'status']\n",
    "# fp6_projects.head()"
   ]
  },
  {
   "cell_type": "code",
   "execution_count": 7,
   "metadata": {},
   "outputs": [],
   "source": [
    "fp6_organisations = pd.read_csv('../data/processed/fp6-organisations.csv', delimiter='\\t', header=None)\n",
    "fp6_organisations.columns = ['rcn', 'org_id', 'org_rcn', 'order', 'org_type',\n",
    "                            'short_name', 'legal_name', 'city', 'country', 'contribution']\n",
    "# fp6_organisations.head()"
   ]
  },
  {
   "cell_type": "markdown",
   "metadata": {},
   "source": [
    "## FP5"
   ]
  },
  {
   "cell_type": "code",
   "execution_count": 8,
   "metadata": {},
   "outputs": [],
   "source": [
    "fp5_projects = pd.read_csv('../data/processed/fp5-projects.csv', delimiter='\\t', header=None)\n",
    "fp5_projects.columns = ['rcn', 'reference', 'acronym', 'title', 'total_cost', 'ec_contribution',\n",
    "                    'teaser', 'objective', 'start', 'end', 'status']\n",
    "# fp5_projects.head()"
   ]
  },
  {
   "cell_type": "code",
   "execution_count": 9,
   "metadata": {},
   "outputs": [],
   "source": [
    "fp5_organisations = pd.read_csv('../data/processed/fp5-organisations.csv', delimiter='\\t', header=None)\n",
    "fp5_organisations.columns = ['rcn', 'org_id', 'org_rcn', 'order', 'org_type',\n",
    "                            'short_name', 'legal_name', 'city', 'country', 'contribution']\n",
    "# fp5_organisations.head()"
   ]
  },
  {
   "cell_type": "markdown",
   "metadata": {},
   "source": [
    "## FP4"
   ]
  },
  {
   "cell_type": "code",
   "execution_count": 10,
   "metadata": {},
   "outputs": [],
   "source": [
    "fp4_projects = pd.read_csv('../data/processed/fp4-projects.csv', delimiter='\\t', header=None)\n",
    "fp4_projects.columns = ['rcn', 'reference', 'acronym', 'title', 'total_cost', 'ec_contribution',\n",
    "                    'teaser', 'objective', 'start', 'end', 'status']\n",
    "# fp4_projects.head()"
   ]
  },
  {
   "cell_type": "code",
   "execution_count": 11,
   "metadata": {},
   "outputs": [],
   "source": [
    "fp4_organisations = pd.read_csv('../data/processed/fp4-organisations.csv', delimiter='\\t', header=None)\n",
    "fp4_organisations.columns = ['rcn', 'org_id', 'org_rcn', 'order', 'org_type',\n",
    "                            'short_name', 'legal_name', 'city', 'country', 'contribution']\n",
    "# fp4_organisations.head()"
   ]
  },
  {
   "cell_type": "markdown",
   "metadata": {},
   "source": [
    "## FP3"
   ]
  },
  {
   "cell_type": "code",
   "execution_count": 12,
   "metadata": {},
   "outputs": [],
   "source": [
    "fp3_projects = pd.read_csv('../data/processed/fp3-projects.csv', delimiter='\\t', header=None)\n",
    "fp3_projects.columns = ['rcn', 'reference', 'acronym', 'title', 'total_cost', 'ec_contribution',\n",
    "                    'teaser', 'objective', 'start', 'end', 'status']\n",
    "# fp3_projects.head()"
   ]
  },
  {
   "cell_type": "code",
   "execution_count": 13,
   "metadata": {},
   "outputs": [],
   "source": [
    "fp3_organisations = pd.read_csv('../data/processed/fp3-organisations.csv', delimiter='\\t', header=None)\n",
    "fp3_organisations.columns = ['rcn', 'org_id', 'org_rcn', 'order', 'org_type',\n",
    "                            'short_name', 'legal_name', 'city', 'country', 'contribution']\n",
    "# fp3_organisations.head()"
   ]
  },
  {
   "cell_type": "markdown",
   "metadata": {},
   "source": [
    "## FP2"
   ]
  },
  {
   "cell_type": "code",
   "execution_count": 14,
   "metadata": {},
   "outputs": [],
   "source": [
    "fp2_projects = pd.read_csv('../data/processed/fp2-projects.csv', delimiter='\\t', header=None)\n",
    "fp2_projects.columns = ['rcn', 'reference', 'acronym', 'title', 'total_cost', 'ec_contribution',\n",
    "                    'teaser', 'objective', 'start', 'end', 'status']\n",
    "# fp2_projects.head()"
   ]
  },
  {
   "cell_type": "code",
   "execution_count": 15,
   "metadata": {},
   "outputs": [],
   "source": [
    "fp2_organisations = pd.read_csv('../data/processed/fp2-organisations.csv', delimiter='\\t', header=None)\n",
    "fp2_organisations.columns = ['rcn', 'org_id', 'org_rcn', 'order', 'org_type',\n",
    "                            'short_name', 'legal_name', 'city', 'country', 'contribution']\n",
    "# fp2_organisations.head()"
   ]
  },
  {
   "cell_type": "markdown",
   "metadata": {},
   "source": [
    "# Data analysis"
   ]
  },
  {
   "cell_type": "code",
   "execution_count": 24,
   "metadata": {},
   "outputs": [],
   "source": [
    "all_organisations = pd.concat([h2020_organisations, fp7_organisations, fp6_organisations])\n",
    "all_projects = pd.concat([h2020_projects, fp7_projects, fp6_projects])"
   ]
  },
  {
   "cell_type": "code",
   "execution_count": 25,
   "metadata": {},
   "outputs": [],
   "source": [
    "project_periods = all_projects[['rcn', 'start', 'end']]"
   ]
  },
  {
   "cell_type": "code",
   "execution_count": 26,
   "metadata": {},
   "outputs": [
    {
     "data": {
      "text/html": [
       "<div>\n",
       "<style scoped>\n",
       "    .dataframe tbody tr th:only-of-type {\n",
       "        vertical-align: middle;\n",
       "    }\n",
       "\n",
       "    .dataframe tbody tr th {\n",
       "        vertical-align: top;\n",
       "    }\n",
       "\n",
       "    .dataframe thead th {\n",
       "        text-align: right;\n",
       "    }\n",
       "</style>\n",
       "<table border=\"1\" class=\"dataframe\">\n",
       "  <thead>\n",
       "    <tr style=\"text-align: right;\">\n",
       "      <th></th>\n",
       "      <th>rcn</th>\n",
       "      <th>org_id</th>\n",
       "      <th>org_rcn</th>\n",
       "      <th>order</th>\n",
       "      <th>org_type</th>\n",
       "      <th>short_name</th>\n",
       "      <th>legal_name</th>\n",
       "      <th>city</th>\n",
       "      <th>country</th>\n",
       "      <th>contribution</th>\n",
       "      <th>start</th>\n",
       "      <th>end</th>\n",
       "    </tr>\n",
       "  </thead>\n",
       "  <tbody>\n",
       "    <tr>\n",
       "      <th>0</th>\n",
       "      <td>195398</td>\n",
       "      <td>999835843.0</td>\n",
       "      <td>1905890.0</td>\n",
       "      <td>1</td>\n",
       "      <td>coordinator</td>\n",
       "      <td>ucy</td>\n",
       "      <td>university of cyprus</td>\n",
       "      <td>nicosia</td>\n",
       "      <td>cy</td>\n",
       "      <td>151648.8</td>\n",
       "      <td>2015-05-01</td>\n",
       "      <td>2017-04-30</td>\n",
       "    </tr>\n",
       "    <tr>\n",
       "      <th>1</th>\n",
       "      <td>199945</td>\n",
       "      <td>998929669.0</td>\n",
       "      <td>1908315.0</td>\n",
       "      <td>16</td>\n",
       "      <td>participant</td>\n",
       "      <td>upd</td>\n",
       "      <td>universite paris dauphine</td>\n",
       "      <td>paris cedex 16</td>\n",
       "      <td>fr</td>\n",
       "      <td>45000.0</td>\n",
       "      <td>2016-05-01</td>\n",
       "      <td>2020-04-30</td>\n",
       "    </tr>\n",
       "    <tr>\n",
       "      <th>2</th>\n",
       "      <td>199945</td>\n",
       "      <td>989393987.0</td>\n",
       "      <td>1931502.0</td>\n",
       "      <td>5</td>\n",
       "      <td>participant</td>\n",
       "      <td>efm</td>\n",
       "      <td>entente pour la forêt méditerranéenne</td>\n",
       "      <td>gardanne</td>\n",
       "      <td>fr</td>\n",
       "      <td>36000.0</td>\n",
       "      <td>2016-05-01</td>\n",
       "      <td>2020-04-30</td>\n",
       "    </tr>\n",
       "    <tr>\n",
       "      <th>3</th>\n",
       "      <td>199945</td>\n",
       "      <td>916450860.0</td>\n",
       "      <td>2791186.0</td>\n",
       "      <td>14</td>\n",
       "      <td>participant</td>\n",
       "      <td>uca</td>\n",
       "      <td>universite clermont auvergne</td>\n",
       "      <td>clermont-ferrand</td>\n",
       "      <td>fr</td>\n",
       "      <td>45000.0</td>\n",
       "      <td>2016-05-01</td>\n",
       "      <td>2020-04-30</td>\n",
       "    </tr>\n",
       "    <tr>\n",
       "      <th>4</th>\n",
       "      <td>199945</td>\n",
       "      <td>999974650.0</td>\n",
       "      <td>1906418.0</td>\n",
       "      <td>9</td>\n",
       "      <td>participant</td>\n",
       "      <td>unige</td>\n",
       "      <td>universite de geneve</td>\n",
       "      <td>geneve</td>\n",
       "      <td>ch</td>\n",
       "      <td>40500.0</td>\n",
       "      <td>2016-05-01</td>\n",
       "      <td>2020-04-30</td>\n",
       "    </tr>\n",
       "  </tbody>\n",
       "</table>\n",
       "</div>"
      ],
      "text/plain": [
       "      rcn       org_id    org_rcn  order     org_type short_name  \\\n",
       "0  195398  999835843.0  1905890.0      1  coordinator        ucy   \n",
       "1  199945  998929669.0  1908315.0     16  participant        upd   \n",
       "2  199945  989393987.0  1931502.0      5  participant        efm   \n",
       "3  199945  916450860.0  2791186.0     14  participant        uca   \n",
       "4  199945  999974650.0  1906418.0      9  participant      unige   \n",
       "\n",
       "                              legal_name              city country  \\\n",
       "0                   university of cyprus           nicosia      cy   \n",
       "1              universite paris dauphine    paris cedex 16      fr   \n",
       "2  entente pour la forêt méditerranéenne          gardanne      fr   \n",
       "3           universite clermont auvergne  clermont-ferrand      fr   \n",
       "4                   universite de geneve            geneve      ch   \n",
       "\n",
       "   contribution       start         end  \n",
       "0      151648.8  2015-05-01  2017-04-30  \n",
       "1       45000.0  2016-05-01  2020-04-30  \n",
       "2       36000.0  2016-05-01  2020-04-30  \n",
       "3       45000.0  2016-05-01  2020-04-30  \n",
       "4       40500.0  2016-05-01  2020-04-30  "
      ]
     },
     "execution_count": 26,
     "metadata": {},
     "output_type": "execute_result"
    }
   ],
   "source": [
    "all_organisations = pd.merge(all_organisations, project_periods, left_on='rcn', right_on='rcn')\n",
    "all_organisations.head()"
   ]
  },
  {
   "cell_type": "code",
   "execution_count": 105,
   "metadata": {},
   "outputs": [],
   "source": [
    "all_organisations = all_organisations[(all_organisations.rcn.notna() &\n",
    "                                     all_organisations.org_id.notna() &\n",
    "                                     all_organisations.start.notna() &\n",
    "                                     all_organisations.end.notna())]"
   ]
  },
  {
   "cell_type": "code",
   "execution_count": 111,
   "metadata": {},
   "outputs": [
    {
     "data": {
      "text/html": [
       "<div>\n",
       "<style scoped>\n",
       "    .dataframe tbody tr th:only-of-type {\n",
       "        vertical-align: middle;\n",
       "    }\n",
       "\n",
       "    .dataframe tbody tr th {\n",
       "        vertical-align: top;\n",
       "    }\n",
       "\n",
       "    .dataframe thead th {\n",
       "        text-align: right;\n",
       "    }\n",
       "</style>\n",
       "<table border=\"1\" class=\"dataframe\">\n",
       "  <thead>\n",
       "    <tr style=\"text-align: right;\">\n",
       "      <th></th>\n",
       "      <th>rcn</th>\n",
       "      <th>org_id</th>\n",
       "      <th>org_rcn</th>\n",
       "      <th>order</th>\n",
       "      <th>org_type</th>\n",
       "      <th>short_name</th>\n",
       "      <th>legal_name</th>\n",
       "      <th>city</th>\n",
       "      <th>country</th>\n",
       "      <th>contribution</th>\n",
       "      <th>start</th>\n",
       "      <th>end</th>\n",
       "    </tr>\n",
       "  </thead>\n",
       "  <tbody>\n",
       "    <tr>\n",
       "      <th>count</th>\n",
       "      <td>236213.000000</td>\n",
       "      <td>2.362130e+05</td>\n",
       "      <td>2.361720e+05</td>\n",
       "      <td>236213.000000</td>\n",
       "      <td>236213</td>\n",
       "      <td>234956</td>\n",
       "      <td>236207</td>\n",
       "      <td>236188</td>\n",
       "      <td>236204</td>\n",
       "      <td>2.220570e+05</td>\n",
       "      <td>236213</td>\n",
       "      <td>236213</td>\n",
       "    </tr>\n",
       "    <tr>\n",
       "      <th>unique</th>\n",
       "      <td>NaN</td>\n",
       "      <td>NaN</td>\n",
       "      <td>NaN</td>\n",
       "      <td>NaN</td>\n",
       "      <td>5</td>\n",
       "      <td>41168</td>\n",
       "      <td>48659</td>\n",
       "      <td>13096</td>\n",
       "      <td>190</td>\n",
       "      <td>NaN</td>\n",
       "      <td>1648</td>\n",
       "      <td>2293</td>\n",
       "    </tr>\n",
       "    <tr>\n",
       "      <th>top</th>\n",
       "      <td>NaN</td>\n",
       "      <td>NaN</td>\n",
       "      <td>NaN</td>\n",
       "      <td>NaN</td>\n",
       "      <td>participant</td>\n",
       "      <td>cnrs</td>\n",
       "      <td>centre national de la recherche scientifique cnrs</td>\n",
       "      <td>paris</td>\n",
       "      <td>de</td>\n",
       "      <td>NaN</td>\n",
       "      <td>2017-01-01</td>\n",
       "      <td>2018-12-31</td>\n",
       "    </tr>\n",
       "    <tr>\n",
       "      <th>freq</th>\n",
       "      <td>NaN</td>\n",
       "      <td>NaN</td>\n",
       "      <td>NaN</td>\n",
       "      <td>NaN</td>\n",
       "      <td>181569</td>\n",
       "      <td>2278</td>\n",
       "      <td>2579</td>\n",
       "      <td>7342</td>\n",
       "      <td>30601</td>\n",
       "      <td>NaN</td>\n",
       "      <td>6071</td>\n",
       "      <td>5103</td>\n",
       "    </tr>\n",
       "    <tr>\n",
       "      <th>mean</th>\n",
       "      <td>146848.731530</td>\n",
       "      <td>9.861948e+08</td>\n",
       "      <td>2.032069e+06</td>\n",
       "      <td>11.307489</td>\n",
       "      <td>NaN</td>\n",
       "      <td>NaN</td>\n",
       "      <td>NaN</td>\n",
       "      <td>NaN</td>\n",
       "      <td>NaN</td>\n",
       "      <td>3.724532e+05</td>\n",
       "      <td>NaN</td>\n",
       "      <td>NaN</td>\n",
       "    </tr>\n",
       "    <tr>\n",
       "      <th>std</th>\n",
       "      <td>53450.597238</td>\n",
       "      <td>2.777661e+07</td>\n",
       "      <td>2.586787e+05</td>\n",
       "      <td>58.101905</td>\n",
       "      <td>NaN</td>\n",
       "      <td>NaN</td>\n",
       "      <td>NaN</td>\n",
       "      <td>NaN</td>\n",
       "      <td>NaN</td>\n",
       "      <td>1.088641e+06</td>\n",
       "      <td>NaN</td>\n",
       "      <td>NaN</td>\n",
       "    </tr>\n",
       "    <tr>\n",
       "      <th>min</th>\n",
       "      <td>71137.000000</td>\n",
       "      <td>1.050000e+02</td>\n",
       "      <td>1.905548e+06</td>\n",
       "      <td>-999.000000</td>\n",
       "      <td>NaN</td>\n",
       "      <td>NaN</td>\n",
       "      <td>NaN</td>\n",
       "      <td>NaN</td>\n",
       "      <td>NaN</td>\n",
       "      <td>0.000000e+00</td>\n",
       "      <td>NaN</td>\n",
       "      <td>NaN</td>\n",
       "    </tr>\n",
       "    <tr>\n",
       "      <th>25%</th>\n",
       "      <td>97715.000000</td>\n",
       "      <td>9.881460e+08</td>\n",
       "      <td>1.906232e+06</td>\n",
       "      <td>2.000000</td>\n",
       "      <td>NaN</td>\n",
       "      <td>NaN</td>\n",
       "      <td>NaN</td>\n",
       "      <td>NaN</td>\n",
       "      <td>NaN</td>\n",
       "      <td>9.612500e+04</td>\n",
       "      <td>NaN</td>\n",
       "      <td>NaN</td>\n",
       "    </tr>\n",
       "    <tr>\n",
       "      <th>50%</th>\n",
       "      <td>110092.000000</td>\n",
       "      <td>9.995868e+08</td>\n",
       "      <td>1.910169e+06</td>\n",
       "      <td>5.000000</td>\n",
       "      <td>NaN</td>\n",
       "      <td>NaN</td>\n",
       "      <td>NaN</td>\n",
       "      <td>NaN</td>\n",
       "      <td>NaN</td>\n",
       "      <td>2.150000e+05</td>\n",
       "      <td>NaN</td>\n",
       "      <td>NaN</td>\n",
       "    </tr>\n",
       "    <tr>\n",
       "      <th>75%</th>\n",
       "      <td>203712.000000</td>\n",
       "      <td>9.999324e+08</td>\n",
       "      <td>2.001970e+06</td>\n",
       "      <td>10.000000</td>\n",
       "      <td>NaN</td>\n",
       "      <td>NaN</td>\n",
       "      <td>NaN</td>\n",
       "      <td>NaN</td>\n",
       "      <td>NaN</td>\n",
       "      <td>4.167500e+05</td>\n",
       "      <td>NaN</td>\n",
       "      <td>NaN</td>\n",
       "    </tr>\n",
       "    <tr>\n",
       "      <th>max</th>\n",
       "      <td>220756.000000</td>\n",
       "      <td>9.999979e+08</td>\n",
       "      <td>3.146864e+06</td>\n",
       "      <td>999.000000</td>\n",
       "      <td>NaN</td>\n",
       "      <td>NaN</td>\n",
       "      <td>NaN</td>\n",
       "      <td>NaN</td>\n",
       "      <td>NaN</td>\n",
       "      <td>2.803123e+08</td>\n",
       "      <td>NaN</td>\n",
       "      <td>NaN</td>\n",
       "    </tr>\n",
       "  </tbody>\n",
       "</table>\n",
       "</div>"
      ],
      "text/plain": [
       "                  rcn        org_id       org_rcn          order     org_type  \\\n",
       "count   236213.000000  2.362130e+05  2.361720e+05  236213.000000       236213   \n",
       "unique            NaN           NaN           NaN            NaN            5   \n",
       "top               NaN           NaN           NaN            NaN  participant   \n",
       "freq              NaN           NaN           NaN            NaN       181569   \n",
       "mean    146848.731530  9.861948e+08  2.032069e+06      11.307489          NaN   \n",
       "std      53450.597238  2.777661e+07  2.586787e+05      58.101905          NaN   \n",
       "min      71137.000000  1.050000e+02  1.905548e+06    -999.000000          NaN   \n",
       "25%      97715.000000  9.881460e+08  1.906232e+06       2.000000          NaN   \n",
       "50%     110092.000000  9.995868e+08  1.910169e+06       5.000000          NaN   \n",
       "75%     203712.000000  9.999324e+08  2.001970e+06      10.000000          NaN   \n",
       "max     220756.000000  9.999979e+08  3.146864e+06     999.000000          NaN   \n",
       "\n",
       "       short_name                                         legal_name    city  \\\n",
       "count      234956                                             236207  236188   \n",
       "unique      41168                                              48659   13096   \n",
       "top          cnrs  centre national de la recherche scientifique cnrs   paris   \n",
       "freq         2278                                               2579    7342   \n",
       "mean          NaN                                                NaN     NaN   \n",
       "std           NaN                                                NaN     NaN   \n",
       "min           NaN                                                NaN     NaN   \n",
       "25%           NaN                                                NaN     NaN   \n",
       "50%           NaN                                                NaN     NaN   \n",
       "75%           NaN                                                NaN     NaN   \n",
       "max           NaN                                                NaN     NaN   \n",
       "\n",
       "       country  contribution       start         end  \n",
       "count   236204  2.220570e+05      236213      236213  \n",
       "unique     190           NaN        1648        2293  \n",
       "top         de           NaN  2017-01-01  2018-12-31  \n",
       "freq     30601           NaN        6071        5103  \n",
       "mean       NaN  3.724532e+05         NaN         NaN  \n",
       "std        NaN  1.088641e+06         NaN         NaN  \n",
       "min        NaN  0.000000e+00         NaN         NaN  \n",
       "25%        NaN  9.612500e+04         NaN         NaN  \n",
       "50%        NaN  2.150000e+05         NaN         NaN  \n",
       "75%        NaN  4.167500e+05         NaN         NaN  \n",
       "max        NaN  2.803123e+08         NaN         NaN  "
      ]
     },
     "execution_count": 111,
     "metadata": {},
     "output_type": "execute_result"
    }
   ],
   "source": [
    "all_organisations.describe(include='all')"
   ]
  },
  {
   "cell_type": "code",
   "execution_count": 106,
   "metadata": {},
   "outputs": [],
   "source": [
    "from datetime import datetime\n",
    "def get_edge_labels(start, end):\n",
    "    return range(datetime.strptime(start, '%Y-%m-%d').year,\\\n",
    "                 datetime.strptime(end, '%Y-%m-%d').year+1)"
   ]
  },
  {
   "cell_type": "code",
   "execution_count": 107,
   "metadata": {},
   "outputs": [],
   "source": [
    "projects_nodes = all_organisations.rcn.unique()\n",
    "organisations_nodes = all_organisations.org_id.unique()\n",
    "\n",
    "B = nx.Graph()\n",
    "B.add_nodes_from(projects_nodes, bipartite=0)\n",
    "B.add_nodes_from(organisations_nodes, bipartite=1)\n",
    "\n",
    "for index, row in all_organisations.iterrows():\n",
    "    years = [get_edge_labels(row['start'], row['end'])]\n",
    "    B.add_edge(row['rcn'], row['org_id'], years=years)"
   ]
  },
  {
   "cell_type": "code",
   "execution_count": 108,
   "metadata": {},
   "outputs": [],
   "source": [
    "def plotDegreeDistr(graph):\n",
    "    dh = nx.degree_histogram(graph)\n",
    "    plt.loglog(dh, linewidth=0, marker='o')\n",
    "    plt.title(\"Degree distribution\")\n",
    "    plt.ylabel(\"Number of nodes\")\n",
    "    plt.xlabel(\"Node degree\")"
   ]
  },
  {
   "cell_type": "code",
   "execution_count": 109,
   "metadata": {},
   "outputs": [
    {
     "name": "stdout",
     "output_type": "stream",
     "text": [
      "Name: \n",
      "Type: Graph\n",
      "Number of nodes: 48503\n",
      "Number of edges: 1168614\n",
      "Average degree:  48.1873\n"
     ]
    },
    {
     "data": {
      "image/png": "[encoded data removed]",
      "text/plain": [
       "<Figure size 432x288 with 1 Axes>"
      ]
     },
     "metadata": {
      "needs_background": "light"
     },
     "output_type": "display_data"
    }
   ],
   "source": [
    "G_org = bipartite.projected_graph(B, organisations_nodes)\n",
    "print(nx.info(G_org))\n",
    "plotDegreeDistr(G_org)"
   ]
  },
  {
   "cell_type": "code",
   "execution_count": null,
   "metadata": {},
   "outputs": [],
   "source": []
  }
 ],
 "metadata": {
  "kernelspec": {
   "display_name": "Python 3",
   "language": "python",
   "name": "python3"
  },
  "language_info": {
   "codemirror_mode": {
    "name": "ipython",
    "version": 3
   },
   "file_extension": ".py",
   "mimetype": "text/x-python",
   "name": "python",
   "nbconvert_exporter": "python",
   "pygments_lexer": "ipython3",
   "version": "3.6.3"
  }
 },
 "nbformat": 4,
 "nbformat_minor": 2
}
