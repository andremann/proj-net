{
 "cells": [
  {
   "cell_type": "code",
   "execution_count": 125,
   "metadata": {},
   "outputs": [
    {
     "data": {
      "text/html": [
       "        <script type=\"text/javascript\">\n",
       "        window.PlotlyConfig = {MathJaxConfig: 'local'};\n",
       "        if (window.MathJax && window.MathJax.Hub && window.MathJax.Hub.Config) {window.MathJax.Hub.Config({SVG: {font: \"STIX-Web\"}});}\n",
       "        if (typeof require !== 'undefined') {\n",
       "        require.undef(\"plotly\");\n",
       "        requirejs.config({\n",
       "            paths: {\n",
       "                'plotly': ['https://cdn.plot.ly/plotly-2.12.1.min']\n",
       "            }\n",
       "        });\n",
       "        require(['plotly'], function(Plotly) {\n",
       "            window._Plotly = Plotly;\n",
       "        });\n",
       "        }\n",
       "        </script>\n",
       "        "
      ]
     },
     "metadata": {},
     "output_type": "display_data"
    }
   ],
   "source": [
    "from sklearn import preprocessing\n",
    "\n",
    "import pandas as pd\n",
    "pd.set_option('display.max_columns', None)\n",
    "pd.set_option('display.max_colwidth', 50)\n",
    "\n",
    "import pycountry_convert\n",
    "\n",
    "import plotly\n",
    "from plotly.offline import iplot, init_notebook_mode\n",
    "import plotly.graph_objs as go\n",
    "import plotly.figure_factory as ff\n",
    "import plotly.io as pio\n",
    "\n",
    "init_notebook_mode(connected=True)"
   ]
  },
  {
   "cell_type": "code",
   "execution_count": 126,
   "metadata": {},
   "outputs": [],
   "source": [
    "def iso2_to_countryname(iso2_code):\n",
    "    iso2_code = iso2_code.lower()\n",
    "    if iso2_code == 'uk':\n",
    "        iso2_code = 'gb'\n",
    "    if iso2_code == 'el':\n",
    "        iso2_code = 'gr'\n",
    "    if iso2_code == 'cs':\n",
    "        iso2_code = 'rs'\n",
    "    if iso2_code == 'xk':\n",
    "        return 'Kosovo'\n",
    "    if iso2_code == 'ko':\n",
    "        return 'Kosovo'\n",
    "    if iso2_code == 'an':\n",
    "        return 'NETHERLANDS ANTILLES'\n",
    "    return pycountry_convert.country_alpha2_to_country_name(iso2_code.upper())"
   ]
  },
  {
   "attachments": {},
   "cell_type": "markdown",
   "metadata": {},
   "source": [
    "# Data preparation"
   ]
  },
  {
   "attachments": {},
   "cell_type": "markdown",
   "metadata": {},
   "source": [
    "## Horizon Europe"
   ]
  },
  {
   "cell_type": "code",
   "execution_count": 127,
   "metadata": {},
   "outputs": [
    {
     "data": {
      "text/html": [
       "<div>\n",
       "<style scoped>\n",
       "    .dataframe tbody tr th:only-of-type {\n",
       "        vertical-align: middle;\n",
       "    }\n",
       "\n",
       "    .dataframe tbody tr th {\n",
       "        vertical-align: top;\n",
       "    }\n",
       "\n",
       "    .dataframe thead th {\n",
       "        text-align: right;\n",
       "    }\n",
       "</style>\n",
       "<table border=\"1\" class=\"dataframe\">\n",
       "  <thead>\n",
       "    <tr style=\"text-align: right;\">\n",
       "      <th></th>\n",
       "      <th>id</th>\n",
       "      <th>acronym</th>\n",
       "      <th>status</th>\n",
       "      <th>title</th>\n",
       "      <th>startDate</th>\n",
       "      <th>endDate</th>\n",
       "      <th>totalCost</th>\n",
       "      <th>ecMaxContribution</th>\n",
       "      <th>legalBasis</th>\n",
       "      <th>topics</th>\n",
       "      <th>ecSignatureDate</th>\n",
       "      <th>frameworkProgramme</th>\n",
       "      <th>masterCall</th>\n",
       "      <th>subCall</th>\n",
       "      <th>fundingScheme</th>\n",
       "      <th>nature</th>\n",
       "      <th>objective</th>\n",
       "      <th>contentUpdateDate</th>\n",
       "      <th>rcn</th>\n",
       "      <th>grantDoi</th>\n",
       "    </tr>\n",
       "  </thead>\n",
       "  <tbody>\n",
       "    <tr>\n",
       "      <th>0</th>\n",
       "      <td>101095387</td>\n",
       "      <td>AISym4MED</td>\n",
       "      <td>SIGNED</td>\n",
       "      <td>Synthetic and scalable data platform for medic...</td>\n",
       "      <td>2022-12-01</td>\n",
       "      <td>2026-11-30</td>\n",
       "      <td>6341765</td>\n",
       "      <td>6341765</td>\n",
       "      <td>HORIZON.2.1</td>\n",
       "      <td>HORIZON-HLTH-2022-IND-13-02</td>\n",
       "      <td>2022-11-22</td>\n",
       "      <td>HORIZON</td>\n",
       "      <td>HORIZON-HLTH-2022-IND-13</td>\n",
       "      <td>HORIZON-HLTH-2022-IND-13</td>\n",
       "      <td>RIA</td>\n",
       "      <td>NaN</td>\n",
       "      <td>AISym4Med aims at developing a platform that w...</td>\n",
       "      <td>2022-12-30 17:42:45</td>\n",
       "      <td>244110</td>\n",
       "      <td>10.3030/101095387</td>\n",
       "    </tr>\n",
       "    <tr>\n",
       "      <th>1</th>\n",
       "      <td>101062897</td>\n",
       "      <td>IMPROVE</td>\n",
       "      <td>SIGNED</td>\n",
       "      <td>IMaging PROstate cancer using ViscoElastic bio...</td>\n",
       "      <td>2023-09-01</td>\n",
       "      <td>2025-08-31</td>\n",
       "      <td>0</td>\n",
       "      <td>181152,96</td>\n",
       "      <td>HORIZON.1.2</td>\n",
       "      <td>HORIZON-MSCA-2021-PF-01-01</td>\n",
       "      <td>2022-06-30</td>\n",
       "      <td>HORIZON</td>\n",
       "      <td>HORIZON-MSCA-2021-PF-01</td>\n",
       "      <td>HORIZON-MSCA-2021-PF-01</td>\n",
       "      <td>MSCA-PF</td>\n",
       "      <td>NaN</td>\n",
       "      <td>IMPROVE aims to demonstrate the potentiality o...</td>\n",
       "      <td>2022-08-26 02:24:17</td>\n",
       "      <td>240147</td>\n",
       "      <td>10.3030/101062897</td>\n",
       "    </tr>\n",
       "    <tr>\n",
       "      <th>2</th>\n",
       "      <td>101044731</td>\n",
       "      <td>SAINTBARTH</td>\n",
       "      <td>SIGNED</td>\n",
       "      <td>Slavery, Abolition and Archipelagic Connection...</td>\n",
       "      <td>2024-01-01</td>\n",
       "      <td>2028-12-31</td>\n",
       "      <td>1992925</td>\n",
       "      <td>1992925</td>\n",
       "      <td>HORIZON.1.1</td>\n",
       "      <td>ERC-2021-COG</td>\n",
       "      <td>2022-07-11</td>\n",
       "      <td>HORIZON</td>\n",
       "      <td>ERC-2021-COG</td>\n",
       "      <td>ERC-2021-COG</td>\n",
       "      <td>HORIZON-AG</td>\n",
       "      <td>NaN</td>\n",
       "      <td>Surveys and datasets of the trans-Atlantic sla...</td>\n",
       "      <td>2022-08-26 14:59:15</td>\n",
       "      <td>240177</td>\n",
       "      <td>10.3030/101044731</td>\n",
       "    </tr>\n",
       "    <tr>\n",
       "      <th>3</th>\n",
       "      <td>101065876</td>\n",
       "      <td>TEMP-MOMO</td>\n",
       "      <td>SIGNED</td>\n",
       "      <td>Drivers of spatiotemporal variation in tempera...</td>\n",
       "      <td>2022-09-01</td>\n",
       "      <td>2024-08-31</td>\n",
       "      <td>0</td>\n",
       "      <td>195914,88</td>\n",
       "      <td>HORIZON.1.2</td>\n",
       "      <td>HORIZON-MSCA-2021-PF-01-01</td>\n",
       "      <td>2022-07-13</td>\n",
       "      <td>HORIZON</td>\n",
       "      <td>HORIZON-MSCA-2021-PF-01</td>\n",
       "      <td>HORIZON-MSCA-2021-PF-01</td>\n",
       "      <td>HORIZON-AG-UN</td>\n",
       "      <td>NaN</td>\n",
       "      <td>Europe emerges as a major climate warming hots...</td>\n",
       "      <td>2022-08-26 15:30:46</td>\n",
       "      <td>240278</td>\n",
       "      <td>10.3030/101065876</td>\n",
       "    </tr>\n",
       "    <tr>\n",
       "      <th>4</th>\n",
       "      <td>101057389</td>\n",
       "      <td>CINDERELLA</td>\n",
       "      <td>SIGNED</td>\n",
       "      <td>Clinical Validation of an AI-based approach to...</td>\n",
       "      <td>2022-06-01</td>\n",
       "      <td>2026-05-31</td>\n",
       "      <td>5379050</td>\n",
       "      <td>5378299</td>\n",
       "      <td>HORIZON.2.1</td>\n",
       "      <td>HORIZON-HLTH-2021-DISEASE-04-04</td>\n",
       "      <td>2022-05-23</td>\n",
       "      <td>HORIZON</td>\n",
       "      <td>HORIZON-HLTH-2021-DISEASE-04</td>\n",
       "      <td>HORIZON-HLTH-2021-DISEASE-04</td>\n",
       "      <td>RIA</td>\n",
       "      <td>NaN</td>\n",
       "      <td>Breast cancer is the most commonly diagnosed c...</td>\n",
       "      <td>2022-09-04 13:43:33</td>\n",
       "      <td>241461</td>\n",
       "      <td>10.3030/101057389</td>\n",
       "    </tr>\n",
       "  </tbody>\n",
       "</table>\n",
       "</div>"
      ],
      "text/plain": [
       "          id     acronym  status  \\\n",
       "0  101095387   AISym4MED  SIGNED   \n",
       "1  101062897     IMPROVE  SIGNED   \n",
       "2  101044731  SAINTBARTH  SIGNED   \n",
       "3  101065876   TEMP-MOMO  SIGNED   \n",
       "4  101057389  CINDERELLA  SIGNED   \n",
       "\n",
       "                                               title   startDate     endDate  \\\n",
       "0  Synthetic and scalable data platform for medic...  2022-12-01  2026-11-30   \n",
       "1  IMaging PROstate cancer using ViscoElastic bio...  2023-09-01  2025-08-31   \n",
       "2  Slavery, Abolition and Archipelagic Connection...  2024-01-01  2028-12-31   \n",
       "3  Drivers of spatiotemporal variation in tempera...  2022-09-01  2024-08-31   \n",
       "4  Clinical Validation of an AI-based approach to...  2022-06-01  2026-05-31   \n",
       "\n",
       "  totalCost ecMaxContribution   legalBasis                           topics  \\\n",
       "0   6341765           6341765  HORIZON.2.1      HORIZON-HLTH-2022-IND-13-02   \n",
       "1         0         181152,96  HORIZON.1.2       HORIZON-MSCA-2021-PF-01-01   \n",
       "2   1992925           1992925  HORIZON.1.1                     ERC-2021-COG   \n",
       "3         0         195914,88  HORIZON.1.2       HORIZON-MSCA-2021-PF-01-01   \n",
       "4   5379050           5378299  HORIZON.2.1  HORIZON-HLTH-2021-DISEASE-04-04   \n",
       "\n",
       "  ecSignatureDate frameworkProgramme                    masterCall  \\\n",
       "0      2022-11-22            HORIZON      HORIZON-HLTH-2022-IND-13   \n",
       "1      2022-06-30            HORIZON       HORIZON-MSCA-2021-PF-01   \n",
       "2      2022-07-11            HORIZON                  ERC-2021-COG   \n",
       "3      2022-07-13            HORIZON       HORIZON-MSCA-2021-PF-01   \n",
       "4      2022-05-23            HORIZON  HORIZON-HLTH-2021-DISEASE-04   \n",
       "\n",
       "                        subCall  fundingScheme  nature  \\\n",
       "0      HORIZON-HLTH-2022-IND-13            RIA     NaN   \n",
       "1       HORIZON-MSCA-2021-PF-01        MSCA-PF     NaN   \n",
       "2                  ERC-2021-COG     HORIZON-AG     NaN   \n",
       "3       HORIZON-MSCA-2021-PF-01  HORIZON-AG-UN     NaN   \n",
       "4  HORIZON-HLTH-2021-DISEASE-04            RIA     NaN   \n",
       "\n",
       "                                           objective    contentUpdateDate  \\\n",
       "0  AISym4Med aims at developing a platform that w...  2022-12-30 17:42:45   \n",
       "1  IMPROVE aims to demonstrate the potentiality o...  2022-08-26 02:24:17   \n",
       "2  Surveys and datasets of the trans-Atlantic sla...  2022-08-26 14:59:15   \n",
       "3  Europe emerges as a major climate warming hots...  2022-08-26 15:30:46   \n",
       "4  Breast cancer is the most commonly diagnosed c...  2022-09-04 13:43:33   \n",
       "\n",
       "      rcn           grantDoi  \n",
       "0  244110  10.3030/101095387  \n",
       "1  240147  10.3030/101062897  \n",
       "2  240177  10.3030/101044731  \n",
       "3  240278  10.3030/101065876  \n",
       "4  241461  10.3030/101057389  "
      ]
     },
     "execution_count": 127,
     "metadata": {},
     "output_type": "execute_result"
    }
   ],
   "source": [
    "he_projects = pd.read_csv('../data/raw/cordis-HORIZONprojects-csv/csv/project.csv', delimiter=';')\n",
    "he_projects.head()"
   ]
  },
  {
   "cell_type": "code",
   "execution_count": 128,
   "metadata": {},
   "outputs": [
    {
     "data": {
      "text/html": [
       "<div>\n",
       "<style scoped>\n",
       "    .dataframe tbody tr th:only-of-type {\n",
       "        vertical-align: middle;\n",
       "    }\n",
       "\n",
       "    .dataframe tbody tr th {\n",
       "        vertical-align: top;\n",
       "    }\n",
       "\n",
       "    .dataframe thead th {\n",
       "        text-align: right;\n",
       "    }\n",
       "</style>\n",
       "<table border=\"1\" class=\"dataframe\">\n",
       "  <thead>\n",
       "    <tr style=\"text-align: right;\">\n",
       "      <th></th>\n",
       "      <th>projectID</th>\n",
       "      <th>projectAcronym</th>\n",
       "      <th>organisationID</th>\n",
       "      <th>vatNumber</th>\n",
       "      <th>name</th>\n",
       "      <th>shortName</th>\n",
       "      <th>SME</th>\n",
       "      <th>activityType</th>\n",
       "      <th>street</th>\n",
       "      <th>postCode</th>\n",
       "      <th>city</th>\n",
       "      <th>country</th>\n",
       "      <th>nutsCode</th>\n",
       "      <th>geolocation</th>\n",
       "      <th>organizationURL</th>\n",
       "      <th>contactForm</th>\n",
       "      <th>contentUpdateDate</th>\n",
       "      <th>rcn</th>\n",
       "      <th>order</th>\n",
       "      <th>role</th>\n",
       "      <th>ecContribution</th>\n",
       "      <th>netEcContribution</th>\n",
       "      <th>totalCost</th>\n",
       "      <th>endOfParticipation</th>\n",
       "      <th>active</th>\n",
       "    </tr>\n",
       "  </thead>\n",
       "  <tbody>\n",
       "    <tr>\n",
       "      <th>0</th>\n",
       "      <td>101095387</td>\n",
       "      <td>AISym4MED</td>\n",
       "      <td>908114874</td>\n",
       "      <td>BE0692797754</td>\n",
       "      <td>ZABALA BRUSSELS</td>\n",
       "      <td>ZABALA BRUSSELS</td>\n",
       "      <td>True</td>\n",
       "      <td>PRC</td>\n",
       "      <td>RUE BELLIARD 20</td>\n",
       "      <td>1040</td>\n",
       "      <td>BRUXELLES</td>\n",
       "      <td>BE</td>\n",
       "      <td>NaN</td>\n",
       "      <td>50.840092,4.3814743</td>\n",
       "      <td>NaN</td>\n",
       "      <td>https://ec.europa.eu/info/funding-tenders/oppo...</td>\n",
       "      <td>2022-12-30 17:42:45</td>\n",
       "      <td>1954294</td>\n",
       "      <td>5</td>\n",
       "      <td>participant</td>\n",
       "      <td>464375.0</td>\n",
       "      <td>464375.0</td>\n",
       "      <td>464375</td>\n",
       "      <td>False</td>\n",
       "      <td>NaN</td>\n",
       "    </tr>\n",
       "    <tr>\n",
       "      <th>1</th>\n",
       "      <td>101095387</td>\n",
       "      <td>AISym4MED</td>\n",
       "      <td>900973055</td>\n",
       "      <td>FI29362646</td>\n",
       "      <td>SAIDOT OY</td>\n",
       "      <td>SAIDOT</td>\n",
       "      <td>True</td>\n",
       "      <td>PRC</td>\n",
       "      <td>TEKNIIKANTIE 2</td>\n",
       "      <td>02150</td>\n",
       "      <td>Espoo</td>\n",
       "      <td>FI</td>\n",
       "      <td>NaN</td>\n",
       "      <td>60.1668875,24.7488936</td>\n",
       "      <td>NaN</td>\n",
       "      <td>https://ec.europa.eu/info/funding-tenders/oppo...</td>\n",
       "      <td>2022-12-30 17:42:45</td>\n",
       "      <td>1965161</td>\n",
       "      <td>11</td>\n",
       "      <td>participant</td>\n",
       "      <td>548750.0</td>\n",
       "      <td>548750.0</td>\n",
       "      <td>548750</td>\n",
       "      <td>False</td>\n",
       "      <td>NaN</td>\n",
       "    </tr>\n",
       "    <tr>\n",
       "      <th>2</th>\n",
       "      <td>101095387</td>\n",
       "      <td>AISym4MED</td>\n",
       "      <td>991228063</td>\n",
       "      <td>BE0890217005</td>\n",
       "      <td>TIME.LEX</td>\n",
       "      <td>time.lex</td>\n",
       "      <td>True</td>\n",
       "      <td>PRC</td>\n",
       "      <td>JOSEPH STEVENSSTRAAT 7</td>\n",
       "      <td>1000</td>\n",
       "      <td>BRUSSEL</td>\n",
       "      <td>BE</td>\n",
       "      <td>NaN</td>\n",
       "      <td>50.8413225,4.3524748</td>\n",
       "      <td>NaN</td>\n",
       "      <td>https://ec.europa.eu/info/funding-tenders/oppo...</td>\n",
       "      <td>2022-12-30 17:42:45</td>\n",
       "      <td>2349568</td>\n",
       "      <td>7</td>\n",
       "      <td>participant</td>\n",
       "      <td>417187.5</td>\n",
       "      <td>417187.5</td>\n",
       "      <td>417187,5</td>\n",
       "      <td>False</td>\n",
       "      <td>NaN</td>\n",
       "    </tr>\n",
       "    <tr>\n",
       "      <th>3</th>\n",
       "      <td>101095387</td>\n",
       "      <td>AISym4MED</td>\n",
       "      <td>999993468</td>\n",
       "      <td>GB649926678</td>\n",
       "      <td>IMPERIAL COLLEGE OF SCIENCE TECHNOLOGY AND MED...</td>\n",
       "      <td>Imperial</td>\n",
       "      <td>False</td>\n",
       "      <td>HES</td>\n",
       "      <td>SOUTH KENSINGTON CAMPUS EXHIBITION ROAD</td>\n",
       "      <td>SW7 2AZ</td>\n",
       "      <td>LONDON</td>\n",
       "      <td>UK</td>\n",
       "      <td>NaN</td>\n",
       "      <td>51.5073219,-0.1276473</td>\n",
       "      <td>http://www.imperial.ac.uk</td>\n",
       "      <td>https://ec.europa.eu/info/funding-tenders/oppo...</td>\n",
       "      <td>2022-12-30 17:42:45</td>\n",
       "      <td>1905566</td>\n",
       "      <td>14</td>\n",
       "      <td>associatedPartner</td>\n",
       "      <td>NaN</td>\n",
       "      <td>0.0</td>\n",
       "      <td>NaN</td>\n",
       "      <td>False</td>\n",
       "      <td>NaN</td>\n",
       "    </tr>\n",
       "    <tr>\n",
       "      <th>4</th>\n",
       "      <td>101095387</td>\n",
       "      <td>AISym4MED</td>\n",
       "      <td>974142483</td>\n",
       "      <td>ESA50086412</td>\n",
       "      <td>INSTRUMENTACION Y COMPONENTES SA</td>\n",
       "      <td>NaN</td>\n",
       "      <td>False</td>\n",
       "      <td>PRC</td>\n",
       "      <td>CALLE ALAUN 8 PLA ZA</td>\n",
       "      <td>50197</td>\n",
       "      <td>ZARAGOZA</td>\n",
       "      <td>ES</td>\n",
       "      <td>NaN</td>\n",
       "      <td>41.6410997,-0.9956188</td>\n",
       "      <td>www.inycom.es</td>\n",
       "      <td>https://ec.europa.eu/info/funding-tenders/oppo...</td>\n",
       "      <td>2022-12-30 17:42:45</td>\n",
       "      <td>2054577</td>\n",
       "      <td>2</td>\n",
       "      <td>participant</td>\n",
       "      <td>1205000.0</td>\n",
       "      <td>1205000.0</td>\n",
       "      <td>1205000</td>\n",
       "      <td>False</td>\n",
       "      <td>NaN</td>\n",
       "    </tr>\n",
       "  </tbody>\n",
       "</table>\n",
       "</div>"
      ],
      "text/plain": [
       "   projectID projectAcronym  organisationID     vatNumber  \\\n",
       "0  101095387      AISym4MED       908114874  BE0692797754   \n",
       "1  101095387      AISym4MED       900973055    FI29362646   \n",
       "2  101095387      AISym4MED       991228063  BE0890217005   \n",
       "3  101095387      AISym4MED       999993468   GB649926678   \n",
       "4  101095387      AISym4MED       974142483   ESA50086412   \n",
       "\n",
       "                                                name        shortName    SME  \\\n",
       "0                                    ZABALA BRUSSELS  ZABALA BRUSSELS   True   \n",
       "1                                          SAIDOT OY           SAIDOT   True   \n",
       "2                                           TIME.LEX         time.lex   True   \n",
       "3  IMPERIAL COLLEGE OF SCIENCE TECHNOLOGY AND MED...         Imperial  False   \n",
       "4                   INSTRUMENTACION Y COMPONENTES SA              NaN  False   \n",
       "\n",
       "  activityType                                   street postCode       city  \\\n",
       "0          PRC                          RUE BELLIARD 20     1040  BRUXELLES   \n",
       "1          PRC                           TEKNIIKANTIE 2    02150      Espoo   \n",
       "2          PRC                   JOSEPH STEVENSSTRAAT 7     1000    BRUSSEL   \n",
       "3          HES  SOUTH KENSINGTON CAMPUS EXHIBITION ROAD  SW7 2AZ     LONDON   \n",
       "4          PRC                     CALLE ALAUN 8 PLA ZA    50197   ZARAGOZA   \n",
       "\n",
       "  country  nutsCode            geolocation            organizationURL  \\\n",
       "0      BE       NaN    50.840092,4.3814743                        NaN   \n",
       "1      FI       NaN  60.1668875,24.7488936                        NaN   \n",
       "2      BE       NaN   50.8413225,4.3524748                        NaN   \n",
       "3      UK       NaN  51.5073219,-0.1276473  http://www.imperial.ac.uk   \n",
       "4      ES       NaN  41.6410997,-0.9956188              www.inycom.es   \n",
       "\n",
       "                                         contactForm    contentUpdateDate  \\\n",
       "0  https://ec.europa.eu/info/funding-tenders/oppo...  2022-12-30 17:42:45   \n",
       "1  https://ec.europa.eu/info/funding-tenders/oppo...  2022-12-30 17:42:45   \n",
       "2  https://ec.europa.eu/info/funding-tenders/oppo...  2022-12-30 17:42:45   \n",
       "3  https://ec.europa.eu/info/funding-tenders/oppo...  2022-12-30 17:42:45   \n",
       "4  https://ec.europa.eu/info/funding-tenders/oppo...  2022-12-30 17:42:45   \n",
       "\n",
       "       rcn  order               role  ecContribution  netEcContribution  \\\n",
       "0  1954294      5        participant        464375.0           464375.0   \n",
       "1  1965161     11        participant        548750.0           548750.0   \n",
       "2  2349568      7        participant        417187.5           417187.5   \n",
       "3  1905566     14  associatedPartner             NaN                0.0   \n",
       "4  2054577      2        participant       1205000.0          1205000.0   \n",
       "\n",
       "  totalCost  endOfParticipation  active  \n",
       "0    464375               False     NaN  \n",
       "1    548750               False     NaN  \n",
       "2  417187,5               False     NaN  \n",
       "3       NaN               False     NaN  \n",
       "4   1205000               False     NaN  "
      ]
     },
     "execution_count": 128,
     "metadata": {},
     "output_type": "execute_result"
    }
   ],
   "source": [
    "he_organisations = pd.read_csv('../data/raw/cordis-HORIZONprojects-csv/csv/organization.csv', delimiter=';')\n",
    "he_organisations.head()"
   ]
  },
  {
   "attachments": {},
   "cell_type": "markdown",
   "metadata": {},
   "source": [
    "## H2020"
   ]
  },
  {
   "cell_type": "code",
   "execution_count": 129,
   "metadata": {},
   "outputs": [
    {
     "data": {
      "text/html": [
       "<div>\n",
       "<style scoped>\n",
       "    .dataframe tbody tr th:only-of-type {\n",
       "        vertical-align: middle;\n",
       "    }\n",
       "\n",
       "    .dataframe tbody tr th {\n",
       "        vertical-align: top;\n",
       "    }\n",
       "\n",
       "    .dataframe thead th {\n",
       "        text-align: right;\n",
       "    }\n",
       "</style>\n",
       "<table border=\"1\" class=\"dataframe\">\n",
       "  <thead>\n",
       "    <tr style=\"text-align: right;\">\n",
       "      <th></th>\n",
       "      <th>id</th>\n",
       "      <th>acronym</th>\n",
       "      <th>status</th>\n",
       "      <th>title</th>\n",
       "      <th>startDate</th>\n",
       "      <th>endDate</th>\n",
       "      <th>totalCost</th>\n",
       "      <th>ecMaxContribution</th>\n",
       "      <th>legalBasis</th>\n",
       "      <th>topics</th>\n",
       "      <th>ecSignatureDate</th>\n",
       "      <th>frameworkProgramme</th>\n",
       "      <th>masterCall</th>\n",
       "      <th>subCall</th>\n",
       "      <th>fundingScheme</th>\n",
       "      <th>nature</th>\n",
       "      <th>objective</th>\n",
       "      <th>contentUpdateDate</th>\n",
       "      <th>rcn</th>\n",
       "      <th>grantDoi</th>\n",
       "    </tr>\n",
       "  </thead>\n",
       "  <tbody>\n",
       "    <tr>\n",
       "      <th>0</th>\n",
       "      <td>101015557</td>\n",
       "      <td>SOAR</td>\n",
       "      <td>SIGNED</td>\n",
       "      <td>Supporting Open Access for Researchers and Pro...</td>\n",
       "      <td>2020-06-01</td>\n",
       "      <td>2023-05-31</td>\n",
       "      <td>299930</td>\n",
       "      <td>299930</td>\n",
       "      <td>H2020-EU.5.e.</td>\n",
       "      <td>IBA-SWAFS-PlanS-2020</td>\n",
       "      <td>2020-12-11</td>\n",
       "      <td>H2020</td>\n",
       "      <td>H2020-IBA-SWAFS-PlanS-2020</td>\n",
       "      <td>H2020-IBA-SWAFS-PlanS-2020</td>\n",
       "      <td>CSA</td>\n",
       "      <td>NaN</td>\n",
       "      <td>Recognizing their duty as research funders and...</td>\n",
       "      <td>2022-09-08 19:31:35</td>\n",
       "      <td>232717</td>\n",
       "      <td>10.3030/101015557</td>\n",
       "    </tr>\n",
       "    <tr>\n",
       "      <th>1</th>\n",
       "      <td>682529</td>\n",
       "      <td>PLANTCULT</td>\n",
       "      <td>CLOSED</td>\n",
       "      <td>Identifying the food cultures of ancient Europ...</td>\n",
       "      <td>2016-04-01</td>\n",
       "      <td>2022-03-31</td>\n",
       "      <td>1891875</td>\n",
       "      <td>1891875</td>\n",
       "      <td>NaN</td>\n",
       "      <td>ERC-CoG-2015</td>\n",
       "      <td>2016-03-16</td>\n",
       "      <td>H2020</td>\n",
       "      <td>ERC-2015-CoG</td>\n",
       "      <td>ERC-2015-CoG</td>\n",
       "      <td>ERC-COG</td>\n",
       "      <td>NaN</td>\n",
       "      <td>The project seeks to explore culinary practice...</td>\n",
       "      <td>2023-03-10 14:08:03</td>\n",
       "      <td>202606</td>\n",
       "      <td>10.3030/682529</td>\n",
       "    </tr>\n",
       "    <tr>\n",
       "      <th>2</th>\n",
       "      <td>640213</td>\n",
       "      <td>TRA VISIONS 2016</td>\n",
       "      <td>CLOSED</td>\n",
       "      <td>TRA VISIONS 2016</td>\n",
       "      <td>2014-12-01</td>\n",
       "      <td>2016-11-30</td>\n",
       "      <td>499937,5</td>\n",
       "      <td>499937,5</td>\n",
       "      <td>H2020-EU.3.4.</td>\n",
       "      <td>MG-9.7-2014</td>\n",
       "      <td>2014-11-20</td>\n",
       "      <td>H2020</td>\n",
       "      <td>H2020-MG-2014-2015</td>\n",
       "      <td>H2020-MG-2014_SingleStage_A</td>\n",
       "      <td>CSA</td>\n",
       "      <td>NaN</td>\n",
       "      <td>The concept of this project is to organise two...</td>\n",
       "      <td>2022-09-04 00:18:23</td>\n",
       "      <td>193701</td>\n",
       "      <td>10.3030/640213</td>\n",
       "    </tr>\n",
       "    <tr>\n",
       "      <th>3</th>\n",
       "      <td>101017207</td>\n",
       "      <td>DICE</td>\n",
       "      <td>SIGNED</td>\n",
       "      <td>Data Infrastructure Capacity for EOSC</td>\n",
       "      <td>2021-01-01</td>\n",
       "      <td>2023-06-30</td>\n",
       "      <td>6997706</td>\n",
       "      <td>6997706</td>\n",
       "      <td>H2020-EU.1.4.</td>\n",
       "      <td>INFRAEOSC-07-2020</td>\n",
       "      <td>2020-12-03</td>\n",
       "      <td>H2020</td>\n",
       "      <td>H2020-INFRAEOSC-2018-2020</td>\n",
       "      <td>H2020-INFRAEOSC-2020-2</td>\n",
       "      <td>RIA</td>\n",
       "      <td>NaN</td>\n",
       "      <td>The Data Infrastructure Capacities for EOSC (D...</td>\n",
       "      <td>2022-10-11 18:22:53</td>\n",
       "      <td>232561</td>\n",
       "      <td>10.3030/101017207</td>\n",
       "    </tr>\n",
       "    <tr>\n",
       "      <th>4</th>\n",
       "      <td>825694</td>\n",
       "      <td>MICROB-PREDICT</td>\n",
       "      <td>SIGNED</td>\n",
       "      <td>MICROBiome-based biomarkers to PREDICT decompe...</td>\n",
       "      <td>2019-01-01</td>\n",
       "      <td>2025-03-31</td>\n",
       "      <td>15000002,5</td>\n",
       "      <td>15000000</td>\n",
       "      <td>H2020-EU.3.1.</td>\n",
       "      <td>SC1-BHC-03-2018</td>\n",
       "      <td>2018-12-03</td>\n",
       "      <td>H2020</td>\n",
       "      <td>H2020-SC1-BHC-2018-2020</td>\n",
       "      <td>H2020-SC1-2018-Single-Stage-RTD</td>\n",
       "      <td>RIA</td>\n",
       "      <td>NaN</td>\n",
       "      <td>Decompensation of liver cirrhosis and progress...</td>\n",
       "      <td>2023-02-21 15:17:05</td>\n",
       "      <td>220953</td>\n",
       "      <td>10.3030/825694</td>\n",
       "    </tr>\n",
       "  </tbody>\n",
       "</table>\n",
       "</div>"
      ],
      "text/plain": [
       "          id           acronym  status  \\\n",
       "0  101015557              SOAR  SIGNED   \n",
       "1     682529         PLANTCULT  CLOSED   \n",
       "2     640213  TRA VISIONS 2016  CLOSED   \n",
       "3  101017207              DICE  SIGNED   \n",
       "4     825694    MICROB-PREDICT  SIGNED   \n",
       "\n",
       "                                               title   startDate     endDate  \\\n",
       "0  Supporting Open Access for Researchers and Pro...  2020-06-01  2023-05-31   \n",
       "1  Identifying the food cultures of ancient Europ...  2016-04-01  2022-03-31   \n",
       "2                                   TRA VISIONS 2016  2014-12-01  2016-11-30   \n",
       "3              Data Infrastructure Capacity for EOSC  2021-01-01  2023-06-30   \n",
       "4  MICROBiome-based biomarkers to PREDICT decompe...  2019-01-01  2025-03-31   \n",
       "\n",
       "    totalCost ecMaxContribution     legalBasis                topics  \\\n",
       "0      299930            299930  H2020-EU.5.e.  IBA-SWAFS-PlanS-2020   \n",
       "1     1891875           1891875            NaN          ERC-CoG-2015   \n",
       "2    499937,5          499937,5  H2020-EU.3.4.           MG-9.7-2014   \n",
       "3     6997706           6997706  H2020-EU.1.4.     INFRAEOSC-07-2020   \n",
       "4  15000002,5          15000000  H2020-EU.3.1.       SC1-BHC-03-2018   \n",
       "\n",
       "  ecSignatureDate frameworkProgramme                  masterCall  \\\n",
       "0      2020-12-11              H2020  H2020-IBA-SWAFS-PlanS-2020   \n",
       "1      2016-03-16              H2020                ERC-2015-CoG   \n",
       "2      2014-11-20              H2020          H2020-MG-2014-2015   \n",
       "3      2020-12-03              H2020   H2020-INFRAEOSC-2018-2020   \n",
       "4      2018-12-03              H2020     H2020-SC1-BHC-2018-2020   \n",
       "\n",
       "                           subCall fundingScheme nature  \\\n",
       "0       H2020-IBA-SWAFS-PlanS-2020           CSA    NaN   \n",
       "1                     ERC-2015-CoG       ERC-COG    NaN   \n",
       "2      H2020-MG-2014_SingleStage_A           CSA    NaN   \n",
       "3           H2020-INFRAEOSC-2020-2           RIA    NaN   \n",
       "4  H2020-SC1-2018-Single-Stage-RTD           RIA    NaN   \n",
       "\n",
       "                                           objective    contentUpdateDate  \\\n",
       "0  Recognizing their duty as research funders and...  2022-09-08 19:31:35   \n",
       "1  The project seeks to explore culinary practice...  2023-03-10 14:08:03   \n",
       "2  The concept of this project is to organise two...  2022-09-04 00:18:23   \n",
       "3  The Data Infrastructure Capacities for EOSC (D...  2022-10-11 18:22:53   \n",
       "4  Decompensation of liver cirrhosis and progress...  2023-02-21 15:17:05   \n",
       "\n",
       "      rcn           grantDoi  \n",
       "0  232717  10.3030/101015557  \n",
       "1  202606     10.3030/682529  \n",
       "2  193701     10.3030/640213  \n",
       "3  232561  10.3030/101017207  \n",
       "4  220953     10.3030/825694  "
      ]
     },
     "execution_count": 129,
     "metadata": {},
     "output_type": "execute_result"
    }
   ],
   "source": [
    "h2020_projects = pd.read_csv('../data/raw/cordis-h2020projects-csv/csv/project.csv', delimiter=';')\n",
    "h2020_projects.head()"
   ]
  },
  {
   "cell_type": "code",
   "execution_count": 130,
   "metadata": {},
   "outputs": [
    {
     "data": {
      "text/html": [
       "<div>\n",
       "<style scoped>\n",
       "    .dataframe tbody tr th:only-of-type {\n",
       "        vertical-align: middle;\n",
       "    }\n",
       "\n",
       "    .dataframe tbody tr th {\n",
       "        vertical-align: top;\n",
       "    }\n",
       "\n",
       "    .dataframe thead th {\n",
       "        text-align: right;\n",
       "    }\n",
       "</style>\n",
       "<table border=\"1\" class=\"dataframe\">\n",
       "  <thead>\n",
       "    <tr style=\"text-align: right;\">\n",
       "      <th></th>\n",
       "      <th>projectID</th>\n",
       "      <th>projectAcronym</th>\n",
       "      <th>organisationID</th>\n",
       "      <th>vatNumber</th>\n",
       "      <th>name</th>\n",
       "      <th>shortName</th>\n",
       "      <th>SME</th>\n",
       "      <th>activityType</th>\n",
       "      <th>street</th>\n",
       "      <th>postCode</th>\n",
       "      <th>city</th>\n",
       "      <th>country</th>\n",
       "      <th>nutsCode</th>\n",
       "      <th>geolocation</th>\n",
       "      <th>organizationURL</th>\n",
       "      <th>contactForm</th>\n",
       "      <th>contentUpdateDate</th>\n",
       "      <th>rcn</th>\n",
       "      <th>order</th>\n",
       "      <th>role</th>\n",
       "      <th>ecContribution</th>\n",
       "      <th>netEcContribution</th>\n",
       "      <th>totalCost</th>\n",
       "      <th>endOfParticipation</th>\n",
       "      <th>active</th>\n",
       "    </tr>\n",
       "  </thead>\n",
       "  <tbody>\n",
       "    <tr>\n",
       "      <th>0</th>\n",
       "      <td>101000002</td>\n",
       "      <td>Access2EIC</td>\n",
       "      <td>917116668</td>\n",
       "      <td>IL500501960</td>\n",
       "      <td>NATIONAL TECHNOLOGICAL INNOVATION AUTHORITY</td>\n",
       "      <td>Israel Innovation Authority</td>\n",
       "      <td>False</td>\n",
       "      <td>PUB</td>\n",
       "      <td>2 ND DERECH AGUDAT SPORT HAPOEL BUILDING 23 - ...</td>\n",
       "      <td>6812511</td>\n",
       "      <td>Jerusalem</td>\n",
       "      <td>IL</td>\n",
       "      <td>NaN</td>\n",
       "      <td>32.0653393,34.7649233</td>\n",
       "      <td>NaN</td>\n",
       "      <td>https://ec.europa.eu/info/funding-tenders/oppo...</td>\n",
       "      <td>2022-09-08 19:15:19</td>\n",
       "      <td>3146617</td>\n",
       "      <td>5</td>\n",
       "      <td>participant</td>\n",
       "      <td>35250.0</td>\n",
       "      <td>35250.0</td>\n",
       "      <td>35250</td>\n",
       "      <td>False</td>\n",
       "      <td>NaN</td>\n",
       "    </tr>\n",
       "    <tr>\n",
       "      <th>1</th>\n",
       "      <td>101000002</td>\n",
       "      <td>Access2EIC</td>\n",
       "      <td>951533044</td>\n",
       "      <td>SK2020798395</td>\n",
       "      <td>CENTRUM VEDECKO TECHNICKYCH INFORMACII SLOVENS...</td>\n",
       "      <td>CVTISR</td>\n",
       "      <td>False</td>\n",
       "      <td>PUB</td>\n",
       "      <td>LAMACSKA CESTA 8 A</td>\n",
       "      <td>811 04</td>\n",
       "      <td>Bratislava</td>\n",
       "      <td>SK</td>\n",
       "      <td>NaN</td>\n",
       "      <td>48.1747912,17.0654592</td>\n",
       "      <td>www.cvtisr.sk</td>\n",
       "      <td>https://ec.europa.eu/info/funding-tenders/oppo...</td>\n",
       "      <td>2022-09-08 19:15:19</td>\n",
       "      <td>2210750</td>\n",
       "      <td>13</td>\n",
       "      <td>participant</td>\n",
       "      <td>27150.0</td>\n",
       "      <td>27150.0</td>\n",
       "      <td>27150</td>\n",
       "      <td>False</td>\n",
       "      <td>NaN</td>\n",
       "    </tr>\n",
       "    <tr>\n",
       "      <th>2</th>\n",
       "      <td>101000002</td>\n",
       "      <td>Access2EIC</td>\n",
       "      <td>966064323</td>\n",
       "      <td>FR27320252489</td>\n",
       "      <td>BPIFRANCE</td>\n",
       "      <td>BPIFRANCE</td>\n",
       "      <td>False</td>\n",
       "      <td>PRC</td>\n",
       "      <td>AVENUE DU GENERAL LECLERC 27-31</td>\n",
       "      <td>94710</td>\n",
       "      <td>MAISON ALFORT</td>\n",
       "      <td>FR</td>\n",
       "      <td>NaN</td>\n",
       "      <td>48.8148757,2.4235448</td>\n",
       "      <td>http://www.oseo.fr</td>\n",
       "      <td>https://ec.europa.eu/info/funding-tenders/oppo...</td>\n",
       "      <td>2022-09-08 19:15:19</td>\n",
       "      <td>1908958</td>\n",
       "      <td>8</td>\n",
       "      <td>participant</td>\n",
       "      <td>130375.0</td>\n",
       "      <td>130375.0</td>\n",
       "      <td>130375</td>\n",
       "      <td>False</td>\n",
       "      <td>NaN</td>\n",
       "    </tr>\n",
       "    <tr>\n",
       "      <th>3</th>\n",
       "      <td>101000002</td>\n",
       "      <td>Access2EIC</td>\n",
       "      <td>996614570</td>\n",
       "      <td>NO986399445MVA</td>\n",
       "      <td>Innovasjon Norge</td>\n",
       "      <td>Innovasjon Norge</td>\n",
       "      <td>False</td>\n",
       "      <td>OTH</td>\n",
       "      <td>Akersgata  13</td>\n",
       "      <td>0104</td>\n",
       "      <td>Oslo</td>\n",
       "      <td>NO</td>\n",
       "      <td>NaN</td>\n",
       "      <td>59.9112341,10.7392022</td>\n",
       "      <td>http://www.innovasjonnorge.no</td>\n",
       "      <td>https://ec.europa.eu/info/funding-tenders/oppo...</td>\n",
       "      <td>2022-09-08 19:15:19</td>\n",
       "      <td>2203397</td>\n",
       "      <td>7</td>\n",
       "      <td>participant</td>\n",
       "      <td>60300.0</td>\n",
       "      <td>60300.0</td>\n",
       "      <td>60300</td>\n",
       "      <td>False</td>\n",
       "      <td>NaN</td>\n",
       "    </tr>\n",
       "    <tr>\n",
       "      <th>4</th>\n",
       "      <td>101000002</td>\n",
       "      <td>Access2EIC</td>\n",
       "      <td>999419034</td>\n",
       "      <td>BG130534477</td>\n",
       "      <td>GIS-TRANSFERCENTER FOUNDATION</td>\n",
       "      <td>GIS-TC</td>\n",
       "      <td>False</td>\n",
       "      <td>OTH</td>\n",
       "      <td>ACAD G BONCHEV ST BLOCK 4</td>\n",
       "      <td>1113</td>\n",
       "      <td>SOFIA</td>\n",
       "      <td>BG</td>\n",
       "      <td>NaN</td>\n",
       "      <td>42.6977211,23.3225964</td>\n",
       "      <td>www.gis-tc.org</td>\n",
       "      <td>https://ec.europa.eu/info/funding-tenders/oppo...</td>\n",
       "      <td>2022-09-08 19:15:19</td>\n",
       "      <td>1908968</td>\n",
       "      <td>12</td>\n",
       "      <td>participant</td>\n",
       "      <td>35125.0</td>\n",
       "      <td>35125.0</td>\n",
       "      <td>35125</td>\n",
       "      <td>False</td>\n",
       "      <td>NaN</td>\n",
       "    </tr>\n",
       "  </tbody>\n",
       "</table>\n",
       "</div>"
      ],
      "text/plain": [
       "   projectID projectAcronym  organisationID       vatNumber  \\\n",
       "0  101000002     Access2EIC       917116668     IL500501960   \n",
       "1  101000002     Access2EIC       951533044    SK2020798395   \n",
       "2  101000002     Access2EIC       966064323   FR27320252489   \n",
       "3  101000002     Access2EIC       996614570  NO986399445MVA   \n",
       "4  101000002     Access2EIC       999419034     BG130534477   \n",
       "\n",
       "                                                name  \\\n",
       "0        NATIONAL TECHNOLOGICAL INNOVATION AUTHORITY   \n",
       "1  CENTRUM VEDECKO TECHNICKYCH INFORMACII SLOVENS...   \n",
       "2                                          BPIFRANCE   \n",
       "3                                   Innovasjon Norge   \n",
       "4                      GIS-TRANSFERCENTER FOUNDATION   \n",
       "\n",
       "                     shortName    SME activityType  \\\n",
       "0  Israel Innovation Authority  False          PUB   \n",
       "1                       CVTISR  False          PUB   \n",
       "2                    BPIFRANCE  False          PRC   \n",
       "3             Innovasjon Norge  False          OTH   \n",
       "4                       GIS-TC  False          OTH   \n",
       "\n",
       "                                              street postCode           city  \\\n",
       "0  2 ND DERECH AGUDAT SPORT HAPOEL BUILDING 23 - ...  6812511      Jerusalem   \n",
       "1                                 LAMACSKA CESTA 8 A   811 04     Bratislava   \n",
       "2                    AVENUE DU GENERAL LECLERC 27-31    94710  MAISON ALFORT   \n",
       "3                                      Akersgata  13     0104           Oslo   \n",
       "4                          ACAD G BONCHEV ST BLOCK 4     1113          SOFIA   \n",
       "\n",
       "  country  nutsCode            geolocation                organizationURL  \\\n",
       "0      IL       NaN  32.0653393,34.7649233                            NaN   \n",
       "1      SK       NaN  48.1747912,17.0654592                  www.cvtisr.sk   \n",
       "2      FR       NaN   48.8148757,2.4235448             http://www.oseo.fr   \n",
       "3      NO       NaN  59.9112341,10.7392022  http://www.innovasjonnorge.no   \n",
       "4      BG       NaN  42.6977211,23.3225964                 www.gis-tc.org   \n",
       "\n",
       "                                         contactForm    contentUpdateDate  \\\n",
       "0  https://ec.europa.eu/info/funding-tenders/oppo...  2022-09-08 19:15:19   \n",
       "1  https://ec.europa.eu/info/funding-tenders/oppo...  2022-09-08 19:15:19   \n",
       "2  https://ec.europa.eu/info/funding-tenders/oppo...  2022-09-08 19:15:19   \n",
       "3  https://ec.europa.eu/info/funding-tenders/oppo...  2022-09-08 19:15:19   \n",
       "4  https://ec.europa.eu/info/funding-tenders/oppo...  2022-09-08 19:15:19   \n",
       "\n",
       "       rcn  order         role  ecContribution  netEcContribution totalCost  \\\n",
       "0  3146617      5  participant         35250.0            35250.0     35250   \n",
       "1  2210750     13  participant         27150.0            27150.0     27150   \n",
       "2  1908958      8  participant        130375.0           130375.0    130375   \n",
       "3  2203397      7  participant         60300.0            60300.0     60300   \n",
       "4  1908968     12  participant         35125.0            35125.0     35125   \n",
       "\n",
       "   endOfParticipation active  \n",
       "0               False    NaN  \n",
       "1               False    NaN  \n",
       "2               False    NaN  \n",
       "3               False    NaN  \n",
       "4               False    NaN  "
      ]
     },
     "execution_count": 130,
     "metadata": {},
     "output_type": "execute_result"
    }
   ],
   "source": [
    "h2020_organisations = pd.read_csv('../data/raw/cordis-h2020projects-csv/csv/organization.csv', delimiter=';')\n",
    "h2020_organisations.head()"
   ]
  },
  {
   "attachments": {},
   "cell_type": "markdown",
   "metadata": {},
   "source": [
    "## FP7"
   ]
  },
  {
   "cell_type": "code",
   "execution_count": 131,
   "metadata": {},
   "outputs": [
    {
     "data": {
      "text/html": [
       "<div>\n",
       "<style scoped>\n",
       "    .dataframe tbody tr th:only-of-type {\n",
       "        vertical-align: middle;\n",
       "    }\n",
       "\n",
       "    .dataframe tbody tr th {\n",
       "        vertical-align: top;\n",
       "    }\n",
       "\n",
       "    .dataframe thead th {\n",
       "        text-align: right;\n",
       "    }\n",
       "</style>\n",
       "<table border=\"1\" class=\"dataframe\">\n",
       "  <thead>\n",
       "    <tr style=\"text-align: right;\">\n",
       "      <th></th>\n",
       "      <th>id</th>\n",
       "      <th>acronym</th>\n",
       "      <th>status</th>\n",
       "      <th>title</th>\n",
       "      <th>startDate</th>\n",
       "      <th>endDate</th>\n",
       "      <th>totalCost</th>\n",
       "      <th>ecMaxContribution</th>\n",
       "      <th>legalBasis</th>\n",
       "      <th>topics</th>\n",
       "      <th>ecSignatureDate</th>\n",
       "      <th>frameworkProgramme</th>\n",
       "      <th>masterCall</th>\n",
       "      <th>subCall</th>\n",
       "      <th>fundingScheme</th>\n",
       "      <th>nature</th>\n",
       "      <th>objective</th>\n",
       "      <th>contentUpdateDate</th>\n",
       "      <th>rcn</th>\n",
       "      <th>grantDoi</th>\n",
       "    </tr>\n",
       "  </thead>\n",
       "  <tbody>\n",
       "    <tr>\n",
       "      <th>0</th>\n",
       "      <td>314743</td>\n",
       "      <td>WINN</td>\n",
       "      <td>CLO</td>\n",
       "      <td>European Platform Driving KnoWledge to INNovat...</td>\n",
       "      <td>2012-10-01</td>\n",
       "      <td>2015-03-31</td>\n",
       "      <td>1147423,05</td>\n",
       "      <td>1023117</td>\n",
       "      <td>FP7-TRANSPORT</td>\n",
       "      <td>GC.SST.2012.3-3.</td>\n",
       "      <td>NaN</td>\n",
       "      <td>FP7</td>\n",
       "      <td>NaN</td>\n",
       "      <td>FP7-SST-2012-RTD-1</td>\n",
       "      <td>CSA-CA</td>\n",
       "      <td>NaN</td>\n",
       "      <td>European Platform Driving KnoWledge to INNovat...</td>\n",
       "      <td>2016-07-25 10:06:36</td>\n",
       "      <td>105756</td>\n",
       "      <td>NaN</td>\n",
       "    </tr>\n",
       "    <tr>\n",
       "      <th>1</th>\n",
       "      <td>218355</td>\n",
       "      <td>CHEMXCHANGE</td>\n",
       "      <td>CLO</td>\n",
       "      <td>Development of a cost effective system for exc...</td>\n",
       "      <td>2009-01-01</td>\n",
       "      <td>2012-10-31</td>\n",
       "      <td>2973160,8</td>\n",
       "      <td>2226426</td>\n",
       "      <td>FP7-SME</td>\n",
       "      <td>SME-2</td>\n",
       "      <td>NaN</td>\n",
       "      <td>FP7</td>\n",
       "      <td>NaN</td>\n",
       "      <td>FP7-SME-2007-2</td>\n",
       "      <td>BSG-SME-AG</td>\n",
       "      <td>NaN</td>\n",
       "      <td>This proposal addresses the great challenge fa...</td>\n",
       "      <td>2017-05-29 17:05:22</td>\n",
       "      <td>89532</td>\n",
       "      <td>NaN</td>\n",
       "    </tr>\n",
       "    <tr>\n",
       "      <th>2</th>\n",
       "      <td>319179</td>\n",
       "      <td>M-FUTURE2013</td>\n",
       "      <td>CLO</td>\n",
       "      <td>ManuFuture View on Horizon 2020</td>\n",
       "      <td>2012-09-01</td>\n",
       "      <td>2014-01-31</td>\n",
       "      <td>484193,48</td>\n",
       "      <td>444876</td>\n",
       "      <td>FP7-NMP</td>\n",
       "      <td>NMP.2012.4.0-4</td>\n",
       "      <td>NaN</td>\n",
       "      <td>FP7</td>\n",
       "      <td>NaN</td>\n",
       "      <td>FP7-NMP-2012-CSA-6</td>\n",
       "      <td>CSA-SA</td>\n",
       "      <td>NaN</td>\n",
       "      <td>In order to increase the coordination efforts ...</td>\n",
       "      <td>2022-02-11 10:30:54</td>\n",
       "      <td>104759</td>\n",
       "      <td>NaN</td>\n",
       "    </tr>\n",
       "    <tr>\n",
       "      <th>3</th>\n",
       "      <td>268116</td>\n",
       "      <td>WIRE2010</td>\n",
       "      <td>CLO</td>\n",
       "      <td>Week of Innovative Regions in Europe</td>\n",
       "      <td>2009-09-01</td>\n",
       "      <td>2010-12-31</td>\n",
       "      <td>632666</td>\n",
       "      <td>600000</td>\n",
       "      <td>FP7-REGIONS</td>\n",
       "      <td>REGIONS</td>\n",
       "      <td>NaN</td>\n",
       "      <td>FP7</td>\n",
       "      <td>NaN</td>\n",
       "      <td>FP7-Adhoc-2007-13</td>\n",
       "      <td>CSA-SA</td>\n",
       "      <td>NaN</td>\n",
       "      <td>The Week of Innovative Regions in Europe (WIRE...</td>\n",
       "      <td>2017-05-29 21:09:56</td>\n",
       "      <td>96428</td>\n",
       "      <td>NaN</td>\n",
       "    </tr>\n",
       "    <tr>\n",
       "      <th>4</th>\n",
       "      <td>611433</td>\n",
       "      <td>MED-Dialogue</td>\n",
       "      <td>CLO</td>\n",
       "      <td>PROMOTING ICT DIALOGUE AND COOPERATION WITH TH...</td>\n",
       "      <td>2014-01-01</td>\n",
       "      <td>2016-06-30</td>\n",
       "      <td>948088,00</td>\n",
       "      <td>777189,00</td>\n",
       "      <td>FP7-ICT</td>\n",
       "      <td>ICT-2013.10.3</td>\n",
       "      <td>NaN</td>\n",
       "      <td>FP7</td>\n",
       "      <td>NaN</td>\n",
       "      <td>FP7-ICT-2013-10</td>\n",
       "      <td>CSA</td>\n",
       "      <td>NaN</td>\n",
       "      <td>In line with the new concept in Horizon 2020 w...</td>\n",
       "      <td>2017-04-22 03:05:07</td>\n",
       "      <td>189032</td>\n",
       "      <td>NaN</td>\n",
       "    </tr>\n",
       "  </tbody>\n",
       "</table>\n",
       "</div>"
      ],
      "text/plain": [
       "       id       acronym status  \\\n",
       "0  314743          WINN    CLO   \n",
       "1  218355   CHEMXCHANGE    CLO   \n",
       "2  319179  M-FUTURE2013    CLO   \n",
       "3  268116      WIRE2010    CLO   \n",
       "4  611433  MED-Dialogue    CLO   \n",
       "\n",
       "                                               title   startDate     endDate  \\\n",
       "0  European Platform Driving KnoWledge to INNovat...  2012-10-01  2015-03-31   \n",
       "1  Development of a cost effective system for exc...  2009-01-01  2012-10-31   \n",
       "2                    ManuFuture View on Horizon 2020  2012-09-01  2014-01-31   \n",
       "3               Week of Innovative Regions in Europe  2009-09-01  2010-12-31   \n",
       "4  PROMOTING ICT DIALOGUE AND COOPERATION WITH TH...  2014-01-01  2016-06-30   \n",
       "\n",
       "    totalCost ecMaxContribution     legalBasis            topics  \\\n",
       "0  1147423,05           1023117  FP7-TRANSPORT  GC.SST.2012.3-3.   \n",
       "1   2973160,8           2226426        FP7-SME             SME-2   \n",
       "2   484193,48            444876        FP7-NMP    NMP.2012.4.0-4   \n",
       "3      632666            600000    FP7-REGIONS           REGIONS   \n",
       "4   948088,00         777189,00        FP7-ICT     ICT-2013.10.3   \n",
       "\n",
       "   ecSignatureDate frameworkProgramme  masterCall             subCall  \\\n",
       "0              NaN                FP7         NaN  FP7-SST-2012-RTD-1   \n",
       "1              NaN                FP7         NaN      FP7-SME-2007-2   \n",
       "2              NaN                FP7         NaN  FP7-NMP-2012-CSA-6   \n",
       "3              NaN                FP7         NaN   FP7-Adhoc-2007-13   \n",
       "4              NaN                FP7         NaN     FP7-ICT-2013-10   \n",
       "\n",
       "  fundingScheme nature                                          objective  \\\n",
       "0        CSA-CA    NaN  European Platform Driving KnoWledge to INNovat...   \n",
       "1    BSG-SME-AG    NaN  This proposal addresses the great challenge fa...   \n",
       "2        CSA-SA    NaN  In order to increase the coordination efforts ...   \n",
       "3        CSA-SA    NaN  The Week of Innovative Regions in Europe (WIRE...   \n",
       "4           CSA    NaN  In line with the new concept in Horizon 2020 w...   \n",
       "\n",
       "     contentUpdateDate     rcn  grantDoi  \n",
       "0  2016-07-25 10:06:36  105756       NaN  \n",
       "1  2017-05-29 17:05:22   89532       NaN  \n",
       "2  2022-02-11 10:30:54  104759       NaN  \n",
       "3  2017-05-29 21:09:56   96428       NaN  \n",
       "4  2017-04-22 03:05:07  189032       NaN  "
      ]
     },
     "execution_count": 131,
     "metadata": {},
     "output_type": "execute_result"
    }
   ],
   "source": [
    "fp7_projects = pd.read_csv('../data/raw/cordis-fp7projects-csv/csv/project.csv', delimiter=';')\n",
    "fp7_projects.head()"
   ]
  },
  {
   "cell_type": "code",
   "execution_count": 132,
   "metadata": {},
   "outputs": [
    {
     "name": "stderr",
     "output_type": "stream",
     "text": [
      "/var/folders/j8/sgmsw3_510nbtw4brgpr222r0000gn/T/ipykernel_78184/104554316.py:1: DtypeWarning:\n",
      "\n",
      "Columns (17,20) have mixed types. Specify dtype option on import or set low_memory=False.\n",
      "\n"
     ]
    },
    {
     "data": {
      "text/html": [
       "<div>\n",
       "<style scoped>\n",
       "    .dataframe tbody tr th:only-of-type {\n",
       "        vertical-align: middle;\n",
       "    }\n",
       "\n",
       "    .dataframe tbody tr th {\n",
       "        vertical-align: top;\n",
       "    }\n",
       "\n",
       "    .dataframe thead th {\n",
       "        text-align: right;\n",
       "    }\n",
       "</style>\n",
       "<table border=\"1\" class=\"dataframe\">\n",
       "  <thead>\n",
       "    <tr style=\"text-align: right;\">\n",
       "      <th></th>\n",
       "      <th>projectID</th>\n",
       "      <th>projectAcronym</th>\n",
       "      <th>organisationID</th>\n",
       "      <th>vatNumber</th>\n",
       "      <th>name</th>\n",
       "      <th>shortName</th>\n",
       "      <th>SME</th>\n",
       "      <th>activityType</th>\n",
       "      <th>street</th>\n",
       "      <th>postCode</th>\n",
       "      <th>city</th>\n",
       "      <th>country</th>\n",
       "      <th>nutsCode</th>\n",
       "      <th>geolocation</th>\n",
       "      <th>organizationURL</th>\n",
       "      <th>contactForm</th>\n",
       "      <th>contentUpdateDate</th>\n",
       "      <th>rcn</th>\n",
       "      <th>order</th>\n",
       "      <th>role</th>\n",
       "      <th>ecContribution</th>\n",
       "      <th>netEcContribution</th>\n",
       "      <th>totalCost</th>\n",
       "      <th>endOfParticipation</th>\n",
       "      <th>active</th>\n",
       "    </tr>\n",
       "  </thead>\n",
       "  <tbody>\n",
       "    <tr>\n",
       "      <th>0</th>\n",
       "      <td>314743</td>\n",
       "      <td>WINN</td>\n",
       "      <td>999663183.0</td>\n",
       "      <td>PL7770020410</td>\n",
       "      <td>INSTYTUT LOGISTYKI I MAGAZYNOWANIA</td>\n",
       "      <td>ILiM</td>\n",
       "      <td>NaN</td>\n",
       "      <td>REC</td>\n",
       "      <td>UL ESTKOWSKIEGO 6</td>\n",
       "      <td>61-755</td>\n",
       "      <td>POZNAN</td>\n",
       "      <td>PL</td>\n",
       "      <td>NaN</td>\n",
       "      <td>52.34864345,16.77593215258902</td>\n",
       "      <td>http://www.ilim.poznan.pl</td>\n",
       "      <td>https://ec.europa.eu/info/funding-tenders/oppo...</td>\n",
       "      <td>2016-07-25 10:06:36</td>\n",
       "      <td>1913608</td>\n",
       "      <td>4</td>\n",
       "      <td>participant</td>\n",
       "      <td>116202</td>\n",
       "      <td>NaN</td>\n",
       "      <td>NaN</td>\n",
       "      <td>False</td>\n",
       "      <td>NaN</td>\n",
       "    </tr>\n",
       "    <tr>\n",
       "      <th>1</th>\n",
       "      <td>314743</td>\n",
       "      <td>WINN</td>\n",
       "      <td>957164476.0</td>\n",
       "      <td>ESG99187494</td>\n",
       "      <td>CENTRO NACIONAL DE COMPETENCIA EN LOGISTICA IN...</td>\n",
       "      <td>CNC-LOGISTICA</td>\n",
       "      <td>NaN</td>\n",
       "      <td>OTH</td>\n",
       "      <td>EDIFICIO NAYADE , BLOQUE 5, CALLE BARI 55</td>\n",
       "      <td>50197</td>\n",
       "      <td>ZARAGOZA</td>\n",
       "      <td>ES</td>\n",
       "      <td>NaN</td>\n",
       "      <td>41.6521342,-0.8809427</td>\n",
       "      <td>www.cnc-logistica.org</td>\n",
       "      <td>https://ec.europa.eu/info/funding-tenders/oppo...</td>\n",
       "      <td>2016-07-25 10:06:36</td>\n",
       "      <td>1947334</td>\n",
       "      <td>1</td>\n",
       "      <td>coordinator</td>\n",
       "      <td>255811</td>\n",
       "      <td>NaN</td>\n",
       "      <td>NaN</td>\n",
       "      <td>False</td>\n",
       "      <td>NaN</td>\n",
       "    </tr>\n",
       "    <tr>\n",
       "      <th>2</th>\n",
       "      <td>314743</td>\n",
       "      <td>WINN</td>\n",
       "      <td>973028341.0</td>\n",
       "      <td>IT03002431207</td>\n",
       "      <td>BLUEGREEN STRATEGY SRL</td>\n",
       "      <td>BLUEGREEN</td>\n",
       "      <td>NaN</td>\n",
       "      <td>PRC</td>\n",
       "      <td>VIA ISONZO 59/2</td>\n",
       "      <td>40033</td>\n",
       "      <td>CASALECCHIO DI RENO BO</td>\n",
       "      <td>IT</td>\n",
       "      <td>NaN</td>\n",
       "      <td>44.4867184,11.2696976</td>\n",
       "      <td>www.bluegreenstrategy.com</td>\n",
       "      <td>https://ec.europa.eu/info/funding-tenders/oppo...</td>\n",
       "      <td>2016-07-25 10:06:36</td>\n",
       "      <td>1913614</td>\n",
       "      <td>6</td>\n",
       "      <td>participant</td>\n",
       "      <td>74070.75</td>\n",
       "      <td>NaN</td>\n",
       "      <td>NaN</td>\n",
       "      <td>False</td>\n",
       "      <td>NaN</td>\n",
       "    </tr>\n",
       "    <tr>\n",
       "      <th>3</th>\n",
       "      <td>314743</td>\n",
       "      <td>WINN</td>\n",
       "      <td>959628470.0</td>\n",
       "      <td>BE0840574977</td>\n",
       "      <td>ALLIANCE FOR LOGISTICS INNOVATION THROUGH COLL...</td>\n",
       "      <td>ALICE</td>\n",
       "      <td>NaN</td>\n",
       "      <td>REC</td>\n",
       "      <td>AVENUE JACQUES BREL 38/0</td>\n",
       "      <td>1200</td>\n",
       "      <td>BRUXELLES</td>\n",
       "      <td>BE</td>\n",
       "      <td>NaN</td>\n",
       "      <td>50.8465565,4.351697</td>\n",
       "      <td>NaN</td>\n",
       "      <td>https://ec.europa.eu/info/funding-tenders/oppo...</td>\n",
       "      <td>2016-07-25 10:06:36</td>\n",
       "      <td>1947336</td>\n",
       "      <td>3</td>\n",
       "      <td>participant</td>\n",
       "      <td>107654</td>\n",
       "      <td>NaN</td>\n",
       "      <td>NaN</td>\n",
       "      <td>False</td>\n",
       "      <td>NaN</td>\n",
       "    </tr>\n",
       "    <tr>\n",
       "      <th>4</th>\n",
       "      <td>314743</td>\n",
       "      <td>WINN</td>\n",
       "      <td>970780463.0</td>\n",
       "      <td>NL821037055B01</td>\n",
       "      <td>STICHTING DUTCH INSTITUTE FOR ADVANCED LOGISTICS</td>\n",
       "      <td>DINALOG</td>\n",
       "      <td>NaN</td>\n",
       "      <td>REC</td>\n",
       "      <td>GRAAF ENGELBERTLAAN 75 2E VERDIEPING</td>\n",
       "      <td>4837 DS</td>\n",
       "      <td>BREDA</td>\n",
       "      <td>NL</td>\n",
       "      <td>NaN</td>\n",
       "      <td>51.5752505,4.7300273</td>\n",
       "      <td>www.dinalog.nl</td>\n",
       "      <td>https://ec.europa.eu/info/funding-tenders/oppo...</td>\n",
       "      <td>2016-07-25 10:06:36</td>\n",
       "      <td>1913162</td>\n",
       "      <td>2</td>\n",
       "      <td>participant</td>\n",
       "      <td>313411</td>\n",
       "      <td>NaN</td>\n",
       "      <td>NaN</td>\n",
       "      <td>False</td>\n",
       "      <td>NaN</td>\n",
       "    </tr>\n",
       "  </tbody>\n",
       "</table>\n",
       "</div>"
      ],
      "text/plain": [
       "   projectID projectAcronym  organisationID       vatNumber  \\\n",
       "0     314743           WINN     999663183.0    PL7770020410   \n",
       "1     314743           WINN     957164476.0     ESG99187494   \n",
       "2     314743           WINN     973028341.0   IT03002431207   \n",
       "3     314743           WINN     959628470.0    BE0840574977   \n",
       "4     314743           WINN     970780463.0  NL821037055B01   \n",
       "\n",
       "                                                name      shortName  SME  \\\n",
       "0                 INSTYTUT LOGISTYKI I MAGAZYNOWANIA           ILiM  NaN   \n",
       "1  CENTRO NACIONAL DE COMPETENCIA EN LOGISTICA IN...  CNC-LOGISTICA  NaN   \n",
       "2                             BLUEGREEN STRATEGY SRL      BLUEGREEN  NaN   \n",
       "3  ALLIANCE FOR LOGISTICS INNOVATION THROUGH COLL...          ALICE  NaN   \n",
       "4   STICHTING DUTCH INSTITUTE FOR ADVANCED LOGISTICS        DINALOG  NaN   \n",
       "\n",
       "  activityType                                     street postCode  \\\n",
       "0          REC                          UL ESTKOWSKIEGO 6   61-755   \n",
       "1          OTH  EDIFICIO NAYADE , BLOQUE 5, CALLE BARI 55    50197   \n",
       "2          PRC                            VIA ISONZO 59/2    40033   \n",
       "3          REC                   AVENUE JACQUES BREL 38/0     1200   \n",
       "4          REC       GRAAF ENGELBERTLAAN 75 2E VERDIEPING  4837 DS   \n",
       "\n",
       "                     city country  nutsCode                    geolocation  \\\n",
       "0                  POZNAN      PL       NaN  52.34864345,16.77593215258902   \n",
       "1                ZARAGOZA      ES       NaN          41.6521342,-0.8809427   \n",
       "2  CASALECCHIO DI RENO BO      IT       NaN          44.4867184,11.2696976   \n",
       "3               BRUXELLES      BE       NaN            50.8465565,4.351697   \n",
       "4                   BREDA      NL       NaN           51.5752505,4.7300273   \n",
       "\n",
       "             organizationURL  \\\n",
       "0  http://www.ilim.poznan.pl   \n",
       "1      www.cnc-logistica.org   \n",
       "2  www.bluegreenstrategy.com   \n",
       "3                        NaN   \n",
       "4             www.dinalog.nl   \n",
       "\n",
       "                                         contactForm    contentUpdateDate  \\\n",
       "0  https://ec.europa.eu/info/funding-tenders/oppo...  2016-07-25 10:06:36   \n",
       "1  https://ec.europa.eu/info/funding-tenders/oppo...  2016-07-25 10:06:36   \n",
       "2  https://ec.europa.eu/info/funding-tenders/oppo...  2016-07-25 10:06:36   \n",
       "3  https://ec.europa.eu/info/funding-tenders/oppo...  2016-07-25 10:06:36   \n",
       "4  https://ec.europa.eu/info/funding-tenders/oppo...  2016-07-25 10:06:36   \n",
       "\n",
       "       rcn  order         role ecContribution  netEcContribution  totalCost  \\\n",
       "0  1913608      4  participant         116202                NaN        NaN   \n",
       "1  1947334      1  coordinator         255811                NaN        NaN   \n",
       "2  1913614      6  participant       74070.75                NaN        NaN   \n",
       "3  1947336      3  participant         107654                NaN        NaN   \n",
       "4  1913162      2  participant         313411                NaN        NaN   \n",
       "\n",
       "  endOfParticipation  active  \n",
       "0              False     NaN  \n",
       "1              False     NaN  \n",
       "2              False     NaN  \n",
       "3              False     NaN  \n",
       "4              False     NaN  "
      ]
     },
     "execution_count": 132,
     "metadata": {},
     "output_type": "execute_result"
    }
   ],
   "source": [
    "fp7_organisations = pd.read_csv('../data/raw/cordis-fp7projects-csv/csv/organization.csv', delimiter=';')\n",
    "fp7_organisations.head()"
   ]
  },
  {
   "attachments": {},
   "cell_type": "markdown",
   "metadata": {},
   "source": [
    "## FP6"
   ]
  },
  {
   "cell_type": "code",
   "execution_count": 133,
   "metadata": {},
   "outputs": [
    {
     "data": {
      "text/html": [
       "<div>\n",
       "<style scoped>\n",
       "    .dataframe tbody tr th:only-of-type {\n",
       "        vertical-align: middle;\n",
       "    }\n",
       "\n",
       "    .dataframe tbody tr th {\n",
       "        vertical-align: top;\n",
       "    }\n",
       "\n",
       "    .dataframe thead th {\n",
       "        text-align: right;\n",
       "    }\n",
       "</style>\n",
       "<table border=\"1\" class=\"dataframe\">\n",
       "  <thead>\n",
       "    <tr style=\"text-align: right;\">\n",
       "      <th></th>\n",
       "      <th>rcn</th>\n",
       "      <th>id</th>\n",
       "      <th>acronym</th>\n",
       "      <th>status</th>\n",
       "      <th>programme</th>\n",
       "      <th>topics</th>\n",
       "      <th>frameworkProgramme</th>\n",
       "      <th>title</th>\n",
       "      <th>startDate</th>\n",
       "      <th>endDate</th>\n",
       "      <th>projectUrl</th>\n",
       "      <th>objective</th>\n",
       "      <th>totalCost</th>\n",
       "      <th>ecMaxContribution</th>\n",
       "      <th>call</th>\n",
       "      <th>fundingScheme</th>\n",
       "      <th>coordinator</th>\n",
       "      <th>coordinatorCountry</th>\n",
       "      <th>participants</th>\n",
       "      <th>participantCountries</th>\n",
       "      <th>subjects</th>\n",
       "    </tr>\n",
       "  </thead>\n",
       "  <tbody>\n",
       "    <tr>\n",
       "      <th>0</th>\n",
       "      <td>72765</td>\n",
       "      <td>4265</td>\n",
       "      <td>COREGRID</td>\n",
       "      <td>NaN</td>\n",
       "      <td>FP6-IST</td>\n",
       "      <td>IST-2002-2.3.2.8</td>\n",
       "      <td>FP6</td>\n",
       "      <td>European research network on foundations, soft...</td>\n",
       "      <td>2004-09-01</td>\n",
       "      <td>2008-08-31</td>\n",
       "      <td>http://www.coregrid.net/</td>\n",
       "      <td>CoreGRID aims at strengthening and advancing s...</td>\n",
       "      <td>NaN</td>\n",
       "      <td>8200000</td>\n",
       "      <td>NaN</td>\n",
       "      <td>NoE</td>\n",
       "      <td>GEIE ERCIM</td>\n",
       "      <td>FR</td>\n",
       "      <td>UNIVERSITE HENRI POINCARE NANCY 1;UNIVERSITE J...</td>\n",
       "      <td>FR;UK;SE;HU;BE;IT;DE;FI;CY;CZ;NL;ES;BG;PL;CL;A...</td>\n",
       "      <td>NaN</td>\n",
       "    </tr>\n",
       "    <tr>\n",
       "      <th>1</th>\n",
       "      <td>79369</td>\n",
       "      <td>034084</td>\n",
       "      <td>SELFMAN</td>\n",
       "      <td>NaN</td>\n",
       "      <td>FP6-IST</td>\n",
       "      <td>IST-2005-2.5.5</td>\n",
       "      <td>FP6</td>\n",
       "      <td>Self Management for large-scale distributed sy...</td>\n",
       "      <td>2006-06-01</td>\n",
       "      <td>2009-05-31</td>\n",
       "      <td>http://www.ist-selfman.org/wiki/index.php/self...</td>\n",
       "      <td>The goal of SELFMAN is to make large-scale dis...</td>\n",
       "      <td>2574259</td>\n",
       "      <td>1960000</td>\n",
       "      <td>NaN</td>\n",
       "      <td>STREP</td>\n",
       "      <td>UNIVERSITE CATHOLIQUE DE LOUVAIN</td>\n",
       "      <td>BE</td>\n",
       "      <td>KONRAD-ZUSE-ZENTRUM FUER INFORMATIONSTECHNIK B...</td>\n",
       "      <td>DE;FR;SE;SG</td>\n",
       "      <td>NaN</td>\n",
       "    </tr>\n",
       "    <tr>\n",
       "      <th>2</th>\n",
       "      <td>80458</td>\n",
       "      <td>517675-2</td>\n",
       "      <td>MICROTRAP</td>\n",
       "      <td>NaN</td>\n",
       "      <td>FP6-IST</td>\n",
       "      <td>IST-2004-2.3.4.1 b7</td>\n",
       "      <td>FP6</td>\n",
       "      <td>Development of a pan-European Microtrap Techno...</td>\n",
       "      <td>2006-04-01</td>\n",
       "      <td>2009-03-31</td>\n",
       "      <td>NaN</td>\n",
       "      <td>MICROTRAP is a Strep proposal aimed at develop...</td>\n",
       "      <td>2043500</td>\n",
       "      <td>1769000</td>\n",
       "      <td>NaN</td>\n",
       "      <td>STREP</td>\n",
       "      <td>NPL MANAGEMENT LIMITED</td>\n",
       "      <td>UK</td>\n",
       "      <td>UNIVERSITAET INNSBRUCK;THE CHANCELLOR, MASTERS...</td>\n",
       "      <td>AT</td>\n",
       "      <td>NaN</td>\n",
       "    </tr>\n",
       "    <tr>\n",
       "      <th>3</th>\n",
       "      <td>78376</td>\n",
       "      <td>027305</td>\n",
       "      <td>NOBEL PHASE 2</td>\n",
       "      <td>NaN</td>\n",
       "      <td>FP6-IST</td>\n",
       "      <td>IST-2004-2.4.4</td>\n",
       "      <td>FP6</td>\n",
       "      <td>Next generation optical network for Broadband ...</td>\n",
       "      <td>2006-03-01</td>\n",
       "      <td>2008-02-29</td>\n",
       "      <td>http://www.ist-nobel.org/</td>\n",
       "      <td>To achieve the strategic goal of broadband for...</td>\n",
       "      <td>21237629</td>\n",
       "      <td>12109996</td>\n",
       "      <td>NaN</td>\n",
       "      <td>IP</td>\n",
       "      <td>TELECOM ITALIA SPA</td>\n",
       "      <td>IT</td>\n",
       "      <td>CORECOM - CONSORZIO RICERCHE ELABORAZIONE COMM...</td>\n",
       "      <td>IT;DE</td>\n",
       "      <td>NaN</td>\n",
       "    </tr>\n",
       "    <tr>\n",
       "      <th>4</th>\n",
       "      <td>75263</td>\n",
       "      <td>502885</td>\n",
       "      <td>MERSEA</td>\n",
       "      <td>NaN</td>\n",
       "      <td>FP6-AEROSPACE</td>\n",
       "      <td>AERO-2.3</td>\n",
       "      <td>FP6</td>\n",
       "      <td>Marine Environment and security for the Europe...</td>\n",
       "      <td>2004-04-01</td>\n",
       "      <td>2008-09-30</td>\n",
       "      <td>NaN</td>\n",
       "      <td>Marine Environment and security for the Europe...</td>\n",
       "      <td>24320809</td>\n",
       "      <td>13997699</td>\n",
       "      <td>FP6-2002-SPACE-1</td>\n",
       "      <td>IP</td>\n",
       "      <td>INSTITUT FRANCAIS DE RECHERCHE POUR L'EXPLOITA...</td>\n",
       "      <td>FR</td>\n",
       "      <td>EUROPEAN CENTRE FOR MEDIUM-RANGE WEATHER FOREC...</td>\n",
       "      <td>UK;IE;CY;NL;IT;ES;DE;FR;FI;NO;CA;BE;EL;TR;DK</td>\n",
       "      <td>NaN</td>\n",
       "    </tr>\n",
       "  </tbody>\n",
       "</table>\n",
       "</div>"
      ],
      "text/plain": [
       "     rcn        id        acronym status      programme               topics  \\\n",
       "0  72765      4265       COREGRID    NaN        FP6-IST     IST-2002-2.3.2.8   \n",
       "1  79369    034084        SELFMAN    NaN        FP6-IST       IST-2005-2.5.5   \n",
       "2  80458  517675-2      MICROTRAP    NaN        FP6-IST  IST-2004-2.3.4.1 b7   \n",
       "3  78376    027305  NOBEL PHASE 2    NaN        FP6-IST       IST-2004-2.4.4   \n",
       "4  75263    502885         MERSEA    NaN  FP6-AEROSPACE             AERO-2.3   \n",
       "\n",
       "  frameworkProgramme                                              title  \\\n",
       "0                FP6  European research network on foundations, soft...   \n",
       "1                FP6  Self Management for large-scale distributed sy...   \n",
       "2                FP6  Development of a pan-European Microtrap Techno...   \n",
       "3                FP6  Next generation optical network for Broadband ...   \n",
       "4                FP6  Marine Environment and security for the Europe...   \n",
       "\n",
       "    startDate     endDate                                         projectUrl  \\\n",
       "0  2004-09-01  2008-08-31                           http://www.coregrid.net/   \n",
       "1  2006-06-01  2009-05-31  http://www.ist-selfman.org/wiki/index.php/self...   \n",
       "2  2006-04-01  2009-03-31                                                NaN   \n",
       "3  2006-03-01  2008-02-29                          http://www.ist-nobel.org/   \n",
       "4  2004-04-01  2008-09-30                                                NaN   \n",
       "\n",
       "                                           objective totalCost  \\\n",
       "0  CoreGRID aims at strengthening and advancing s...       NaN   \n",
       "1  The goal of SELFMAN is to make large-scale dis...   2574259   \n",
       "2  MICROTRAP is a Strep proposal aimed at develop...   2043500   \n",
       "3  To achieve the strategic goal of broadband for...  21237629   \n",
       "4  Marine Environment and security for the Europe...  24320809   \n",
       "\n",
       "  ecMaxContribution              call fundingScheme  \\\n",
       "0           8200000               NaN           NoE   \n",
       "1           1960000               NaN         STREP   \n",
       "2           1769000               NaN         STREP   \n",
       "3          12109996               NaN            IP   \n",
       "4          13997699  FP6-2002-SPACE-1            IP   \n",
       "\n",
       "                                         coordinator coordinatorCountry  \\\n",
       "0                                         GEIE ERCIM                 FR   \n",
       "1                   UNIVERSITE CATHOLIQUE DE LOUVAIN                 BE   \n",
       "2                             NPL MANAGEMENT LIMITED                 UK   \n",
       "3                                 TELECOM ITALIA SPA                 IT   \n",
       "4  INSTITUT FRANCAIS DE RECHERCHE POUR L'EXPLOITA...                 FR   \n",
       "\n",
       "                                        participants  \\\n",
       "0  UNIVERSITE HENRI POINCARE NANCY 1;UNIVERSITE J...   \n",
       "1  KONRAD-ZUSE-ZENTRUM FUER INFORMATIONSTECHNIK B...   \n",
       "2  UNIVERSITAET INNSBRUCK;THE CHANCELLOR, MASTERS...   \n",
       "3  CORECOM - CONSORZIO RICERCHE ELABORAZIONE COMM...   \n",
       "4  EUROPEAN CENTRE FOR MEDIUM-RANGE WEATHER FOREC...   \n",
       "\n",
       "                                participantCountries  subjects  \n",
       "0  FR;UK;SE;HU;BE;IT;DE;FI;CY;CZ;NL;ES;BG;PL;CL;A...       NaN  \n",
       "1                                        DE;FR;SE;SG       NaN  \n",
       "2                                                 AT       NaN  \n",
       "3                                              IT;DE       NaN  \n",
       "4       UK;IE;CY;NL;IT;ES;DE;FR;FI;NO;CA;BE;EL;TR;DK       NaN  "
      ]
     },
     "execution_count": 133,
     "metadata": {},
     "output_type": "execute_result"
    }
   ],
   "source": [
    "fp6_projects = pd.read_csv('../data/raw/cordis-fp6projects.csv', delimiter=';')\n",
    "fp6_projects.head()"
   ]
  },
  {
   "cell_type": "code",
   "execution_count": 134,
   "metadata": {},
   "outputs": [
    {
     "name": "stderr",
     "output_type": "stream",
     "text": [
      "/var/folders/j8/sgmsw3_510nbtw4brgpr222r0000gn/T/ipykernel_78184/3244628180.py:1: DtypeWarning:\n",
      "\n",
      "Columns (1,15) have mixed types. Specify dtype option on import or set low_memory=False.\n",
      "\n"
     ]
    },
    {
     "data": {
      "text/html": [
       "<div>\n",
       "<style scoped>\n",
       "    .dataframe tbody tr th:only-of-type {\n",
       "        vertical-align: middle;\n",
       "    }\n",
       "\n",
       "    .dataframe tbody tr th {\n",
       "        vertical-align: top;\n",
       "    }\n",
       "\n",
       "    .dataframe thead th {\n",
       "        text-align: right;\n",
       "    }\n",
       "</style>\n",
       "<table border=\"1\" class=\"dataframe\">\n",
       "  <thead>\n",
       "    <tr style=\"text-align: right;\">\n",
       "      <th></th>\n",
       "      <th>projectRcn</th>\n",
       "      <th>projectID</th>\n",
       "      <th>projectAcronym</th>\n",
       "      <th>role</th>\n",
       "      <th>id</th>\n",
       "      <th>name</th>\n",
       "      <th>shortName</th>\n",
       "      <th>activityType</th>\n",
       "      <th>endOfParticipation</th>\n",
       "      <th>ecContribution</th>\n",
       "      <th>country</th>\n",
       "      <th>street</th>\n",
       "      <th>city</th>\n",
       "      <th>postCode</th>\n",
       "      <th>organizationUrl</th>\n",
       "      <th>vatNumber</th>\n",
       "      <th>contactForm</th>\n",
       "      <th>contactType</th>\n",
       "      <th>contactTitle</th>\n",
       "      <th>contactFirstNames</th>\n",
       "      <th>contactLastNames</th>\n",
       "      <th>contactFunction</th>\n",
       "      <th>contactTelephoneNumber</th>\n",
       "      <th>contactFaxNumber</th>\n",
       "    </tr>\n",
       "  </thead>\n",
       "  <tbody>\n",
       "    <tr>\n",
       "      <th>0</th>\n",
       "      <td>72765</td>\n",
       "      <td>4265</td>\n",
       "      <td>COREGRID</td>\n",
       "      <td>participant</td>\n",
       "      <td>NaN</td>\n",
       "      <td>UNIVERSITE HENRI POINCARE NANCY 1</td>\n",
       "      <td>NaN</td>\n",
       "      <td>NaN</td>\n",
       "      <td>NaN</td>\n",
       "      <td>NaN</td>\n",
       "      <td>FR</td>\n",
       "      <td>Rue Lionnois 24-30</td>\n",
       "      <td>NANCY</td>\n",
       "      <td>BP 60120</td>\n",
       "      <td>http://www.uhp-nancy.fr</td>\n",
       "      <td>NaN</td>\n",
       "      <td>NaN</td>\n",
       "      <td>NaN</td>\n",
       "      <td>NaN</td>\n",
       "      <td>NaN</td>\n",
       "      <td>NaN</td>\n",
       "      <td>NaN</td>\n",
       "      <td>NaN</td>\n",
       "      <td>NaN</td>\n",
       "    </tr>\n",
       "    <tr>\n",
       "      <th>1</th>\n",
       "      <td>72765</td>\n",
       "      <td>4265</td>\n",
       "      <td>COREGRID</td>\n",
       "      <td>participant</td>\n",
       "      <td>NaN</td>\n",
       "      <td>UNIVERSITE JOSEPH FOURIER GRENOBLE 1</td>\n",
       "      <td>NaN</td>\n",
       "      <td>NaN</td>\n",
       "      <td>NaN</td>\n",
       "      <td>NaN</td>\n",
       "      <td>FR</td>\n",
       "      <td>621 AVENUE CENTRALE - DOMAINE UNIVERSITAIRE</td>\n",
       "      <td>GRENOBLE</td>\n",
       "      <td>38041</td>\n",
       "      <td>NaN</td>\n",
       "      <td>NaN</td>\n",
       "      <td>NaN</td>\n",
       "      <td>NaN</td>\n",
       "      <td>NaN</td>\n",
       "      <td>NaN</td>\n",
       "      <td>NaN</td>\n",
       "      <td>NaN</td>\n",
       "      <td>NaN</td>\n",
       "      <td>NaN</td>\n",
       "    </tr>\n",
       "    <tr>\n",
       "      <th>2</th>\n",
       "      <td>72765</td>\n",
       "      <td>4265</td>\n",
       "      <td>COREGRID</td>\n",
       "      <td>participant</td>\n",
       "      <td>NaN</td>\n",
       "      <td>THE QUEEN'S UNIVERSITY OF BELFAST</td>\n",
       "      <td>NaN</td>\n",
       "      <td>NaN</td>\n",
       "      <td>NaN</td>\n",
       "      <td>NaN</td>\n",
       "      <td>UK</td>\n",
       "      <td>UNIVERSITY ROAD</td>\n",
       "      <td>BELFAST</td>\n",
       "      <td>BT7 1NN</td>\n",
       "      <td>NaN</td>\n",
       "      <td>NaN</td>\n",
       "      <td>NaN</td>\n",
       "      <td>NaN</td>\n",
       "      <td>NaN</td>\n",
       "      <td>NaN</td>\n",
       "      <td>NaN</td>\n",
       "      <td>NaN</td>\n",
       "      <td>NaN</td>\n",
       "      <td>NaN</td>\n",
       "    </tr>\n",
       "    <tr>\n",
       "      <th>3</th>\n",
       "      <td>72765</td>\n",
       "      <td>4265</td>\n",
       "      <td>COREGRID</td>\n",
       "      <td>participant</td>\n",
       "      <td>NaN</td>\n",
       "      <td>SICS, SWEDISH INSTITUTE OF COMPUTER SCIENCE AB</td>\n",
       "      <td>SICS</td>\n",
       "      <td>NaN</td>\n",
       "      <td>NaN</td>\n",
       "      <td>NaN</td>\n",
       "      <td>SE</td>\n",
       "      <td>ISAFJORDSGATAN 22</td>\n",
       "      <td>KISTA</td>\n",
       "      <td>164 29</td>\n",
       "      <td>NaN</td>\n",
       "      <td>NaN</td>\n",
       "      <td>NaN</td>\n",
       "      <td>NaN</td>\n",
       "      <td>NaN</td>\n",
       "      <td>NaN</td>\n",
       "      <td>NaN</td>\n",
       "      <td>NaN</td>\n",
       "      <td>NaN</td>\n",
       "      <td>NaN</td>\n",
       "    </tr>\n",
       "    <tr>\n",
       "      <th>4</th>\n",
       "      <td>72765</td>\n",
       "      <td>4265</td>\n",
       "      <td>COREGRID</td>\n",
       "      <td>participant</td>\n",
       "      <td>NaN</td>\n",
       "      <td>MAGYAR TUDOMANYOS AKADEMIA SZAMITASTECHNIKAI E...</td>\n",
       "      <td>NaN</td>\n",
       "      <td>NaN</td>\n",
       "      <td>NaN</td>\n",
       "      <td>NaN</td>\n",
       "      <td>HU</td>\n",
       "      <td>KENDE U. 13-17</td>\n",
       "      <td>BUDAPEST</td>\n",
       "      <td>1111</td>\n",
       "      <td>http://WWW.SZTAKI.HU</td>\n",
       "      <td>NaN</td>\n",
       "      <td>NaN</td>\n",
       "      <td>NaN</td>\n",
       "      <td>NaN</td>\n",
       "      <td>NaN</td>\n",
       "      <td>NaN</td>\n",
       "      <td>NaN</td>\n",
       "      <td>NaN</td>\n",
       "      <td>NaN</td>\n",
       "    </tr>\n",
       "  </tbody>\n",
       "</table>\n",
       "</div>"
      ],
      "text/plain": [
       "   projectRcn projectID projectAcronym         role  id  \\\n",
       "0       72765      4265       COREGRID  participant NaN   \n",
       "1       72765      4265       COREGRID  participant NaN   \n",
       "2       72765      4265       COREGRID  participant NaN   \n",
       "3       72765      4265       COREGRID  participant NaN   \n",
       "4       72765      4265       COREGRID  participant NaN   \n",
       "\n",
       "                                                name shortName activityType  \\\n",
       "0                  UNIVERSITE HENRI POINCARE NANCY 1       NaN          NaN   \n",
       "1               UNIVERSITE JOSEPH FOURIER GRENOBLE 1       NaN          NaN   \n",
       "2                  THE QUEEN'S UNIVERSITY OF BELFAST       NaN          NaN   \n",
       "3     SICS, SWEDISH INSTITUTE OF COMPUTER SCIENCE AB      SICS          NaN   \n",
       "4  MAGYAR TUDOMANYOS AKADEMIA SZAMITASTECHNIKAI E...       NaN          NaN   \n",
       "\n",
       "  endOfParticipation ecContribution country  \\\n",
       "0                NaN            NaN      FR   \n",
       "1                NaN            NaN      FR   \n",
       "2                NaN            NaN      UK   \n",
       "3                NaN            NaN      SE   \n",
       "4                NaN            NaN      HU   \n",
       "\n",
       "                                        street      city  postCode  \\\n",
       "0                           Rue Lionnois 24-30     NANCY  BP 60120   \n",
       "1  621 AVENUE CENTRALE - DOMAINE UNIVERSITAIRE  GRENOBLE     38041   \n",
       "2                              UNIVERSITY ROAD   BELFAST   BT7 1NN   \n",
       "3                            ISAFJORDSGATAN 22     KISTA    164 29   \n",
       "4                               KENDE U. 13-17  BUDAPEST      1111   \n",
       "\n",
       "           organizationUrl vatNumber  contactForm  contactType  contactTitle  \\\n",
       "0  http://www.uhp-nancy.fr       NaN          NaN          NaN           NaN   \n",
       "1                      NaN       NaN          NaN          NaN           NaN   \n",
       "2                      NaN       NaN          NaN          NaN           NaN   \n",
       "3                      NaN       NaN          NaN          NaN           NaN   \n",
       "4     http://WWW.SZTAKI.HU       NaN          NaN          NaN           NaN   \n",
       "\n",
       "   contactFirstNames  contactLastNames  contactFunction  \\\n",
       "0                NaN               NaN              NaN   \n",
       "1                NaN               NaN              NaN   \n",
       "2                NaN               NaN              NaN   \n",
       "3                NaN               NaN              NaN   \n",
       "4                NaN               NaN              NaN   \n",
       "\n",
       "   contactTelephoneNumber  contactFaxNumber  \n",
       "0                     NaN               NaN  \n",
       "1                     NaN               NaN  \n",
       "2                     NaN               NaN  \n",
       "3                     NaN               NaN  \n",
       "4                     NaN               NaN  "
      ]
     },
     "execution_count": 134,
     "metadata": {},
     "output_type": "execute_result"
    }
   ],
   "source": [
    "fp6_organisations = pd.read_csv('../data/raw/cordis-fp6organizations.csv', delimiter='\\t')\n",
    "fp6_organisations.head()"
   ]
  },
  {
   "attachments": {},
   "cell_type": "markdown",
   "metadata": {},
   "source": [
    "## FP5"
   ]
  },
  {
   "cell_type": "code",
   "execution_count": 135,
   "metadata": {},
   "outputs": [
    {
     "data": {
      "text/html": [
       "<div>\n",
       "<style scoped>\n",
       "    .dataframe tbody tr th:only-of-type {\n",
       "        vertical-align: middle;\n",
       "    }\n",
       "\n",
       "    .dataframe tbody tr th {\n",
       "        vertical-align: top;\n",
       "    }\n",
       "\n",
       "    .dataframe thead th {\n",
       "        text-align: right;\n",
       "    }\n",
       "</style>\n",
       "<table border=\"1\" class=\"dataframe\">\n",
       "  <thead>\n",
       "    <tr style=\"text-align: right;\">\n",
       "      <th></th>\n",
       "      <th>rcn</th>\n",
       "      <th>id</th>\n",
       "      <th>acronym</th>\n",
       "      <th>status</th>\n",
       "      <th>programme</th>\n",
       "      <th>topics</th>\n",
       "      <th>frameworkProgramme</th>\n",
       "      <th>title</th>\n",
       "      <th>startDate</th>\n",
       "      <th>endDate</th>\n",
       "      <th>projectUrl</th>\n",
       "      <th>objective</th>\n",
       "      <th>totalCost</th>\n",
       "      <th>ecMaxContribution</th>\n",
       "      <th>call</th>\n",
       "      <th>fundingScheme</th>\n",
       "      <th>coordinator</th>\n",
       "      <th>coordinatorCountry</th>\n",
       "      <th>participants</th>\n",
       "      <th>participantCountries</th>\n",
       "      <th>subjects</th>\n",
       "    </tr>\n",
       "  </thead>\n",
       "  <tbody>\n",
       "    <tr>\n",
       "      <th>0</th>\n",
       "      <td>67894</td>\n",
       "      <td>HPRN-CT-2002-00284</td>\n",
       "      <td>SMART SYSTEMS</td>\n",
       "      <td>NaN</td>\n",
       "      <td>FP5-HUMAN POTENTIAL</td>\n",
       "      <td>1.4.1.-1.1.</td>\n",
       "      <td>FP5</td>\n",
       "      <td>New materials, adaptive systems and their nonl...</td>\n",
       "      <td>2002-11-01</td>\n",
       "      <td>2006-10-31</td>\n",
       "      <td>NaN</td>\n",
       "      <td>The project aims at providing training of rese...</td>\n",
       "      <td>1500000.0</td>\n",
       "      <td>1500000.0</td>\n",
       "      <td>NaN</td>\n",
       "      <td>NET</td>\n",
       "      <td>CHAMBRE DE COMMERCE ET D'INDUSTRIE DE PARIS</td>\n",
       "      <td>FR</td>\n",
       "      <td>UNIVERSIDADE DE SANTIAGO DE COMPOSTELA;INSTITU...</td>\n",
       "      <td>ES;FR;PT;EL;IT;PL;DE</td>\n",
       "      <td>NaN</td>\n",
       "    </tr>\n",
       "    <tr>\n",
       "      <th>1</th>\n",
       "      <td>61178</td>\n",
       "      <td>HPRI-CT-1999-50007</td>\n",
       "      <td>ARMS</td>\n",
       "      <td>NaN</td>\n",
       "      <td>FP5-HUMAN POTENTIAL</td>\n",
       "      <td>1.4.1.-2.</td>\n",
       "      <td>FP5</td>\n",
       "      <td>Advanced research magnet systems</td>\n",
       "      <td>2000-03-01</td>\n",
       "      <td>2003-06-01</td>\n",
       "      <td>NaN</td>\n",
       "      <td>Description:\\n\\nA pulsed magnet station will b...</td>\n",
       "      <td>1200000.0</td>\n",
       "      <td>1200000.0</td>\n",
       "      <td>NaN</td>\n",
       "      <td>CSC</td>\n",
       "      <td>THE CHANCELLOR, MASTERS AND SCHOLARS OF THE UN...</td>\n",
       "      <td>UK</td>\n",
       "      <td>CENTRE NATIONAL DE LA RECHERCHE SCIENTIFIQUE;K...</td>\n",
       "      <td>FR;BE;NL;DE</td>\n",
       "      <td>NaN</td>\n",
       "    </tr>\n",
       "    <tr>\n",
       "      <th>2</th>\n",
       "      <td>61341</td>\n",
       "      <td>NNE5/363/2001</td>\n",
       "      <td>TDT-3R MULTI FUEL</td>\n",
       "      <td>NaN</td>\n",
       "      <td>FP5-EESD</td>\n",
       "      <td>1.1.4.-5.1.1</td>\n",
       "      <td>FP5</td>\n",
       "      <td>Multi Fuel Operated Integrated Clean Energy Pr...</td>\n",
       "      <td>2002-08-01</td>\n",
       "      <td>2005-07-31</td>\n",
       "      <td>http://www.3ragrocarbon.com</td>\n",
       "      <td>Develop efficient energy conversion process wi...</td>\n",
       "      <td>2248440.0</td>\n",
       "      <td>1451390.0</td>\n",
       "      <td>NaN</td>\n",
       "      <td>NaN</td>\n",
       "      <td>TERRA HUMANA CLEAN TECHNOLOGY DEVELOPMENT, ENG...</td>\n",
       "      <td>HU</td>\n",
       "      <td>ENERGY RESEARCH CENTRE OF THE NETHERLANDS;ROST...</td>\n",
       "      <td>NL;DE;EL;HU;LV;UK</td>\n",
       "      <td>NaN</td>\n",
       "    </tr>\n",
       "    <tr>\n",
       "      <th>3</th>\n",
       "      <td>63349</td>\n",
       "      <td>G7RT-CT-2002-05086</td>\n",
       "      <td>NaN</td>\n",
       "      <td>NaN</td>\n",
       "      <td>FP5-GROWTH</td>\n",
       "      <td>1.1.3.-7.</td>\n",
       "      <td>FP5</td>\n",
       "      <td>European virtual institute for geometry measur...</td>\n",
       "      <td>2002-07-01</td>\n",
       "      <td>2006-12-31</td>\n",
       "      <td>NaN</td>\n",
       "      <td>The Virtual Institute EVIGeM consists of a den...</td>\n",
       "      <td>2394417.0</td>\n",
       "      <td>2236532.0</td>\n",
       "      <td>NaN</td>\n",
       "      <td>THN</td>\n",
       "      <td>BREMER INSTITUT FUER BETRIEBSTECHNIK UND ANGEW...</td>\n",
       "      <td>DE</td>\n",
       "      <td>DIN CERTCO GESELLSCHAFT FUER KONFORMITAETSBEWE...</td>\n",
       "      <td>DE;CZ;UK;CH;IT;EL;DK;ES;AT;BE;NL;PT;NO</td>\n",
       "      <td>NaN</td>\n",
       "    </tr>\n",
       "    <tr>\n",
       "      <th>4</th>\n",
       "      <td>61025</td>\n",
       "      <td>IST-2001-32672</td>\n",
       "      <td>WOMAN II</td>\n",
       "      <td>NaN</td>\n",
       "      <td>FP5-IST</td>\n",
       "      <td>2001-1.1.3</td>\n",
       "      <td>FP5</td>\n",
       "      <td>European Network of Services for Women Health ...</td>\n",
       "      <td>2001-09-01</td>\n",
       "      <td>2003-02-28</td>\n",
       "      <td>http://www.womanlab.com</td>\n",
       "      <td>WOMAN, an EC funded project (1998-2000) create...</td>\n",
       "      <td>1090513.0</td>\n",
       "      <td>774004.0</td>\n",
       "      <td>NaN</td>\n",
       "      <td>ACM</td>\n",
       "      <td>DIPARTIMENTO DI MEDICINA DELLA PROCREAZIONE E ...</td>\n",
       "      <td>IT</td>\n",
       "      <td>UNIVERSITY OF LEICESTER;INSTITUTO PALACIOS DE ...</td>\n",
       "      <td>UK;ES;PL;NL;IT;PT;IL;CH;DE;FR;SE;MT;BE</td>\n",
       "      <td>NaN</td>\n",
       "    </tr>\n",
       "  </tbody>\n",
       "</table>\n",
       "</div>"
      ],
      "text/plain": [
       "     rcn                  id            acronym status            programme  \\\n",
       "0  67894  HPRN-CT-2002-00284      SMART SYSTEMS    NaN  FP5-HUMAN POTENTIAL   \n",
       "1  61178  HPRI-CT-1999-50007               ARMS    NaN  FP5-HUMAN POTENTIAL   \n",
       "2  61341       NNE5/363/2001  TDT-3R MULTI FUEL    NaN             FP5-EESD   \n",
       "3  63349  G7RT-CT-2002-05086                NaN    NaN           FP5-GROWTH   \n",
       "4  61025      IST-2001-32672           WOMAN II    NaN              FP5-IST   \n",
       "\n",
       "         topics frameworkProgramme  \\\n",
       "0   1.4.1.-1.1.                FP5   \n",
       "1     1.4.1.-2.                FP5   \n",
       "2  1.1.4.-5.1.1                FP5   \n",
       "3     1.1.3.-7.                FP5   \n",
       "4    2001-1.1.3                FP5   \n",
       "\n",
       "                                               title   startDate     endDate  \\\n",
       "0  New materials, adaptive systems and their nonl...  2002-11-01  2006-10-31   \n",
       "1                   Advanced research magnet systems  2000-03-01  2003-06-01   \n",
       "2  Multi Fuel Operated Integrated Clean Energy Pr...  2002-08-01  2005-07-31   \n",
       "3  European virtual institute for geometry measur...  2002-07-01  2006-12-31   \n",
       "4  European Network of Services for Women Health ...  2001-09-01  2003-02-28   \n",
       "\n",
       "                    projectUrl  \\\n",
       "0                          NaN   \n",
       "1                          NaN   \n",
       "2  http://www.3ragrocarbon.com   \n",
       "3                          NaN   \n",
       "4      http://www.womanlab.com   \n",
       "\n",
       "                                           objective  totalCost  \\\n",
       "0  The project aims at providing training of rese...  1500000.0   \n",
       "1  Description:\\n\\nA pulsed magnet station will b...  1200000.0   \n",
       "2  Develop efficient energy conversion process wi...  2248440.0   \n",
       "3  The Virtual Institute EVIGeM consists of a den...  2394417.0   \n",
       "4  WOMAN, an EC funded project (1998-2000) create...  1090513.0   \n",
       "\n",
       "   ecMaxContribution call fundingScheme  \\\n",
       "0          1500000.0  NaN           NET   \n",
       "1          1200000.0  NaN           CSC   \n",
       "2          1451390.0  NaN           NaN   \n",
       "3          2236532.0  NaN           THN   \n",
       "4           774004.0  NaN           ACM   \n",
       "\n",
       "                                         coordinator coordinatorCountry  \\\n",
       "0        CHAMBRE DE COMMERCE ET D'INDUSTRIE DE PARIS                 FR   \n",
       "1  THE CHANCELLOR, MASTERS AND SCHOLARS OF THE UN...                 UK   \n",
       "2  TERRA HUMANA CLEAN TECHNOLOGY DEVELOPMENT, ENG...                 HU   \n",
       "3  BREMER INSTITUT FUER BETRIEBSTECHNIK UND ANGEW...                 DE   \n",
       "4  DIPARTIMENTO DI MEDICINA DELLA PROCREAZIONE E ...                 IT   \n",
       "\n",
       "                                        participants  \\\n",
       "0  UNIVERSIDADE DE SANTIAGO DE COMPOSTELA;INSTITU...   \n",
       "1  CENTRE NATIONAL DE LA RECHERCHE SCIENTIFIQUE;K...   \n",
       "2  ENERGY RESEARCH CENTRE OF THE NETHERLANDS;ROST...   \n",
       "3  DIN CERTCO GESELLSCHAFT FUER KONFORMITAETSBEWE...   \n",
       "4  UNIVERSITY OF LEICESTER;INSTITUTO PALACIOS DE ...   \n",
       "\n",
       "                     participantCountries  subjects  \n",
       "0                    ES;FR;PT;EL;IT;PL;DE       NaN  \n",
       "1                             FR;BE;NL;DE       NaN  \n",
       "2                       NL;DE;EL;HU;LV;UK       NaN  \n",
       "3  DE;CZ;UK;CH;IT;EL;DK;ES;AT;BE;NL;PT;NO       NaN  \n",
       "4  UK;ES;PL;NL;IT;PT;IL;CH;DE;FR;SE;MT;BE       NaN  "
      ]
     },
     "execution_count": 135,
     "metadata": {},
     "output_type": "execute_result"
    }
   ],
   "source": [
    "fp5_projects = pd.read_csv('../data/raw/cordis-fp5projects.csv', delimiter=';')\n",
    "fp5_projects.head()"
   ]
  },
  {
   "cell_type": "code",
   "execution_count": 136,
   "metadata": {},
   "outputs": [
    {
     "name": "stderr",
     "output_type": "stream",
     "text": [
      "/var/folders/j8/sgmsw3_510nbtw4brgpr222r0000gn/T/ipykernel_78184/3782360798.py:1: DtypeWarning:\n",
      "\n",
      "Columns (7,15) have mixed types. Specify dtype option on import or set low_memory=False.\n",
      "\n"
     ]
    },
    {
     "data": {
      "text/html": [
       "<div>\n",
       "<style scoped>\n",
       "    .dataframe tbody tr th:only-of-type {\n",
       "        vertical-align: middle;\n",
       "    }\n",
       "\n",
       "    .dataframe tbody tr th {\n",
       "        vertical-align: top;\n",
       "    }\n",
       "\n",
       "    .dataframe thead th {\n",
       "        text-align: right;\n",
       "    }\n",
       "</style>\n",
       "<table border=\"1\" class=\"dataframe\">\n",
       "  <thead>\n",
       "    <tr style=\"text-align: right;\">\n",
       "      <th></th>\n",
       "      <th>projectRcn</th>\n",
       "      <th>projectID</th>\n",
       "      <th>projectAcronym</th>\n",
       "      <th>role</th>\n",
       "      <th>id</th>\n",
       "      <th>name</th>\n",
       "      <th>shortName</th>\n",
       "      <th>activityType</th>\n",
       "      <th>endOfParticipation</th>\n",
       "      <th>ecContribution</th>\n",
       "      <th>country</th>\n",
       "      <th>street</th>\n",
       "      <th>city</th>\n",
       "      <th>postCode</th>\n",
       "      <th>organizationUrl</th>\n",
       "      <th>vatNumber</th>\n",
       "      <th>contactForm</th>\n",
       "      <th>contactType</th>\n",
       "      <th>contactTitle</th>\n",
       "      <th>contactFirstNames</th>\n",
       "      <th>contactLastNames</th>\n",
       "      <th>contactFunction</th>\n",
       "      <th>contactTelephoneNumber</th>\n",
       "      <th>contactFaxNumber</th>\n",
       "    </tr>\n",
       "  </thead>\n",
       "  <tbody>\n",
       "    <tr>\n",
       "      <th>0</th>\n",
       "      <td>67894</td>\n",
       "      <td>HPRN-CT-2002-00284</td>\n",
       "      <td>SMART SYSTEMS</td>\n",
       "      <td>participant</td>\n",
       "      <td>NaN</td>\n",
       "      <td>UNIVERSIDADE DE SANTIAGO DE COMPOSTELA</td>\n",
       "      <td>NaN</td>\n",
       "      <td>NaN</td>\n",
       "      <td>NaN</td>\n",
       "      <td>NaN</td>\n",
       "      <td>ES</td>\n",
       "      <td>Campus Universitario Sur</td>\n",
       "      <td>SANTIAGO DE COMPOSTELA</td>\n",
       "      <td>15782</td>\n",
       "      <td>NaN</td>\n",
       "      <td>NaN</td>\n",
       "      <td>NaN</td>\n",
       "      <td>NaN</td>\n",
       "      <td>NaN</td>\n",
       "      <td>NaN</td>\n",
       "      <td>NaN</td>\n",
       "      <td>NaN</td>\n",
       "      <td>NaN</td>\n",
       "      <td>NaN</td>\n",
       "    </tr>\n",
       "    <tr>\n",
       "      <th>1</th>\n",
       "      <td>67894</td>\n",
       "      <td>HPRN-CT-2002-00284</td>\n",
       "      <td>SMART SYSTEMS</td>\n",
       "      <td>participant</td>\n",
       "      <td>NaN</td>\n",
       "      <td>INSTITUT NATIONAL DE RECHERCHE EN INFORMATIQUE...</td>\n",
       "      <td>NaN</td>\n",
       "      <td>NaN</td>\n",
       "      <td>NaN</td>\n",
       "      <td>NaN</td>\n",
       "      <td>FR</td>\n",
       "      <td>NaN</td>\n",
       "      <td>LE CHESNAY</td>\n",
       "      <td>78153</td>\n",
       "      <td>NaN</td>\n",
       "      <td>NaN</td>\n",
       "      <td>NaN</td>\n",
       "      <td>NaN</td>\n",
       "      <td>NaN</td>\n",
       "      <td>NaN</td>\n",
       "      <td>NaN</td>\n",
       "      <td>NaN</td>\n",
       "      <td>NaN</td>\n",
       "      <td>NaN</td>\n",
       "    </tr>\n",
       "    <tr>\n",
       "      <th>2</th>\n",
       "      <td>67894</td>\n",
       "      <td>HPRN-CT-2002-00284</td>\n",
       "      <td>SMART SYSTEMS</td>\n",
       "      <td>participant</td>\n",
       "      <td>NaN</td>\n",
       "      <td>INSTITUTO SUPERIOR TECNICO</td>\n",
       "      <td>NaN</td>\n",
       "      <td>NaN</td>\n",
       "      <td>NaN</td>\n",
       "      <td>NaN</td>\n",
       "      <td>PT</td>\n",
       "      <td>Avenida Rovisco Pais 1</td>\n",
       "      <td>LISBOA</td>\n",
       "      <td>1049-001</td>\n",
       "      <td>NaN</td>\n",
       "      <td>NaN</td>\n",
       "      <td>NaN</td>\n",
       "      <td>NaN</td>\n",
       "      <td>NaN</td>\n",
       "      <td>NaN</td>\n",
       "      <td>NaN</td>\n",
       "      <td>NaN</td>\n",
       "      <td>NaN</td>\n",
       "      <td>NaN</td>\n",
       "    </tr>\n",
       "    <tr>\n",
       "      <th>3</th>\n",
       "      <td>67894</td>\n",
       "      <td>HPRN-CT-2002-00284</td>\n",
       "      <td>SMART SYSTEMS</td>\n",
       "      <td>participant</td>\n",
       "      <td>NaN</td>\n",
       "      <td>ARISTOTLE UNIVERSITY OF THESSALONIKI</td>\n",
       "      <td>NaN</td>\n",
       "      <td>NaN</td>\n",
       "      <td>NaN</td>\n",
       "      <td>NaN</td>\n",
       "      <td>EL</td>\n",
       "      <td>University Campus, Egnatia Street, Administration</td>\n",
       "      <td>THESSALONIKI</td>\n",
       "      <td>54006</td>\n",
       "      <td>NaN</td>\n",
       "      <td>NaN</td>\n",
       "      <td>NaN</td>\n",
       "      <td>NaN</td>\n",
       "      <td>NaN</td>\n",
       "      <td>NaN</td>\n",
       "      <td>NaN</td>\n",
       "      <td>NaN</td>\n",
       "      <td>NaN</td>\n",
       "      <td>NaN</td>\n",
       "    </tr>\n",
       "    <tr>\n",
       "      <th>4</th>\n",
       "      <td>67894</td>\n",
       "      <td>HPRN-CT-2002-00284</td>\n",
       "      <td>SMART SYSTEMS</td>\n",
       "      <td>participant</td>\n",
       "      <td>NaN</td>\n",
       "      <td>NATIONAL RESEARCH COUNCIL OF ITALY</td>\n",
       "      <td>NaN</td>\n",
       "      <td>NaN</td>\n",
       "      <td>NaN</td>\n",
       "      <td>NaN</td>\n",
       "      <td>IT</td>\n",
       "      <td>Via Ferrata 1</td>\n",
       "      <td>PAVIA</td>\n",
       "      <td>27100</td>\n",
       "      <td>NaN</td>\n",
       "      <td>NaN</td>\n",
       "      <td>NaN</td>\n",
       "      <td>NaN</td>\n",
       "      <td>NaN</td>\n",
       "      <td>NaN</td>\n",
       "      <td>NaN</td>\n",
       "      <td>NaN</td>\n",
       "      <td>NaN</td>\n",
       "      <td>NaN</td>\n",
       "    </tr>\n",
       "  </tbody>\n",
       "</table>\n",
       "</div>"
      ],
      "text/plain": [
       "   projectRcn           projectID projectAcronym         role  id  \\\n",
       "0       67894  HPRN-CT-2002-00284  SMART SYSTEMS  participant NaN   \n",
       "1       67894  HPRN-CT-2002-00284  SMART SYSTEMS  participant NaN   \n",
       "2       67894  HPRN-CT-2002-00284  SMART SYSTEMS  participant NaN   \n",
       "3       67894  HPRN-CT-2002-00284  SMART SYSTEMS  participant NaN   \n",
       "4       67894  HPRN-CT-2002-00284  SMART SYSTEMS  participant NaN   \n",
       "\n",
       "                                                name shortName activityType  \\\n",
       "0             UNIVERSIDADE DE SANTIAGO DE COMPOSTELA       NaN          NaN   \n",
       "1  INSTITUT NATIONAL DE RECHERCHE EN INFORMATIQUE...       NaN          NaN   \n",
       "2                         INSTITUTO SUPERIOR TECNICO       NaN          NaN   \n",
       "3               ARISTOTLE UNIVERSITY OF THESSALONIKI       NaN          NaN   \n",
       "4                 NATIONAL RESEARCH COUNCIL OF ITALY       NaN          NaN   \n",
       "\n",
       "   endOfParticipation  ecContribution country  \\\n",
       "0                 NaN             NaN      ES   \n",
       "1                 NaN             NaN      FR   \n",
       "2                 NaN             NaN      PT   \n",
       "3                 NaN             NaN      EL   \n",
       "4                 NaN             NaN      IT   \n",
       "\n",
       "                                              street                    city  \\\n",
       "0                           Campus Universitario Sur  SANTIAGO DE COMPOSTELA   \n",
       "1                                                NaN              LE CHESNAY   \n",
       "2                             Avenida Rovisco Pais 1                  LISBOA   \n",
       "3  University Campus, Egnatia Street, Administration            THESSALONIKI   \n",
       "4                                      Via Ferrata 1                   PAVIA   \n",
       "\n",
       "   postCode organizationUrl vatNumber  contactForm  contactType  contactTitle  \\\n",
       "0     15782             NaN       NaN          NaN          NaN           NaN   \n",
       "1     78153             NaN       NaN          NaN          NaN           NaN   \n",
       "2  1049-001             NaN       NaN          NaN          NaN           NaN   \n",
       "3     54006             NaN       NaN          NaN          NaN           NaN   \n",
       "4     27100             NaN       NaN          NaN          NaN           NaN   \n",
       "\n",
       "   contactFirstNames  contactLastNames  contactFunction  \\\n",
       "0                NaN               NaN              NaN   \n",
       "1                NaN               NaN              NaN   \n",
       "2                NaN               NaN              NaN   \n",
       "3                NaN               NaN              NaN   \n",
       "4                NaN               NaN              NaN   \n",
       "\n",
       "   contactTelephoneNumber  contactFaxNumber  \n",
       "0                     NaN               NaN  \n",
       "1                     NaN               NaN  \n",
       "2                     NaN               NaN  \n",
       "3                     NaN               NaN  \n",
       "4                     NaN               NaN  "
      ]
     },
     "execution_count": 136,
     "metadata": {},
     "output_type": "execute_result"
    }
   ],
   "source": [
    "fp5_organisations = pd.read_csv('../data/raw/cordis-fp5organizations.csv', delimiter='\\t')\n",
    "fp5_organisations.head()"
   ]
  },
  {
   "attachments": {},
   "cell_type": "markdown",
   "metadata": {},
   "source": [
    "## FP4"
   ]
  },
  {
   "cell_type": "code",
   "execution_count": 137,
   "metadata": {},
   "outputs": [
    {
     "data": {
      "text/html": [
       "<div>\n",
       "<style scoped>\n",
       "    .dataframe tbody tr th:only-of-type {\n",
       "        vertical-align: middle;\n",
       "    }\n",
       "\n",
       "    .dataframe tbody tr th {\n",
       "        vertical-align: top;\n",
       "    }\n",
       "\n",
       "    .dataframe thead th {\n",
       "        text-align: right;\n",
       "    }\n",
       "</style>\n",
       "<table border=\"1\" class=\"dataframe\">\n",
       "  <thead>\n",
       "    <tr style=\"text-align: right;\">\n",
       "      <th></th>\n",
       "      <th>rcn</th>\n",
       "      <th>id</th>\n",
       "      <th>acronym</th>\n",
       "      <th>status</th>\n",
       "      <th>programme</th>\n",
       "      <th>topics</th>\n",
       "      <th>frameworkProgramme</th>\n",
       "      <th>title</th>\n",
       "      <th>startDate</th>\n",
       "      <th>endDate</th>\n",
       "      <th>projectUrl</th>\n",
       "      <th>objective</th>\n",
       "      <th>totalCost</th>\n",
       "      <th>ecMaxContribution</th>\n",
       "      <th>call</th>\n",
       "      <th>fundingScheme</th>\n",
       "      <th>coordinator</th>\n",
       "      <th>coordinatorCountry</th>\n",
       "      <th>participants</th>\n",
       "      <th>participantCountries</th>\n",
       "      <th>subjects</th>\n",
       "    </tr>\n",
       "  </thead>\n",
       "  <tbody>\n",
       "    <tr>\n",
       "      <th>0</th>\n",
       "      <td>44889</td>\n",
       "      <td>JOR3980231</td>\n",
       "      <td>NaN</td>\n",
       "      <td>NaN</td>\n",
       "      <td>FP4-NNE-JOULE C</td>\n",
       "      <td>03010103</td>\n",
       "      <td>FP4</td>\n",
       "      <td>Development of a low cost European desalinatio...</td>\n",
       "      <td>1998-08-01</td>\n",
       "      <td>2001-01-31</td>\n",
       "      <td>http://www.eurotrough.com</td>\n",
       "      <td>\\n1. Detailed EUROTrough design including proc...</td>\n",
       "      <td>NaN</td>\n",
       "      <td>NaN</td>\n",
       "      <td>NaN</td>\n",
       "      <td>CSC</td>\n",
       "      <td>INSTALACIONES ABENGOA SA</td>\n",
       "      <td>ES</td>\n",
       "      <td>CENTRO DE INVESTIGACIONES ENERGETICAS, MEDIAMB...</td>\n",
       "      <td>ES;DE;EL</td>\n",
       "      <td>NaN</td>\n",
       "    </tr>\n",
       "    <tr>\n",
       "      <th>1</th>\n",
       "      <td>43710</td>\n",
       "      <td>IC20970046</td>\n",
       "      <td>NaN</td>\n",
       "      <td>NaN</td>\n",
       "      <td>FP4-INCO</td>\n",
       "      <td>01</td>\n",
       "      <td>FP4</td>\n",
       "      <td>Predrying of moist fuels for power production</td>\n",
       "      <td>1998-01-01</td>\n",
       "      <td>2000-12-31</td>\n",
       "      <td>NaN</td>\n",
       "      <td>\\n\\nIn various EU and East European countries,...</td>\n",
       "      <td>NaN</td>\n",
       "      <td>NaN</td>\n",
       "      <td>NaN</td>\n",
       "      <td>CSC</td>\n",
       "      <td>UNIVERSITAET STUTTGART</td>\n",
       "      <td>DE</td>\n",
       "      <td>Technical University of Timisoara;Technical Un...</td>\n",
       "      <td>RO;PL;BG</td>\n",
       "      <td>NaN</td>\n",
       "    </tr>\n",
       "    <tr>\n",
       "      <th>2</th>\n",
       "      <td>48019</td>\n",
       "      <td>IC21980401</td>\n",
       "      <td>NaN</td>\n",
       "      <td>NaN</td>\n",
       "      <td>FP4-INCO</td>\n",
       "      <td>NaN</td>\n",
       "      <td>FP4</td>\n",
       "      <td>Integration of renewable energies in the South...</td>\n",
       "      <td>1998-11-01</td>\n",
       "      <td>2000-10-31</td>\n",
       "      <td>NaN</td>\n",
       "      <td>\\n\\nIt is generally recognised that renewable ...</td>\n",
       "      <td>NaN</td>\n",
       "      <td>NaN</td>\n",
       "      <td>NaN</td>\n",
       "      <td>CSC</td>\n",
       "      <td>OBSERVATOIRE MEDITERRANEEN DE L'ENERGIE</td>\n",
       "      <td>FR</td>\n",
       "      <td>SOCIETE TUNISIENNE DE L'ELECTRICITE ET DU GAZ;...</td>\n",
       "      <td>TN;EG;PS;MA;DZ;JO;TR</td>\n",
       "      <td>NaN</td>\n",
       "    </tr>\n",
       "    <tr>\n",
       "      <th>3</th>\n",
       "      <td>35176</td>\n",
       "      <td>BRPR960224</td>\n",
       "      <td>MICROMOD-SX</td>\n",
       "      <td>NaN</td>\n",
       "      <td>FP4-BRITE/EURAM 3</td>\n",
       "      <td>0201</td>\n",
       "      <td>FP4</td>\n",
       "      <td>Predictive Microstructural Assessment and Micr...</td>\n",
       "      <td>1997-01-01</td>\n",
       "      <td>2000-12-31</td>\n",
       "      <td>NaN</td>\n",
       "      <td>\\n\\nEuropean gas turbine manufacturers have a ...</td>\n",
       "      <td>NaN</td>\n",
       "      <td>NaN</td>\n",
       "      <td>NaN</td>\n",
       "      <td>CSC</td>\n",
       "      <td>Ruhr-Universität Bochum</td>\n",
       "      <td>DE</td>\n",
       "      <td>INSTITUTE OF MECHANICS OF MATERIALS AND GEOSTR...</td>\n",
       "      <td>EL;FR;IT;UK;DE</td>\n",
       "      <td>NaN</td>\n",
       "    </tr>\n",
       "    <tr>\n",
       "      <th>4</th>\n",
       "      <td>37158</td>\n",
       "      <td>JOR3960099</td>\n",
       "      <td>NaN</td>\n",
       "      <td>NaN</td>\n",
       "      <td>FP4-NNE-JOULE C</td>\n",
       "      <td>0305</td>\n",
       "      <td>FP4</td>\n",
       "      <td>A novel approach for the integration of biomas...</td>\n",
       "      <td>1996-10-01</td>\n",
       "      <td>1998-09-30</td>\n",
       "      <td>NaN</td>\n",
       "      <td>\\n\\nObjectives \\n\\nThe proposed integrated app...</td>\n",
       "      <td>NaN</td>\n",
       "      <td>NaN</td>\n",
       "      <td>NaN</td>\n",
       "      <td>CSC</td>\n",
       "      <td>AGRICULTURAL UNIVERSITY OF ATHENS</td>\n",
       "      <td>EL</td>\n",
       "      <td>CENTRE FOR RENEWABLE ENERGY SOURCES;Hellenic A...</td>\n",
       "      <td>EL;AT;DE;IT</td>\n",
       "      <td>NaN</td>\n",
       "    </tr>\n",
       "  </tbody>\n",
       "</table>\n",
       "</div>"
      ],
      "text/plain": [
       "     rcn          id      acronym status          programme    topics  \\\n",
       "0  44889  JOR3980231          NaN    NaN    FP4-NNE-JOULE C  03010103   \n",
       "1  43710  IC20970046          NaN    NaN           FP4-INCO        01   \n",
       "2  48019  IC21980401          NaN    NaN           FP4-INCO       NaN   \n",
       "3  35176  BRPR960224  MICROMOD-SX    NaN  FP4-BRITE/EURAM 3      0201   \n",
       "4  37158  JOR3960099          NaN    NaN    FP4-NNE-JOULE C      0305   \n",
       "\n",
       "  frameworkProgramme                                              title  \\\n",
       "0                FP4  Development of a low cost European desalinatio...   \n",
       "1                FP4      Predrying of moist fuels for power production   \n",
       "2                FP4  Integration of renewable energies in the South...   \n",
       "3                FP4  Predictive Microstructural Assessment and Micr...   \n",
       "4                FP4  A novel approach for the integration of biomas...   \n",
       "\n",
       "    startDate     endDate                 projectUrl  \\\n",
       "0  1998-08-01  2001-01-31  http://www.eurotrough.com   \n",
       "1  1998-01-01  2000-12-31                        NaN   \n",
       "2  1998-11-01  2000-10-31                        NaN   \n",
       "3  1997-01-01  2000-12-31                        NaN   \n",
       "4  1996-10-01  1998-09-30                        NaN   \n",
       "\n",
       "                                           objective  totalCost  \\\n",
       "0  \\n1. Detailed EUROTrough design including proc...        NaN   \n",
       "1  \\n\\nIn various EU and East European countries,...        NaN   \n",
       "2  \\n\\nIt is generally recognised that renewable ...        NaN   \n",
       "3  \\n\\nEuropean gas turbine manufacturers have a ...        NaN   \n",
       "4  \\n\\nObjectives \\n\\nThe proposed integrated app...        NaN   \n",
       "\n",
       "   ecMaxContribution  call fundingScheme  \\\n",
       "0                NaN   NaN           CSC   \n",
       "1                NaN   NaN           CSC   \n",
       "2                NaN   NaN           CSC   \n",
       "3                NaN   NaN           CSC   \n",
       "4                NaN   NaN           CSC   \n",
       "\n",
       "                               coordinator coordinatorCountry  \\\n",
       "0                 INSTALACIONES ABENGOA SA                 ES   \n",
       "1                   UNIVERSITAET STUTTGART                 DE   \n",
       "2  OBSERVATOIRE MEDITERRANEEN DE L'ENERGIE                 FR   \n",
       "3                  Ruhr-Universität Bochum                 DE   \n",
       "4        AGRICULTURAL UNIVERSITY OF ATHENS                 EL   \n",
       "\n",
       "                                        participants  participantCountries  \\\n",
       "0  CENTRO DE INVESTIGACIONES ENERGETICAS, MEDIAMB...              ES;DE;EL   \n",
       "1  Technical University of Timisoara;Technical Un...              RO;PL;BG   \n",
       "2  SOCIETE TUNISIENNE DE L'ELECTRICITE ET DU GAZ;...  TN;EG;PS;MA;DZ;JO;TR   \n",
       "3  INSTITUTE OF MECHANICS OF MATERIALS AND GEOSTR...        EL;FR;IT;UK;DE   \n",
       "4  CENTRE FOR RENEWABLE ENERGY SOURCES;Hellenic A...           EL;AT;DE;IT   \n",
       "\n",
       "   subjects  \n",
       "0       NaN  \n",
       "1       NaN  \n",
       "2       NaN  \n",
       "3       NaN  \n",
       "4       NaN  "
      ]
     },
     "execution_count": 137,
     "metadata": {},
     "output_type": "execute_result"
    }
   ],
   "source": [
    "fp4_projects = pd.read_csv('../data/raw/cordis-fp4projects.csv', delimiter=';')\n",
    "fp4_projects.head()"
   ]
  },
  {
   "cell_type": "code",
   "execution_count": 138,
   "metadata": {},
   "outputs": [
    {
     "name": "stderr",
     "output_type": "stream",
     "text": [
      "/var/folders/j8/sgmsw3_510nbtw4brgpr222r0000gn/T/ipykernel_78184/953563350.py:1: DtypeWarning:\n",
      "\n",
      "Columns (7,15) have mixed types. Specify dtype option on import or set low_memory=False.\n",
      "\n"
     ]
    },
    {
     "data": {
      "text/html": [
       "<div>\n",
       "<style scoped>\n",
       "    .dataframe tbody tr th:only-of-type {\n",
       "        vertical-align: middle;\n",
       "    }\n",
       "\n",
       "    .dataframe tbody tr th {\n",
       "        vertical-align: top;\n",
       "    }\n",
       "\n",
       "    .dataframe thead th {\n",
       "        text-align: right;\n",
       "    }\n",
       "</style>\n",
       "<table border=\"1\" class=\"dataframe\">\n",
       "  <thead>\n",
       "    <tr style=\"text-align: right;\">\n",
       "      <th></th>\n",
       "      <th>projectRcn</th>\n",
       "      <th>projectID</th>\n",
       "      <th>projectAcronym</th>\n",
       "      <th>role</th>\n",
       "      <th>id</th>\n",
       "      <th>name</th>\n",
       "      <th>shortName</th>\n",
       "      <th>activityType</th>\n",
       "      <th>endOfParticipation</th>\n",
       "      <th>ecContribution</th>\n",
       "      <th>country</th>\n",
       "      <th>street</th>\n",
       "      <th>city</th>\n",
       "      <th>postCode</th>\n",
       "      <th>organizationUrl</th>\n",
       "      <th>vatNumber</th>\n",
       "      <th>contactForm</th>\n",
       "      <th>contactType</th>\n",
       "      <th>contactTitle</th>\n",
       "      <th>contactFirstNames</th>\n",
       "      <th>contactLastNames</th>\n",
       "      <th>contactFunction</th>\n",
       "      <th>contactTelephoneNumber</th>\n",
       "      <th>contactFaxNumber</th>\n",
       "    </tr>\n",
       "  </thead>\n",
       "  <tbody>\n",
       "    <tr>\n",
       "      <th>0</th>\n",
       "      <td>44889</td>\n",
       "      <td>JOR3980231</td>\n",
       "      <td>NaN</td>\n",
       "      <td>participant</td>\n",
       "      <td>NaN</td>\n",
       "      <td>CENTRO DE INVESTIGACIONES ENERGETICAS, MEDIAMB...</td>\n",
       "      <td>NaN</td>\n",
       "      <td>NaN</td>\n",
       "      <td>NaN</td>\n",
       "      <td>NaN</td>\n",
       "      <td>ES</td>\n",
       "      <td>22,Avenida Complutense 22</td>\n",
       "      <td>MADRID</td>\n",
       "      <td>28040</td>\n",
       "      <td>NaN</td>\n",
       "      <td>NaN</td>\n",
       "      <td>NaN</td>\n",
       "      <td>NaN</td>\n",
       "      <td>NaN</td>\n",
       "      <td>NaN</td>\n",
       "      <td>NaN</td>\n",
       "      <td>NaN</td>\n",
       "      <td>NaN</td>\n",
       "      <td>NaN</td>\n",
       "    </tr>\n",
       "    <tr>\n",
       "      <th>1</th>\n",
       "      <td>44889</td>\n",
       "      <td>JOR3980231</td>\n",
       "      <td>NaN</td>\n",
       "      <td>participant</td>\n",
       "      <td>NaN</td>\n",
       "      <td>GERMAN AEROSPACE CENTRE</td>\n",
       "      <td>NaN</td>\n",
       "      <td>NaN</td>\n",
       "      <td>NaN</td>\n",
       "      <td>NaN</td>\n",
       "      <td>DE</td>\n",
       "      <td>Linder Höhe</td>\n",
       "      <td>KOELN</td>\n",
       "      <td>51147</td>\n",
       "      <td>http://www.dlr.de/et</td>\n",
       "      <td>NaN</td>\n",
       "      <td>NaN</td>\n",
       "      <td>NaN</td>\n",
       "      <td>NaN</td>\n",
       "      <td>NaN</td>\n",
       "      <td>NaN</td>\n",
       "      <td>NaN</td>\n",
       "      <td>NaN</td>\n",
       "      <td>NaN</td>\n",
       "    </tr>\n",
       "    <tr>\n",
       "      <th>2</th>\n",
       "      <td>44889</td>\n",
       "      <td>JOR3980231</td>\n",
       "      <td>NaN</td>\n",
       "      <td>participant</td>\n",
       "      <td>NaN</td>\n",
       "      <td>SBP GMBH</td>\n",
       "      <td>NaN</td>\n",
       "      <td>NaN</td>\n",
       "      <td>NaN</td>\n",
       "      <td>NaN</td>\n",
       "      <td>DE</td>\n",
       "      <td>Hohenzollernstrasse 1</td>\n",
       "      <td>STUTTGART</td>\n",
       "      <td>70178</td>\n",
       "      <td>NaN</td>\n",
       "      <td>NaN</td>\n",
       "      <td>NaN</td>\n",
       "      <td>NaN</td>\n",
       "      <td>NaN</td>\n",
       "      <td>NaN</td>\n",
       "      <td>NaN</td>\n",
       "      <td>NaN</td>\n",
       "      <td>NaN</td>\n",
       "      <td>NaN</td>\n",
       "    </tr>\n",
       "    <tr>\n",
       "      <th>3</th>\n",
       "      <td>44889</td>\n",
       "      <td>JOR3980231</td>\n",
       "      <td>NaN</td>\n",
       "      <td>coordinator</td>\n",
       "      <td>NaN</td>\n",
       "      <td>INSTALACIONES ABENGOA SA</td>\n",
       "      <td>NaN</td>\n",
       "      <td>NaN</td>\n",
       "      <td>NaN</td>\n",
       "      <td>NaN</td>\n",
       "      <td>ES</td>\n",
       "      <td>C/ Manuel Velasco Pando 7</td>\n",
       "      <td>SEVILLA</td>\n",
       "      <td>41007</td>\n",
       "      <td>NaN</td>\n",
       "      <td>NaN</td>\n",
       "      <td>NaN</td>\n",
       "      <td>NaN</td>\n",
       "      <td>NaN</td>\n",
       "      <td>NaN</td>\n",
       "      <td>NaN</td>\n",
       "      <td>NaN</td>\n",
       "      <td>NaN</td>\n",
       "      <td>NaN</td>\n",
       "    </tr>\n",
       "    <tr>\n",
       "      <th>4</th>\n",
       "      <td>44889</td>\n",
       "      <td>JOR3980231</td>\n",
       "      <td>NaN</td>\n",
       "      <td>participant</td>\n",
       "      <td>NaN</td>\n",
       "      <td>Centre for Renewable Energy Sources</td>\n",
       "      <td>NaN</td>\n",
       "      <td>NaN</td>\n",
       "      <td>NaN</td>\n",
       "      <td>NaN</td>\n",
       "      <td>EL</td>\n",
       "      <td>KM 19TH,Marathonos Avenue</td>\n",
       "      <td>Pikermi Attiki</td>\n",
       "      <td>19009</td>\n",
       "      <td>NaN</td>\n",
       "      <td>NaN</td>\n",
       "      <td>NaN</td>\n",
       "      <td>NaN</td>\n",
       "      <td>NaN</td>\n",
       "      <td>NaN</td>\n",
       "      <td>NaN</td>\n",
       "      <td>NaN</td>\n",
       "      <td>NaN</td>\n",
       "      <td>NaN</td>\n",
       "    </tr>\n",
       "  </tbody>\n",
       "</table>\n",
       "</div>"
      ],
      "text/plain": [
       "   projectRcn   projectID projectAcronym         role  id  \\\n",
       "0       44889  JOR3980231            NaN  participant NaN   \n",
       "1       44889  JOR3980231            NaN  participant NaN   \n",
       "2       44889  JOR3980231            NaN  participant NaN   \n",
       "3       44889  JOR3980231            NaN  coordinator NaN   \n",
       "4       44889  JOR3980231            NaN  participant NaN   \n",
       "\n",
       "                                                name shortName activityType  \\\n",
       "0  CENTRO DE INVESTIGACIONES ENERGETICAS, MEDIAMB...       NaN          NaN   \n",
       "1                            GERMAN AEROSPACE CENTRE       NaN          NaN   \n",
       "2                                           SBP GMBH       NaN          NaN   \n",
       "3                           INSTALACIONES ABENGOA SA       NaN          NaN   \n",
       "4                Centre for Renewable Energy Sources       NaN          NaN   \n",
       "\n",
       "   endOfParticipation  ecContribution country                     street  \\\n",
       "0                 NaN             NaN      ES  22,Avenida Complutense 22   \n",
       "1                 NaN             NaN      DE                Linder Höhe   \n",
       "2                 NaN             NaN      DE      Hohenzollernstrasse 1   \n",
       "3                 NaN             NaN      ES  C/ Manuel Velasco Pando 7   \n",
       "4                 NaN             NaN      EL  KM 19TH,Marathonos Avenue   \n",
       "\n",
       "             city postCode       organizationUrl vatNumber  contactForm  \\\n",
       "0          MADRID    28040                   NaN       NaN          NaN   \n",
       "1           KOELN    51147  http://www.dlr.de/et       NaN          NaN   \n",
       "2       STUTTGART    70178                   NaN       NaN          NaN   \n",
       "3         SEVILLA    41007                   NaN       NaN          NaN   \n",
       "4  Pikermi Attiki    19009                   NaN       NaN          NaN   \n",
       "\n",
       "   contactType  contactTitle  contactFirstNames  contactLastNames  \\\n",
       "0          NaN           NaN                NaN               NaN   \n",
       "1          NaN           NaN                NaN               NaN   \n",
       "2          NaN           NaN                NaN               NaN   \n",
       "3          NaN           NaN                NaN               NaN   \n",
       "4          NaN           NaN                NaN               NaN   \n",
       "\n",
       "   contactFunction  contactTelephoneNumber  contactFaxNumber  \n",
       "0              NaN                     NaN               NaN  \n",
       "1              NaN                     NaN               NaN  \n",
       "2              NaN                     NaN               NaN  \n",
       "3              NaN                     NaN               NaN  \n",
       "4              NaN                     NaN               NaN  "
      ]
     },
     "execution_count": 138,
     "metadata": {},
     "output_type": "execute_result"
    }
   ],
   "source": [
    "fp4_organisations = pd.read_csv('../data/raw/cordis-fp4organizations.csv', delimiter='\\t')\n",
    "fp4_organisations.head()"
   ]
  },
  {
   "attachments": {},
   "cell_type": "markdown",
   "metadata": {},
   "source": [
    "## FP3"
   ]
  },
  {
   "cell_type": "code",
   "execution_count": 139,
   "metadata": {},
   "outputs": [
    {
     "data": {
      "text/html": [
       "<div>\n",
       "<style scoped>\n",
       "    .dataframe tbody tr th:only-of-type {\n",
       "        vertical-align: middle;\n",
       "    }\n",
       "\n",
       "    .dataframe tbody tr th {\n",
       "        vertical-align: top;\n",
       "    }\n",
       "\n",
       "    .dataframe thead th {\n",
       "        text-align: right;\n",
       "    }\n",
       "</style>\n",
       "<table border=\"1\" class=\"dataframe\">\n",
       "  <thead>\n",
       "    <tr style=\"text-align: right;\">\n",
       "      <th></th>\n",
       "      <th>rcn</th>\n",
       "      <th>id</th>\n",
       "      <th>acronym</th>\n",
       "      <th>status</th>\n",
       "      <th>programme</th>\n",
       "      <th>topics</th>\n",
       "      <th>frameworkProgramme</th>\n",
       "      <th>title</th>\n",
       "      <th>startDate</th>\n",
       "      <th>endDate</th>\n",
       "      <th>projectUrl</th>\n",
       "      <th>objective</th>\n",
       "      <th>totalCost</th>\n",
       "      <th>ecMaxContribution</th>\n",
       "      <th>call</th>\n",
       "      <th>fundingScheme</th>\n",
       "      <th>coordinator</th>\n",
       "      <th>coordinatorCountry</th>\n",
       "      <th>participants</th>\n",
       "      <th>participantCountries</th>\n",
       "      <th>subjects</th>\n",
       "    </tr>\n",
       "  </thead>\n",
       "  <tbody>\n",
       "    <tr>\n",
       "      <th>0</th>\n",
       "      <td>18045</td>\n",
       "      <td>JOU20418</td>\n",
       "      <td>EUCLIDES</td>\n",
       "      <td>NaN</td>\n",
       "      <td>FP3-JOULE 2</td>\n",
       "      <td>0304</td>\n",
       "      <td>FP3</td>\n",
       "      <td>European concentrated light intensity developm...</td>\n",
       "      <td>1994-01-01</td>\n",
       "      <td>1995-12-31</td>\n",
       "      <td>NaN</td>\n",
       "      <td>The goal of this project is design all the com...</td>\n",
       "      <td>NaN</td>\n",
       "      <td>NaN</td>\n",
       "      <td>NaN</td>\n",
       "      <td>CSC</td>\n",
       "      <td>BP SOLAR LTD</td>\n",
       "      <td>UK</td>\n",
       "      <td>UNIVERSIDAD POLITECNICA DE MADRID;UNIVERSITY O...</td>\n",
       "      <td>ES;UK;DE</td>\n",
       "      <td>NaN</td>\n",
       "    </tr>\n",
       "    <tr>\n",
       "      <th>1</th>\n",
       "      <td>8957</td>\n",
       "      <td>6549</td>\n",
       "      <td>MOSAIC</td>\n",
       "      <td>NaN</td>\n",
       "      <td>FP3-ESPRIT 3</td>\n",
       "      <td>NaN</td>\n",
       "      <td>FP3</td>\n",
       "      <td>Monolithic and Hybrid Optoelectronic Smart-Ass...</td>\n",
       "      <td>1992-04-01</td>\n",
       "      <td>1995-03-31</td>\n",
       "      <td>NaN</td>\n",
       "      <td>In order to demonstrate the functionality of t...</td>\n",
       "      <td>NaN</td>\n",
       "      <td>NaN</td>\n",
       "      <td>NaN</td>\n",
       "      <td>NaN</td>\n",
       "      <td>Alcatel Alsthom Recherche</td>\n",
       "      <td>FR</td>\n",
       "      <td>EIDGENOESSISCHE TECHNISCHE HOCHSCHULE;Commissa...</td>\n",
       "      <td>CH;FR;DE;BE;DK;UK</td>\n",
       "      <td>NaN</td>\n",
       "    </tr>\n",
       "    <tr>\n",
       "      <th>2</th>\n",
       "      <td>6120</td>\n",
       "      <td>BIO2930001</td>\n",
       "      <td>CARBBANK</td>\n",
       "      <td>NaN</td>\n",
       "      <td>FP3-BIOTECH 1</td>\n",
       "      <td>4.2</td>\n",
       "      <td>FP3</td>\n",
       "      <td>A complex carbohydrate structural database</td>\n",
       "      <td>1993-11-01</td>\n",
       "      <td>1996-04-30</td>\n",
       "      <td>NaN</td>\n",
       "      <td>The CarbBank project has been an international...</td>\n",
       "      <td>NaN</td>\n",
       "      <td>256000.0</td>\n",
       "      <td>NaN</td>\n",
       "      <td>CSC</td>\n",
       "      <td>CARLSBERG LABORATORY</td>\n",
       "      <td>DK</td>\n",
       "      <td>UTRECHT UNIVERSITY;UNIVERSITY OF HAMBURG</td>\n",
       "      <td>NL;DE</td>\n",
       "      <td>NaN</td>\n",
       "    </tr>\n",
       "    <tr>\n",
       "      <th>3</th>\n",
       "      <td>6207</td>\n",
       "      <td>BIO2930400</td>\n",
       "      <td>NaN</td>\n",
       "      <td>NaN</td>\n",
       "      <td>FP3-BIOTECH 1</td>\n",
       "      <td>2.1</td>\n",
       "      <td>FP3</td>\n",
       "      <td>Plant molecular genetics for an environmentall...</td>\n",
       "      <td>1993-11-01</td>\n",
       "      <td>1997-08-31</td>\n",
       "      <td>NaN</td>\n",
       "      <td>The EU Biotechnology Programme (1992-94) work ...</td>\n",
       "      <td>NaN</td>\n",
       "      <td>18840710.0</td>\n",
       "      <td>NaN</td>\n",
       "      <td>CSC</td>\n",
       "      <td>JOHN INNES CENTRE</td>\n",
       "      <td>UK</td>\n",
       "      <td>Ente per le Nuove Tecnologie, l'Energia e l'Am...</td>\n",
       "      <td>IT;CH;FR;UK;BE;ES;EL;NL;DK;DE;PT;IE</td>\n",
       "      <td>NaN</td>\n",
       "    </tr>\n",
       "    <tr>\n",
       "      <th>4</th>\n",
       "      <td>5879</td>\n",
       "      <td>BIO2930075</td>\n",
       "      <td>ESSA</td>\n",
       "      <td>NaN</td>\n",
       "      <td>FP3-BIOTECH 1</td>\n",
       "      <td>1.2</td>\n",
       "      <td>FP3</td>\n",
       "      <td>European scientists sequencing Arabidopsis</td>\n",
       "      <td>1993-09-01</td>\n",
       "      <td>1997-02-28</td>\n",
       "      <td>NaN</td>\n",
       "      <td>The aim of this project was to initiate the se...</td>\n",
       "      <td>NaN</td>\n",
       "      <td>1022957.0</td>\n",
       "      <td>NaN</td>\n",
       "      <td>CSC</td>\n",
       "      <td>JOHN INNES CENTRE</td>\n",
       "      <td>UK</td>\n",
       "      <td>THE PROVOST, FELLOWS AND SCHOLARS OF THE COLLE...</td>\n",
       "      <td>IE;FR;BE;ES;NL;DE;UK</td>\n",
       "      <td>NaN</td>\n",
       "    </tr>\n",
       "  </tbody>\n",
       "</table>\n",
       "</div>"
      ],
      "text/plain": [
       "     rcn          id   acronym  status      programme topics  \\\n",
       "0  18045    JOU20418  EUCLIDES     NaN    FP3-JOULE 2   0304   \n",
       "1   8957        6549    MOSAIC     NaN   FP3-ESPRIT 3    NaN   \n",
       "2   6120  BIO2930001  CARBBANK     NaN  FP3-BIOTECH 1    4.2   \n",
       "3   6207  BIO2930400       NaN     NaN  FP3-BIOTECH 1    2.1   \n",
       "4   5879  BIO2930075      ESSA     NaN  FP3-BIOTECH 1    1.2   \n",
       "\n",
       "  frameworkProgramme                                              title  \\\n",
       "0                FP3  European concentrated light intensity developm...   \n",
       "1                FP3  Monolithic and Hybrid Optoelectronic Smart-Ass...   \n",
       "2                FP3         A complex carbohydrate structural database   \n",
       "3                FP3  Plant molecular genetics for an environmentall...   \n",
       "4                FP3         European scientists sequencing Arabidopsis   \n",
       "\n",
       "    startDate     endDate projectUrl  \\\n",
       "0  1994-01-01  1995-12-31        NaN   \n",
       "1  1992-04-01  1995-03-31        NaN   \n",
       "2  1993-11-01  1996-04-30        NaN   \n",
       "3  1993-11-01  1997-08-31        NaN   \n",
       "4  1993-09-01  1997-02-28        NaN   \n",
       "\n",
       "                                           objective  totalCost  \\\n",
       "0  The goal of this project is design all the com...        NaN   \n",
       "1  In order to demonstrate the functionality of t...        NaN   \n",
       "2  The CarbBank project has been an international...        NaN   \n",
       "3  The EU Biotechnology Programme (1992-94) work ...        NaN   \n",
       "4  The aim of this project was to initiate the se...        NaN   \n",
       "\n",
       "   ecMaxContribution  call fundingScheme                coordinator  \\\n",
       "0                NaN   NaN           CSC               BP SOLAR LTD   \n",
       "1                NaN   NaN           NaN  Alcatel Alsthom Recherche   \n",
       "2           256000.0   NaN           CSC       CARLSBERG LABORATORY   \n",
       "3         18840710.0   NaN           CSC          JOHN INNES CENTRE   \n",
       "4          1022957.0   NaN           CSC          JOHN INNES CENTRE   \n",
       "\n",
       "  coordinatorCountry                                       participants  \\\n",
       "0                 UK  UNIVERSIDAD POLITECNICA DE MADRID;UNIVERSITY O...   \n",
       "1                 FR  EIDGENOESSISCHE TECHNISCHE HOCHSCHULE;Commissa...   \n",
       "2                 DK           UTRECHT UNIVERSITY;UNIVERSITY OF HAMBURG   \n",
       "3                 UK  Ente per le Nuove Tecnologie, l'Energia e l'Am...   \n",
       "4                 UK  THE PROVOST, FELLOWS AND SCHOLARS OF THE COLLE...   \n",
       "\n",
       "                  participantCountries  subjects  \n",
       "0                             ES;UK;DE       NaN  \n",
       "1                    CH;FR;DE;BE;DK;UK       NaN  \n",
       "2                                NL;DE       NaN  \n",
       "3  IT;CH;FR;UK;BE;ES;EL;NL;DK;DE;PT;IE       NaN  \n",
       "4                 IE;FR;BE;ES;NL;DE;UK       NaN  "
      ]
     },
     "execution_count": 139,
     "metadata": {},
     "output_type": "execute_result"
    }
   ],
   "source": [
    "fp3_projects = pd.read_csv('../data/raw/cordis-fp3projects.csv', delimiter=';')\n",
    "fp3_projects.head()"
   ]
  },
  {
   "cell_type": "code",
   "execution_count": 140,
   "metadata": {},
   "outputs": [
    {
     "data": {
      "text/html": [
       "<div>\n",
       "<style scoped>\n",
       "    .dataframe tbody tr th:only-of-type {\n",
       "        vertical-align: middle;\n",
       "    }\n",
       "\n",
       "    .dataframe tbody tr th {\n",
       "        vertical-align: top;\n",
       "    }\n",
       "\n",
       "    .dataframe thead th {\n",
       "        text-align: right;\n",
       "    }\n",
       "</style>\n",
       "<table border=\"1\" class=\"dataframe\">\n",
       "  <thead>\n",
       "    <tr style=\"text-align: right;\">\n",
       "      <th></th>\n",
       "      <th>projectRcn</th>\n",
       "      <th>projectID</th>\n",
       "      <th>projectAcronym</th>\n",
       "      <th>role</th>\n",
       "      <th>id</th>\n",
       "      <th>name</th>\n",
       "      <th>shortName</th>\n",
       "      <th>activityType</th>\n",
       "      <th>endOfParticipation</th>\n",
       "      <th>ecContribution</th>\n",
       "      <th>country</th>\n",
       "      <th>street</th>\n",
       "      <th>city</th>\n",
       "      <th>postCode</th>\n",
       "      <th>organizationUrl</th>\n",
       "      <th>vatNumber</th>\n",
       "      <th>contactForm</th>\n",
       "      <th>contactType</th>\n",
       "      <th>contactTitle</th>\n",
       "      <th>contactFirstNames</th>\n",
       "      <th>contactLastNames</th>\n",
       "      <th>contactFunction</th>\n",
       "      <th>contactTelephoneNumber</th>\n",
       "      <th>contactFaxNumber</th>\n",
       "    </tr>\n",
       "  </thead>\n",
       "  <tbody>\n",
       "    <tr>\n",
       "      <th>0</th>\n",
       "      <td>18045</td>\n",
       "      <td>JOU20418</td>\n",
       "      <td>EUCLIDES</td>\n",
       "      <td>coordinator</td>\n",
       "      <td>NaN</td>\n",
       "      <td>BP SOLAR LTD</td>\n",
       "      <td>NaN</td>\n",
       "      <td>NaN</td>\n",
       "      <td>NaN</td>\n",
       "      <td>NaN</td>\n",
       "      <td>UK</td>\n",
       "      <td>CHERTSEY ROAD</td>\n",
       "      <td>SUNBURY-ON-THAMES</td>\n",
       "      <td>TW167XA</td>\n",
       "      <td>http://www.bpsolar.com</td>\n",
       "      <td>NaN</td>\n",
       "      <td>NaN</td>\n",
       "      <td>NaN</td>\n",
       "      <td>NaN</td>\n",
       "      <td>NaN</td>\n",
       "      <td>NaN</td>\n",
       "      <td>NaN</td>\n",
       "      <td>NaN</td>\n",
       "      <td>NaN</td>\n",
       "    </tr>\n",
       "    <tr>\n",
       "      <th>1</th>\n",
       "      <td>18045</td>\n",
       "      <td>JOU20418</td>\n",
       "      <td>EUCLIDES</td>\n",
       "      <td>participant</td>\n",
       "      <td>NaN</td>\n",
       "      <td>UNIVERSIDAD POLITECNICA DE MADRID</td>\n",
       "      <td>NaN</td>\n",
       "      <td>NaN</td>\n",
       "      <td>NaN</td>\n",
       "      <td>NaN</td>\n",
       "      <td>ES</td>\n",
       "      <td>Ciudad Universitaria - ETSI Telecomunicacion</td>\n",
       "      <td>MADRID</td>\n",
       "      <td>28040</td>\n",
       "      <td>NaN</td>\n",
       "      <td>NaN</td>\n",
       "      <td>NaN</td>\n",
       "      <td>NaN</td>\n",
       "      <td>NaN</td>\n",
       "      <td>NaN</td>\n",
       "      <td>NaN</td>\n",
       "      <td>NaN</td>\n",
       "      <td>NaN</td>\n",
       "      <td>NaN</td>\n",
       "    </tr>\n",
       "    <tr>\n",
       "      <th>2</th>\n",
       "      <td>18045</td>\n",
       "      <td>JOU20418</td>\n",
       "      <td>EUCLIDES</td>\n",
       "      <td>participant</td>\n",
       "      <td>NaN</td>\n",
       "      <td>UNIVERSITY OF READING</td>\n",
       "      <td>NaN</td>\n",
       "      <td>NaN</td>\n",
       "      <td>NaN</td>\n",
       "      <td>NaN</td>\n",
       "      <td>UK</td>\n",
       "      <td>Whiteknights</td>\n",
       "      <td>Reading</td>\n",
       "      <td>RG6 6AY</td>\n",
       "      <td>NaN</td>\n",
       "      <td>NaN</td>\n",
       "      <td>NaN</td>\n",
       "      <td>NaN</td>\n",
       "      <td>NaN</td>\n",
       "      <td>NaN</td>\n",
       "      <td>NaN</td>\n",
       "      <td>NaN</td>\n",
       "      <td>NaN</td>\n",
       "      <td>NaN</td>\n",
       "    </tr>\n",
       "    <tr>\n",
       "      <th>3</th>\n",
       "      <td>18045</td>\n",
       "      <td>JOU20418</td>\n",
       "      <td>EUCLIDES</td>\n",
       "      <td>participant</td>\n",
       "      <td>NaN</td>\n",
       "      <td>CENTER FOR SOLAR ENERGY AND HYDROGEN RESEARCH ...</td>\n",
       "      <td>NaN</td>\n",
       "      <td>NaN</td>\n",
       "      <td>NaN</td>\n",
       "      <td>NaN</td>\n",
       "      <td>DE</td>\n",
       "      <td>Hessbruehlstrasse 21c</td>\n",
       "      <td>STUTTGART</td>\n",
       "      <td>70565</td>\n",
       "      <td>NaN</td>\n",
       "      <td>NaN</td>\n",
       "      <td>NaN</td>\n",
       "      <td>NaN</td>\n",
       "      <td>NaN</td>\n",
       "      <td>NaN</td>\n",
       "      <td>NaN</td>\n",
       "      <td>NaN</td>\n",
       "      <td>NaN</td>\n",
       "      <td>NaN</td>\n",
       "    </tr>\n",
       "    <tr>\n",
       "      <th>4</th>\n",
       "      <td>8957</td>\n",
       "      <td>6549</td>\n",
       "      <td>MOSAIC</td>\n",
       "      <td>participant</td>\n",
       "      <td>NaN</td>\n",
       "      <td>EIDGENOESSISCHE TECHNISCHE HOCHSCHULE</td>\n",
       "      <td>NaN</td>\n",
       "      <td>NaN</td>\n",
       "      <td>NaN</td>\n",
       "      <td>NaN</td>\n",
       "      <td>CH</td>\n",
       "      <td>ETH-ZENTRUM</td>\n",
       "      <td>ZURICH</td>\n",
       "      <td>8092</td>\n",
       "      <td>NaN</td>\n",
       "      <td>NaN</td>\n",
       "      <td>NaN</td>\n",
       "      <td>NaN</td>\n",
       "      <td>NaN</td>\n",
       "      <td>NaN</td>\n",
       "      <td>NaN</td>\n",
       "      <td>NaN</td>\n",
       "      <td>NaN</td>\n",
       "      <td>NaN</td>\n",
       "    </tr>\n",
       "  </tbody>\n",
       "</table>\n",
       "</div>"
      ],
      "text/plain": [
       "   projectRcn projectID projectAcronym         role  id  \\\n",
       "0       18045  JOU20418       EUCLIDES  coordinator NaN   \n",
       "1       18045  JOU20418       EUCLIDES  participant NaN   \n",
       "2       18045  JOU20418       EUCLIDES  participant NaN   \n",
       "3       18045  JOU20418       EUCLIDES  participant NaN   \n",
       "4        8957      6549         MOSAIC  participant NaN   \n",
       "\n",
       "                                                name shortName  activityType  \\\n",
       "0                                       BP SOLAR LTD       NaN           NaN   \n",
       "1                  UNIVERSIDAD POLITECNICA DE MADRID       NaN           NaN   \n",
       "2                              UNIVERSITY OF READING       NaN           NaN   \n",
       "3  CENTER FOR SOLAR ENERGY AND HYDROGEN RESEARCH ...       NaN           NaN   \n",
       "4              EIDGENOESSISCHE TECHNISCHE HOCHSCHULE       NaN           NaN   \n",
       "\n",
       "   endOfParticipation  ecContribution country  \\\n",
       "0                 NaN             NaN      UK   \n",
       "1                 NaN             NaN      ES   \n",
       "2                 NaN             NaN      UK   \n",
       "3                 NaN             NaN      DE   \n",
       "4                 NaN             NaN      CH   \n",
       "\n",
       "                                         street               city postCode  \\\n",
       "0                                 CHERTSEY ROAD  SUNBURY-ON-THAMES  TW167XA   \n",
       "1  Ciudad Universitaria - ETSI Telecomunicacion             MADRID    28040   \n",
       "2                                  Whiteknights            Reading  RG6 6AY   \n",
       "3                         Hessbruehlstrasse 21c          STUTTGART    70565   \n",
       "4                                   ETH-ZENTRUM             ZURICH     8092   \n",
       "\n",
       "          organizationUrl  vatNumber  contactForm  contactType  contactTitle  \\\n",
       "0  http://www.bpsolar.com        NaN          NaN          NaN           NaN   \n",
       "1                     NaN        NaN          NaN          NaN           NaN   \n",
       "2                     NaN        NaN          NaN          NaN           NaN   \n",
       "3                     NaN        NaN          NaN          NaN           NaN   \n",
       "4                     NaN        NaN          NaN          NaN           NaN   \n",
       "\n",
       "   contactFirstNames  contactLastNames  contactFunction  \\\n",
       "0                NaN               NaN              NaN   \n",
       "1                NaN               NaN              NaN   \n",
       "2                NaN               NaN              NaN   \n",
       "3                NaN               NaN              NaN   \n",
       "4                NaN               NaN              NaN   \n",
       "\n",
       "   contactTelephoneNumber  contactFaxNumber  \n",
       "0                     NaN               NaN  \n",
       "1                     NaN               NaN  \n",
       "2                     NaN               NaN  \n",
       "3                     NaN               NaN  \n",
       "4                     NaN               NaN  "
      ]
     },
     "execution_count": 140,
     "metadata": {},
     "output_type": "execute_result"
    }
   ],
   "source": [
    "fp3_organisations = pd.read_csv('../data/raw/cordis-fp3organizations.csv', delimiter='\\t')\n",
    "fp3_organisations.head()"
   ]
  },
  {
   "attachments": {},
   "cell_type": "markdown",
   "metadata": {},
   "source": [
    "## FP2"
   ]
  },
  {
   "cell_type": "code",
   "execution_count": 141,
   "metadata": {},
   "outputs": [
    {
     "data": {
      "text/html": [
       "<div>\n",
       "<style scoped>\n",
       "    .dataframe tbody tr th:only-of-type {\n",
       "        vertical-align: middle;\n",
       "    }\n",
       "\n",
       "    .dataframe tbody tr th {\n",
       "        vertical-align: top;\n",
       "    }\n",
       "\n",
       "    .dataframe thead th {\n",
       "        text-align: right;\n",
       "    }\n",
       "</style>\n",
       "<table border=\"1\" class=\"dataframe\">\n",
       "  <thead>\n",
       "    <tr style=\"text-align: right;\">\n",
       "      <th></th>\n",
       "      <th>rcn</th>\n",
       "      <th>id</th>\n",
       "      <th>acronym</th>\n",
       "      <th>status</th>\n",
       "      <th>programme</th>\n",
       "      <th>topics</th>\n",
       "      <th>frameworkProgramme</th>\n",
       "      <th>title</th>\n",
       "      <th>startDate</th>\n",
       "      <th>endDate</th>\n",
       "      <th>projectUrl</th>\n",
       "      <th>objective</th>\n",
       "      <th>totalCost</th>\n",
       "      <th>ecMaxContribution</th>\n",
       "      <th>call</th>\n",
       "      <th>fundingScheme</th>\n",
       "      <th>coordinator</th>\n",
       "      <th>coordinatorCountry</th>\n",
       "      <th>participants</th>\n",
       "      <th>participantCountries</th>\n",
       "      <th>subjects</th>\n",
       "    </tr>\n",
       "  </thead>\n",
       "  <tbody>\n",
       "    <tr>\n",
       "      <th>0</th>\n",
       "      <td>7639</td>\n",
       "      <td>AGRE0067</td>\n",
       "      <td>NaN</td>\n",
       "      <td>NaN</td>\n",
       "      <td>FP2-ECLAIR</td>\n",
       "      <td>NaN</td>\n",
       "      <td>FP2</td>\n",
       "      <td>Upgrading the genetic quality of European hard...</td>\n",
       "      <td>1991-03-01</td>\n",
       "      <td>1995-02-28</td>\n",
       "      <td>NaN</td>\n",
       "      <td>The objective of this project is to upgrade th...</td>\n",
       "      <td>NaN</td>\n",
       "      <td>NaN</td>\n",
       "      <td>NaN</td>\n",
       "      <td>CSC</td>\n",
       "      <td>Teagasc, Agriculture and Food Development Auth...</td>\n",
       "      <td>IE</td>\n",
       "      <td>Azienda Agricola Meristema Srl;Bonsai-Flora SA...</td>\n",
       "      <td>IT;ES;IE;NL;BE;DE;DK;FR</td>\n",
       "      <td>NaN</td>\n",
       "    </tr>\n",
       "    <tr>\n",
       "      <th>1</th>\n",
       "      <td>135</td>\n",
       "      <td>80010118</td>\n",
       "      <td>NaN</td>\n",
       "      <td>NaN</td>\n",
       "      <td>FP2-CAMAR</td>\n",
       "      <td>NaN</td>\n",
       "      <td>FP2</td>\n",
       "      <td>IMPROVING WATER VALORISATION IN SUNFLOWER CROP...</td>\n",
       "      <td>1992-01-01</td>\n",
       "      <td>1995-01-01</td>\n",
       "      <td>NaN</td>\n",
       "      <td>\\nProblems of drought are of major importance ...</td>\n",
       "      <td>NaN</td>\n",
       "      <td>NaN</td>\n",
       "      <td>NaN</td>\n",
       "      <td>NaN</td>\n",
       "      <td>Institut National de la Recherche Agronomique ...</td>\n",
       "      <td>FR</td>\n",
       "      <td>RUSTICA SEMENCES;Università degli Studi di Udi...</td>\n",
       "      <td>FR;IT;DE;ES</td>\n",
       "      <td>NaN</td>\n",
       "    </tr>\n",
       "    <tr>\n",
       "      <th>2</th>\n",
       "      <td>2605</td>\n",
       "      <td>JOUR0067</td>\n",
       "      <td>NaN</td>\n",
       "      <td>NaN</td>\n",
       "      <td>FP2-JOULE 1</td>\n",
       "      <td>NaN</td>\n",
       "      <td>FP2</td>\n",
       "      <td>Wind measurements and modelling in complex ter...</td>\n",
       "      <td>1990-09-01</td>\n",
       "      <td>1995-06-30</td>\n",
       "      <td>NaN</td>\n",
       "      <td>To deeper knowledge of local wind characterist...</td>\n",
       "      <td>NaN</td>\n",
       "      <td>NaN</td>\n",
       "      <td>NaN</td>\n",
       "      <td>CSC</td>\n",
       "      <td>RISOE NATIONAL LABORATORY</td>\n",
       "      <td>DK</td>\n",
       "      <td>UNIVERSITY COLLEGE DUBLIN;Centre for Renewable...</td>\n",
       "      <td>IE;EL;UK;ES;IT;FR;PT;FI;DE</td>\n",
       "      <td>NaN</td>\n",
       "    </tr>\n",
       "    <tr>\n",
       "      <th>3</th>\n",
       "      <td>2594</td>\n",
       "      <td>JOUE0055</td>\n",
       "      <td>NaN</td>\n",
       "      <td>NaN</td>\n",
       "      <td>FP2-JOULE 1</td>\n",
       "      <td>NaN</td>\n",
       "      <td>FP2</td>\n",
       "      <td>Replacement of CFC's in refrigeration systems</td>\n",
       "      <td>1990-11-01</td>\n",
       "      <td>1993-03-31</td>\n",
       "      <td>NaN</td>\n",
       "      <td>To investigate a number of refrigerants on the...</td>\n",
       "      <td>NaN</td>\n",
       "      <td>NaN</td>\n",
       "      <td>NaN</td>\n",
       "      <td>CSC</td>\n",
       "      <td>UNIVERSITY OF ULSTER</td>\n",
       "      <td>UK</td>\n",
       "      <td>Akzo International Research NV;IMPERIAL CHEMIC...</td>\n",
       "      <td>NL;UK;DE;IT</td>\n",
       "      <td>NaN</td>\n",
       "    </tr>\n",
       "    <tr>\n",
       "      <th>4</th>\n",
       "      <td>2820</td>\n",
       "      <td>MA2M0012</td>\n",
       "      <td>NaN</td>\n",
       "      <td>NaN</td>\n",
       "      <td>FP2-MATREC C</td>\n",
       "      <td>NaN</td>\n",
       "      <td>FP2</td>\n",
       "      <td>SILICA REMOVAL FROM BAUXITES</td>\n",
       "      <td>1991-03-01</td>\n",
       "      <td>1993-02-28</td>\n",
       "      <td>NaN</td>\n",
       "      <td>The aim of the project is to develop a highly ...</td>\n",
       "      <td>NaN</td>\n",
       "      <td>NaN</td>\n",
       "      <td>NaN</td>\n",
       "      <td>CSC</td>\n",
       "      <td>National Technical University of Athens</td>\n",
       "      <td>EL</td>\n",
       "      <td>Bauxite Parnasse Mining Company SA;PROGEMISA S...</td>\n",
       "      <td>EL;IT;UK</td>\n",
       "      <td>NaN</td>\n",
       "    </tr>\n",
       "  </tbody>\n",
       "</table>\n",
       "</div>"
      ],
      "text/plain": [
       "    rcn        id acronym  status     programme topics frameworkProgramme  \\\n",
       "0  7639  AGRE0067     NaN     NaN    FP2-ECLAIR    NaN                FP2   \n",
       "1   135  80010118     NaN     NaN     FP2-CAMAR    NaN                FP2   \n",
       "2  2605  JOUR0067     NaN     NaN   FP2-JOULE 1    NaN                FP2   \n",
       "3  2594  JOUE0055     NaN     NaN   FP2-JOULE 1    NaN                FP2   \n",
       "4  2820  MA2M0012     NaN     NaN  FP2-MATREC C    NaN                FP2   \n",
       "\n",
       "                                               title   startDate     endDate  \\\n",
       "0  Upgrading the genetic quality of European hard...  1991-03-01  1995-02-28   \n",
       "1  IMPROVING WATER VALORISATION IN SUNFLOWER CROP...  1992-01-01  1995-01-01   \n",
       "2  Wind measurements and modelling in complex ter...  1990-09-01  1995-06-30   \n",
       "3      Replacement of CFC's in refrigeration systems  1990-11-01  1993-03-31   \n",
       "4                       SILICA REMOVAL FROM BAUXITES  1991-03-01  1993-02-28   \n",
       "\n",
       "  projectUrl                                          objective  totalCost  \\\n",
       "0        NaN  The objective of this project is to upgrade th...        NaN   \n",
       "1        NaN  \\nProblems of drought are of major importance ...        NaN   \n",
       "2        NaN  To deeper knowledge of local wind characterist...        NaN   \n",
       "3        NaN  To investigate a number of refrigerants on the...        NaN   \n",
       "4        NaN  The aim of the project is to develop a highly ...        NaN   \n",
       "\n",
       "   ecMaxContribution  call fundingScheme  \\\n",
       "0                NaN   NaN           CSC   \n",
       "1                NaN   NaN           NaN   \n",
       "2                NaN   NaN           CSC   \n",
       "3                NaN   NaN           CSC   \n",
       "4                NaN   NaN           CSC   \n",
       "\n",
       "                                         coordinator coordinatorCountry  \\\n",
       "0  Teagasc, Agriculture and Food Development Auth...                 IE   \n",
       "1  Institut National de la Recherche Agronomique ...                 FR   \n",
       "2                          RISOE NATIONAL LABORATORY                 DK   \n",
       "3                               UNIVERSITY OF ULSTER                 UK   \n",
       "4            National Technical University of Athens                 EL   \n",
       "\n",
       "                                        participants  \\\n",
       "0  Azienda Agricola Meristema Srl;Bonsai-Flora SA...   \n",
       "1  RUSTICA SEMENCES;Università degli Studi di Udi...   \n",
       "2  UNIVERSITY COLLEGE DUBLIN;Centre for Renewable...   \n",
       "3  Akzo International Research NV;IMPERIAL CHEMIC...   \n",
       "4  Bauxite Parnasse Mining Company SA;PROGEMISA S...   \n",
       "\n",
       "         participantCountries  subjects  \n",
       "0     IT;ES;IE;NL;BE;DE;DK;FR       NaN  \n",
       "1                 FR;IT;DE;ES       NaN  \n",
       "2  IE;EL;UK;ES;IT;FR;PT;FI;DE       NaN  \n",
       "3                 NL;UK;DE;IT       NaN  \n",
       "4                    EL;IT;UK       NaN  "
      ]
     },
     "execution_count": 141,
     "metadata": {},
     "output_type": "execute_result"
    }
   ],
   "source": [
    "fp2_projects = pd.read_csv('../data/raw/cordis-fp2projects.csv', delimiter=';')\n",
    "fp2_projects.head()"
   ]
  },
  {
   "cell_type": "code",
   "execution_count": 142,
   "metadata": {},
   "outputs": [
    {
     "data": {
      "text/html": [
       "<div>\n",
       "<style scoped>\n",
       "    .dataframe tbody tr th:only-of-type {\n",
       "        vertical-align: middle;\n",
       "    }\n",
       "\n",
       "    .dataframe tbody tr th {\n",
       "        vertical-align: top;\n",
       "    }\n",
       "\n",
       "    .dataframe thead th {\n",
       "        text-align: right;\n",
       "    }\n",
       "</style>\n",
       "<table border=\"1\" class=\"dataframe\">\n",
       "  <thead>\n",
       "    <tr style=\"text-align: right;\">\n",
       "      <th></th>\n",
       "      <th>projectRcn</th>\n",
       "      <th>projectID</th>\n",
       "      <th>projectAcronym</th>\n",
       "      <th>role</th>\n",
       "      <th>id</th>\n",
       "      <th>name</th>\n",
       "      <th>shortName</th>\n",
       "      <th>activityType</th>\n",
       "      <th>endOfParticipation</th>\n",
       "      <th>ecContribution</th>\n",
       "      <th>country</th>\n",
       "      <th>street</th>\n",
       "      <th>city</th>\n",
       "      <th>postCode</th>\n",
       "      <th>organizationUrl</th>\n",
       "      <th>vatNumber</th>\n",
       "      <th>contactForm</th>\n",
       "      <th>contactType</th>\n",
       "      <th>contactTitle</th>\n",
       "      <th>contactFirstNames</th>\n",
       "      <th>contactLastNames</th>\n",
       "      <th>contactFunction</th>\n",
       "      <th>contactTelephoneNumber</th>\n",
       "      <th>contactFaxNumber</th>\n",
       "    </tr>\n",
       "  </thead>\n",
       "  <tbody>\n",
       "    <tr>\n",
       "      <th>0</th>\n",
       "      <td>7639</td>\n",
       "      <td>AGRE0067</td>\n",
       "      <td>NaN</td>\n",
       "      <td>coordinator</td>\n",
       "      <td>NaN</td>\n",
       "      <td>Teagasc, Agriculture and Food Development Auth...</td>\n",
       "      <td>NaN</td>\n",
       "      <td>NaN</td>\n",
       "      <td>NaN</td>\n",
       "      <td>NaN</td>\n",
       "      <td>IE</td>\n",
       "      <td>Malahide Road</td>\n",
       "      <td>Dublin</td>\n",
       "      <td>17</td>\n",
       "      <td>NaN</td>\n",
       "      <td>NaN</td>\n",
       "      <td>NaN</td>\n",
       "      <td>NaN</td>\n",
       "      <td>NaN</td>\n",
       "      <td>NaN</td>\n",
       "      <td>NaN</td>\n",
       "      <td>NaN</td>\n",
       "      <td>NaN</td>\n",
       "      <td>NaN</td>\n",
       "    </tr>\n",
       "    <tr>\n",
       "      <th>1</th>\n",
       "      <td>7639</td>\n",
       "      <td>AGRE0067</td>\n",
       "      <td>NaN</td>\n",
       "      <td>participant</td>\n",
       "      <td>NaN</td>\n",
       "      <td>Azienda Agricola Meristema Srl</td>\n",
       "      <td>NaN</td>\n",
       "      <td>NaN</td>\n",
       "      <td>NaN</td>\n",
       "      <td>NaN</td>\n",
       "      <td>IT</td>\n",
       "      <td>Via Martiri della Libertá 13</td>\n",
       "      <td>Cascine di Buti Pisa</td>\n",
       "      <td>56030</td>\n",
       "      <td>NaN</td>\n",
       "      <td>NaN</td>\n",
       "      <td>NaN</td>\n",
       "      <td>NaN</td>\n",
       "      <td>NaN</td>\n",
       "      <td>NaN</td>\n",
       "      <td>NaN</td>\n",
       "      <td>NaN</td>\n",
       "      <td>NaN</td>\n",
       "      <td>NaN</td>\n",
       "    </tr>\n",
       "    <tr>\n",
       "      <th>2</th>\n",
       "      <td>7639</td>\n",
       "      <td>AGRE0067</td>\n",
       "      <td>NaN</td>\n",
       "      <td>participant</td>\n",
       "      <td>NaN</td>\n",
       "      <td>Bonsai-Flora SAT 681 XUGA</td>\n",
       "      <td>NaN</td>\n",
       "      <td>NaN</td>\n",
       "      <td>NaN</td>\n",
       "      <td>NaN</td>\n",
       "      <td>ES</td>\n",
       "      <td>7,Fondeadero de Crendes</td>\n",
       "      <td>Abegondo La Coruña</td>\n",
       "      <td>15318</td>\n",
       "      <td>NaN</td>\n",
       "      <td>NaN</td>\n",
       "      <td>NaN</td>\n",
       "      <td>NaN</td>\n",
       "      <td>NaN</td>\n",
       "      <td>NaN</td>\n",
       "      <td>NaN</td>\n",
       "      <td>NaN</td>\n",
       "      <td>NaN</td>\n",
       "      <td>NaN</td>\n",
       "    </tr>\n",
       "    <tr>\n",
       "      <th>3</th>\n",
       "      <td>7639</td>\n",
       "      <td>AGRE0067</td>\n",
       "      <td>NaN</td>\n",
       "      <td>participant</td>\n",
       "      <td>NaN</td>\n",
       "      <td>NATIONAL RESEARCH COUNCIL OF ITALY</td>\n",
       "      <td>NaN</td>\n",
       "      <td>NaN</td>\n",
       "      <td>NaN</td>\n",
       "      <td>NaN</td>\n",
       "      <td>IT</td>\n",
       "      <td>Via Atto Vannucci 13</td>\n",
       "      <td>FIRENZE</td>\n",
       "      <td>50134</td>\n",
       "      <td>NaN</td>\n",
       "      <td>NaN</td>\n",
       "      <td>NaN</td>\n",
       "      <td>NaN</td>\n",
       "      <td>NaN</td>\n",
       "      <td>NaN</td>\n",
       "      <td>NaN</td>\n",
       "      <td>NaN</td>\n",
       "      <td>NaN</td>\n",
       "      <td>NaN</td>\n",
       "    </tr>\n",
       "    <tr>\n",
       "      <th>4</th>\n",
       "      <td>7639</td>\n",
       "      <td>AGRE0067</td>\n",
       "      <td>NaN</td>\n",
       "      <td>participant</td>\n",
       "      <td>NaN</td>\n",
       "      <td>Coillte Teoranta</td>\n",
       "      <td>NaN</td>\n",
       "      <td>NaN</td>\n",
       "      <td>NaN</td>\n",
       "      <td>NaN</td>\n",
       "      <td>IE</td>\n",
       "      <td>2,Sidmonton Place</td>\n",
       "      <td>Bray, County Wicklow</td>\n",
       "      <td>26</td>\n",
       "      <td>NaN</td>\n",
       "      <td>NaN</td>\n",
       "      <td>NaN</td>\n",
       "      <td>NaN</td>\n",
       "      <td>NaN</td>\n",
       "      <td>NaN</td>\n",
       "      <td>NaN</td>\n",
       "      <td>NaN</td>\n",
       "      <td>NaN</td>\n",
       "      <td>NaN</td>\n",
       "    </tr>\n",
       "  </tbody>\n",
       "</table>\n",
       "</div>"
      ],
      "text/plain": [
       "   projectRcn projectID projectAcronym         role  id  \\\n",
       "0        7639  AGRE0067            NaN  coordinator NaN   \n",
       "1        7639  AGRE0067            NaN  participant NaN   \n",
       "2        7639  AGRE0067            NaN  participant NaN   \n",
       "3        7639  AGRE0067            NaN  participant NaN   \n",
       "4        7639  AGRE0067            NaN  participant NaN   \n",
       "\n",
       "                                                name shortName  activityType  \\\n",
       "0  Teagasc, Agriculture and Food Development Auth...       NaN           NaN   \n",
       "1                     Azienda Agricola Meristema Srl       NaN           NaN   \n",
       "2                          Bonsai-Flora SAT 681 XUGA       NaN           NaN   \n",
       "3                 NATIONAL RESEARCH COUNCIL OF ITALY       NaN           NaN   \n",
       "4                                   Coillte Teoranta       NaN           NaN   \n",
       "\n",
       "   endOfParticipation  ecContribution country                        street  \\\n",
       "0                 NaN             NaN      IE                 Malahide Road   \n",
       "1                 NaN             NaN      IT  Via Martiri della Libertá 13   \n",
       "2                 NaN             NaN      ES       7,Fondeadero de Crendes   \n",
       "3                 NaN             NaN      IT          Via Atto Vannucci 13   \n",
       "4                 NaN             NaN      IE             2,Sidmonton Place   \n",
       "\n",
       "                   city postCode organizationUrl  vatNumber  contactForm  \\\n",
       "0                Dublin       17             NaN        NaN          NaN   \n",
       "1  Cascine di Buti Pisa    56030             NaN        NaN          NaN   \n",
       "2    Abegondo La Coruña    15318             NaN        NaN          NaN   \n",
       "3               FIRENZE    50134             NaN        NaN          NaN   \n",
       "4  Bray, County Wicklow       26             NaN        NaN          NaN   \n",
       "\n",
       "   contactType  contactTitle  contactFirstNames  contactLastNames  \\\n",
       "0          NaN           NaN                NaN               NaN   \n",
       "1          NaN           NaN                NaN               NaN   \n",
       "2          NaN           NaN                NaN               NaN   \n",
       "3          NaN           NaN                NaN               NaN   \n",
       "4          NaN           NaN                NaN               NaN   \n",
       "\n",
       "   contactFunction  contactTelephoneNumber  contactFaxNumber  \n",
       "0              NaN                     NaN               NaN  \n",
       "1              NaN                     NaN               NaN  \n",
       "2              NaN                     NaN               NaN  \n",
       "3              NaN                     NaN               NaN  \n",
       "4              NaN                     NaN               NaN  "
      ]
     },
     "execution_count": 142,
     "metadata": {},
     "output_type": "execute_result"
    }
   ],
   "source": [
    "fp2_organisations = pd.read_csv('../data/raw/cordis-fp2organizations.csv', delimiter='\\t')\n",
    "fp2_organisations.head()"
   ]
  },
  {
   "attachments": {},
   "cell_type": "markdown",
   "metadata": {},
   "source": [
    "## FP1"
   ]
  },
  {
   "cell_type": "code",
   "execution_count": 143,
   "metadata": {},
   "outputs": [
    {
     "data": {
      "text/html": [
       "<div>\n",
       "<style scoped>\n",
       "    .dataframe tbody tr th:only-of-type {\n",
       "        vertical-align: middle;\n",
       "    }\n",
       "\n",
       "    .dataframe tbody tr th {\n",
       "        vertical-align: top;\n",
       "    }\n",
       "\n",
       "    .dataframe thead th {\n",
       "        text-align: right;\n",
       "    }\n",
       "</style>\n",
       "<table border=\"1\" class=\"dataframe\">\n",
       "  <thead>\n",
       "    <tr style=\"text-align: right;\">\n",
       "      <th></th>\n",
       "      <th>rcn</th>\n",
       "      <th>id</th>\n",
       "      <th>acronym</th>\n",
       "      <th>status</th>\n",
       "      <th>programme</th>\n",
       "      <th>topics</th>\n",
       "      <th>frameworkProgramme</th>\n",
       "      <th>title</th>\n",
       "      <th>startDate</th>\n",
       "      <th>endDate</th>\n",
       "      <th>projectUrl</th>\n",
       "      <th>objective</th>\n",
       "      <th>totalCost</th>\n",
       "      <th>ecMaxContribution</th>\n",
       "      <th>call</th>\n",
       "      <th>fundingScheme</th>\n",
       "      <th>coordinator</th>\n",
       "      <th>coordinatorCountry</th>\n",
       "      <th>participants</th>\n",
       "      <th>participantCountries</th>\n",
       "      <th>subjects</th>\n",
       "    </tr>\n",
       "  </thead>\n",
       "  <tbody>\n",
       "    <tr>\n",
       "      <th>0</th>\n",
       "      <td>11643</td>\n",
       "      <td>MA1B0008</td>\n",
       "      <td>NaN</td>\n",
       "      <td>NaN</td>\n",
       "      <td>FP1-RAWMAT 3C</td>\n",
       "      <td>NaN</td>\n",
       "      <td>FP1</td>\n",
       "      <td>A STUDY OF THE PARASITIC FUNGI OF THE GENUS AR...</td>\n",
       "      <td>1988-01-01</td>\n",
       "      <td>1989-12-31</td>\n",
       "      <td>NaN</td>\n",
       "      <td>TO DEVELOP NEW METHODS OF IDENTIFICATION OF AR...</td>\n",
       "      <td>NaN</td>\n",
       "      <td>NaN</td>\n",
       "      <td>NaN</td>\n",
       "      <td>CSC</td>\n",
       "      <td>Institut National de la Recherche Agronomique ...</td>\n",
       "      <td>FR</td>\n",
       "      <td>THE CHANCELLOR, MASTERS AND SCHOLARS OF THE UN...</td>\n",
       "      <td>UK;FR;IT;DE</td>\n",
       "      <td>NaN</td>\n",
       "    </tr>\n",
       "    <tr>\n",
       "      <th>1</th>\n",
       "      <td>11881</td>\n",
       "      <td>EV4V0111</td>\n",
       "      <td>EROS 2000</td>\n",
       "      <td>NaN</td>\n",
       "      <td>FP1-ENVPROT 4C</td>\n",
       "      <td>NaN</td>\n",
       "      <td>FP1</td>\n",
       "      <td>EUROPEAN RIVER OCEAN SYSTEM</td>\n",
       "      <td>1988-02-01</td>\n",
       "      <td>1990-05-31</td>\n",
       "      <td>NaN</td>\n",
       "      <td>TO INVESTIGATE THE BIOGEOCHEMICAL INTERACTIONS...</td>\n",
       "      <td>NaN</td>\n",
       "      <td>NaN</td>\n",
       "      <td>NaN</td>\n",
       "      <td>CSC</td>\n",
       "      <td>Centre National de la Recherche Scientifique (...</td>\n",
       "      <td>FR</td>\n",
       "      <td>University College Dublin;UNIVERSITY OF WALES ...</td>\n",
       "      <td>IE;UK;IT;ES;PT;DE;NL;DK;EL;BE</td>\n",
       "      <td>NaN</td>\n",
       "    </tr>\n",
       "    <tr>\n",
       "      <th>2</th>\n",
       "      <td>10946</td>\n",
       "      <td>ST2*0172</td>\n",
       "      <td>NaN</td>\n",
       "      <td>NaN</td>\n",
       "      <td>FP1-STIMULATION 1C</td>\n",
       "      <td>NaN</td>\n",
       "      <td>FP1</td>\n",
       "      <td>MOLECULAR GENETICS OF HUMAN ERYTHROCYTE GLUCOS...</td>\n",
       "      <td>1986-04-01</td>\n",
       "      <td>1989-03-31</td>\n",
       "      <td>NaN</td>\n",
       "      <td>\\n\\nANALYZE THE ENTIRE STRUCTURE OF THE GD GEN...</td>\n",
       "      <td>NaN</td>\n",
       "      <td>NaN</td>\n",
       "      <td>NaN</td>\n",
       "      <td>CSC</td>\n",
       "      <td>Royal Postgraduate Medical School</td>\n",
       "      <td>UK</td>\n",
       "      <td>NATIONAL RESEARCH COUNCIL OF ITALY</td>\n",
       "      <td>IT</td>\n",
       "      <td>NaN</td>\n",
       "    </tr>\n",
       "    <tr>\n",
       "      <th>3</th>\n",
       "      <td>13795</td>\n",
       "      <td>BAP*0059</td>\n",
       "      <td>NaN</td>\n",
       "      <td>NaN</td>\n",
       "      <td>FP1-BAP</td>\n",
       "      <td>NaN</td>\n",
       "      <td>FP1</td>\n",
       "      <td>CONTINUOUS SYNTHESIS OF FINE CHEMICALS BY COFA...</td>\n",
       "      <td>1986-07-01</td>\n",
       "      <td>1989-12-31</td>\n",
       "      <td>NaN</td>\n",
       "      <td>THE LONG TERM OBJECTIVE OF THE JOINT PROJECT I...</td>\n",
       "      <td>NaN</td>\n",
       "      <td>NaN</td>\n",
       "      <td>NaN</td>\n",
       "      <td>CSC</td>\n",
       "      <td>FRAUNHOFER-GESELLSCHAFT ZUR FOERDERUNG DER ANG...</td>\n",
       "      <td>DE</td>\n",
       "      <td>GBF - NATIONAL CENTRE FOR BIOTECHNOLOGY;Consig...</td>\n",
       "      <td>DE;IT</td>\n",
       "      <td>NaN</td>\n",
       "    </tr>\n",
       "    <tr>\n",
       "      <th>4</th>\n",
       "      <td>13796</td>\n",
       "      <td>BAP*0060</td>\n",
       "      <td>NaN</td>\n",
       "      <td>NaN</td>\n",
       "      <td>FP1-BAP</td>\n",
       "      <td>NaN</td>\n",
       "      <td>FP1</td>\n",
       "      <td>CONTINUOUS SYNTHESIS OF FINE CHEMICALS BY COFA...</td>\n",
       "      <td>1986-07-01</td>\n",
       "      <td>1990-12-31</td>\n",
       "      <td>NaN</td>\n",
       "      <td>\\nTo produce nicotinamide adenine dinucleotide...</td>\n",
       "      <td>NaN</td>\n",
       "      <td>NaN</td>\n",
       "      <td>NaN</td>\n",
       "      <td>CSC</td>\n",
       "      <td>Gesellschaft für Biotechnologische Forschung mbH</td>\n",
       "      <td>DE</td>\n",
       "      <td>FRAUNHOFER-GESELLSCHAFT ZUR FOERDERUNG DER ANG...</td>\n",
       "      <td>DE;IT</td>\n",
       "      <td>NaN</td>\n",
       "    </tr>\n",
       "  </tbody>\n",
       "</table>\n",
       "</div>"
      ],
      "text/plain": [
       "     rcn        id    acronym  status           programme  topics  \\\n",
       "0  11643  MA1B0008        NaN     NaN       FP1-RAWMAT 3C     NaN   \n",
       "1  11881  EV4V0111  EROS 2000     NaN      FP1-ENVPROT 4C     NaN   \n",
       "2  10946  ST2*0172        NaN     NaN  FP1-STIMULATION 1C     NaN   \n",
       "3  13795  BAP*0059        NaN     NaN             FP1-BAP     NaN   \n",
       "4  13796  BAP*0060        NaN     NaN             FP1-BAP     NaN   \n",
       "\n",
       "  frameworkProgramme                                              title  \\\n",
       "0                FP1  A STUDY OF THE PARASITIC FUNGI OF THE GENUS AR...   \n",
       "1                FP1                        EUROPEAN RIVER OCEAN SYSTEM   \n",
       "2                FP1  MOLECULAR GENETICS OF HUMAN ERYTHROCYTE GLUCOS...   \n",
       "3                FP1  CONTINUOUS SYNTHESIS OF FINE CHEMICALS BY COFA...   \n",
       "4                FP1  CONTINUOUS SYNTHESIS OF FINE CHEMICALS BY COFA...   \n",
       "\n",
       "    startDate     endDate  projectUrl  \\\n",
       "0  1988-01-01  1989-12-31         NaN   \n",
       "1  1988-02-01  1990-05-31         NaN   \n",
       "2  1986-04-01  1989-03-31         NaN   \n",
       "3  1986-07-01  1989-12-31         NaN   \n",
       "4  1986-07-01  1990-12-31         NaN   \n",
       "\n",
       "                                           objective  totalCost  \\\n",
       "0  TO DEVELOP NEW METHODS OF IDENTIFICATION OF AR...        NaN   \n",
       "1  TO INVESTIGATE THE BIOGEOCHEMICAL INTERACTIONS...        NaN   \n",
       "2  \\n\\nANALYZE THE ENTIRE STRUCTURE OF THE GD GEN...        NaN   \n",
       "3  THE LONG TERM OBJECTIVE OF THE JOINT PROJECT I...        NaN   \n",
       "4  \\nTo produce nicotinamide adenine dinucleotide...        NaN   \n",
       "\n",
       "   ecMaxContribution  call fundingScheme  \\\n",
       "0                NaN   NaN           CSC   \n",
       "1                NaN   NaN           CSC   \n",
       "2                NaN   NaN           CSC   \n",
       "3                NaN   NaN           CSC   \n",
       "4                NaN   NaN           CSC   \n",
       "\n",
       "                                         coordinator coordinatorCountry  \\\n",
       "0  Institut National de la Recherche Agronomique ...                 FR   \n",
       "1  Centre National de la Recherche Scientifique (...                 FR   \n",
       "2                  Royal Postgraduate Medical School                 UK   \n",
       "3  FRAUNHOFER-GESELLSCHAFT ZUR FOERDERUNG DER ANG...                 DE   \n",
       "4   Gesellschaft für Biotechnologische Forschung mbH                 DE   \n",
       "\n",
       "                                        participants  \\\n",
       "0  THE CHANCELLOR, MASTERS AND SCHOLARS OF THE UN...   \n",
       "1  University College Dublin;UNIVERSITY OF WALES ...   \n",
       "2                 NATIONAL RESEARCH COUNCIL OF ITALY   \n",
       "3  GBF - NATIONAL CENTRE FOR BIOTECHNOLOGY;Consig...   \n",
       "4  FRAUNHOFER-GESELLSCHAFT ZUR FOERDERUNG DER ANG...   \n",
       "\n",
       "            participantCountries  subjects  \n",
       "0                    UK;FR;IT;DE       NaN  \n",
       "1  IE;UK;IT;ES;PT;DE;NL;DK;EL;BE       NaN  \n",
       "2                             IT       NaN  \n",
       "3                          DE;IT       NaN  \n",
       "4                          DE;IT       NaN  "
      ]
     },
     "execution_count": 143,
     "metadata": {},
     "output_type": "execute_result"
    }
   ],
   "source": [
    "fp1_projects = pd.read_csv('../data/raw/cordis-fp1projects.csv', delimiter=';')\n",
    "fp1_projects.head()"
   ]
  },
  {
   "cell_type": "code",
   "execution_count": 144,
   "metadata": {},
   "outputs": [
    {
     "data": {
      "text/html": [
       "<div>\n",
       "<style scoped>\n",
       "    .dataframe tbody tr th:only-of-type {\n",
       "        vertical-align: middle;\n",
       "    }\n",
       "\n",
       "    .dataframe tbody tr th {\n",
       "        vertical-align: top;\n",
       "    }\n",
       "\n",
       "    .dataframe thead th {\n",
       "        text-align: right;\n",
       "    }\n",
       "</style>\n",
       "<table border=\"1\" class=\"dataframe\">\n",
       "  <thead>\n",
       "    <tr style=\"text-align: right;\">\n",
       "      <th></th>\n",
       "      <th>projectRcn</th>\n",
       "      <th>projectID</th>\n",
       "      <th>projectAcronym</th>\n",
       "      <th>role</th>\n",
       "      <th>id</th>\n",
       "      <th>name</th>\n",
       "      <th>shortName</th>\n",
       "      <th>activityType</th>\n",
       "      <th>endOfParticipation</th>\n",
       "      <th>ecContribution</th>\n",
       "      <th>country</th>\n",
       "      <th>street</th>\n",
       "      <th>city</th>\n",
       "      <th>postCode</th>\n",
       "      <th>organizationUrl</th>\n",
       "      <th>vatNumber</th>\n",
       "      <th>contactForm</th>\n",
       "      <th>contactType</th>\n",
       "      <th>contactTitle</th>\n",
       "      <th>contactFirstNames</th>\n",
       "      <th>contactLastNames</th>\n",
       "      <th>contactFunction</th>\n",
       "      <th>contactTelephoneNumber</th>\n",
       "      <th>contactFaxNumber</th>\n",
       "    </tr>\n",
       "  </thead>\n",
       "  <tbody>\n",
       "    <tr>\n",
       "      <th>0</th>\n",
       "      <td>11643</td>\n",
       "      <td>MA1B0008</td>\n",
       "      <td>NaN</td>\n",
       "      <td>participant</td>\n",
       "      <td>NaN</td>\n",
       "      <td>THE CHANCELLOR, MASTERS AND SCHOLARS OF THE UN...</td>\n",
       "      <td>UOXF.CZ</td>\n",
       "      <td>NaN</td>\n",
       "      <td>NaN</td>\n",
       "      <td>NaN</td>\n",
       "      <td>UK</td>\n",
       "      <td>University Offices, Wellington Square</td>\n",
       "      <td>OXFORD</td>\n",
       "      <td>NaN</td>\n",
       "      <td>http://www.ox.ac.uk</td>\n",
       "      <td>NaN</td>\n",
       "      <td>NaN</td>\n",
       "      <td>NaN</td>\n",
       "      <td>NaN</td>\n",
       "      <td>NaN</td>\n",
       "      <td>NaN</td>\n",
       "      <td>NaN</td>\n",
       "      <td>NaN</td>\n",
       "      <td>NaN</td>\n",
       "    </tr>\n",
       "    <tr>\n",
       "      <th>1</th>\n",
       "      <td>11643</td>\n",
       "      <td>MA1B0008</td>\n",
       "      <td>NaN</td>\n",
       "      <td>participant</td>\n",
       "      <td>NaN</td>\n",
       "      <td>École Nationale des Ingénieurs des Travaux Agr...</td>\n",
       "      <td>NaN</td>\n",
       "      <td>NaN</td>\n",
       "      <td>NaN</td>\n",
       "      <td>NaN</td>\n",
       "      <td>FR</td>\n",
       "      <td>1 cours du Général de Gaulle</td>\n",
       "      <td>Gradignan</td>\n",
       "      <td>33170</td>\n",
       "      <td>NaN</td>\n",
       "      <td>NaN</td>\n",
       "      <td>NaN</td>\n",
       "      <td>NaN</td>\n",
       "      <td>NaN</td>\n",
       "      <td>NaN</td>\n",
       "      <td>NaN</td>\n",
       "      <td>NaN</td>\n",
       "      <td>NaN</td>\n",
       "      <td>NaN</td>\n",
       "    </tr>\n",
       "    <tr>\n",
       "      <th>2</th>\n",
       "      <td>11643</td>\n",
       "      <td>MA1B0008</td>\n",
       "      <td>NaN</td>\n",
       "      <td>coordinator</td>\n",
       "      <td>NaN</td>\n",
       "      <td>Institut National de la Recherche Agronomique ...</td>\n",
       "      <td>NaN</td>\n",
       "      <td>NaN</td>\n",
       "      <td>NaN</td>\n",
       "      <td>NaN</td>\n",
       "      <td>FR</td>\n",
       "      <td>147 rue de l'Université</td>\n",
       "      <td>Paris</td>\n",
       "      <td>75341</td>\n",
       "      <td>NaN</td>\n",
       "      <td>NaN</td>\n",
       "      <td>NaN</td>\n",
       "      <td>NaN</td>\n",
       "      <td>NaN</td>\n",
       "      <td>NaN</td>\n",
       "      <td>NaN</td>\n",
       "      <td>NaN</td>\n",
       "      <td>NaN</td>\n",
       "      <td>NaN</td>\n",
       "    </tr>\n",
       "    <tr>\n",
       "      <th>3</th>\n",
       "      <td>11643</td>\n",
       "      <td>MA1B0008</td>\n",
       "      <td>NaN</td>\n",
       "      <td>participant</td>\n",
       "      <td>NaN</td>\n",
       "      <td>Consiglio Nazionale delle Ricerche (CNR)</td>\n",
       "      <td>NaN</td>\n",
       "      <td>NaN</td>\n",
       "      <td>NaN</td>\n",
       "      <td>NaN</td>\n",
       "      <td>IT</td>\n",
       "      <td>Piazzale delle Cascine 28</td>\n",
       "      <td>Firenze</td>\n",
       "      <td>50144</td>\n",
       "      <td>NaN</td>\n",
       "      <td>NaN</td>\n",
       "      <td>NaN</td>\n",
       "      <td>NaN</td>\n",
       "      <td>NaN</td>\n",
       "      <td>NaN</td>\n",
       "      <td>NaN</td>\n",
       "      <td>NaN</td>\n",
       "      <td>NaN</td>\n",
       "      <td>NaN</td>\n",
       "    </tr>\n",
       "    <tr>\n",
       "      <th>4</th>\n",
       "      <td>11643</td>\n",
       "      <td>MA1B0008</td>\n",
       "      <td>NaN</td>\n",
       "      <td>participant</td>\n",
       "      <td>NaN</td>\n",
       "      <td>Ludwig-Maximilians-Universität München</td>\n",
       "      <td>NaN</td>\n",
       "      <td>NaN</td>\n",
       "      <td>NaN</td>\n",
       "      <td>NaN</td>\n",
       "      <td>DE</td>\n",
       "      <td>Amalienstraße 52</td>\n",
       "      <td>München</td>\n",
       "      <td>80799</td>\n",
       "      <td>NaN</td>\n",
       "      <td>NaN</td>\n",
       "      <td>NaN</td>\n",
       "      <td>NaN</td>\n",
       "      <td>NaN</td>\n",
       "      <td>NaN</td>\n",
       "      <td>NaN</td>\n",
       "      <td>NaN</td>\n",
       "      <td>NaN</td>\n",
       "      <td>NaN</td>\n",
       "    </tr>\n",
       "  </tbody>\n",
       "</table>\n",
       "</div>"
      ],
      "text/plain": [
       "   projectRcn projectID projectAcronym         role  id  \\\n",
       "0       11643  MA1B0008            NaN  participant NaN   \n",
       "1       11643  MA1B0008            NaN  participant NaN   \n",
       "2       11643  MA1B0008            NaN  coordinator NaN   \n",
       "3       11643  MA1B0008            NaN  participant NaN   \n",
       "4       11643  MA1B0008            NaN  participant NaN   \n",
       "\n",
       "                                                name shortName  activityType  \\\n",
       "0  THE CHANCELLOR, MASTERS AND SCHOLARS OF THE UN...   UOXF.CZ           NaN   \n",
       "1  École Nationale des Ingénieurs des Travaux Agr...       NaN           NaN   \n",
       "2  Institut National de la Recherche Agronomique ...       NaN           NaN   \n",
       "3           Consiglio Nazionale delle Ricerche (CNR)       NaN           NaN   \n",
       "4             Ludwig-Maximilians-Universität München       NaN           NaN   \n",
       "\n",
       "   endOfParticipation  ecContribution country  \\\n",
       "0                 NaN             NaN      UK   \n",
       "1                 NaN             NaN      FR   \n",
       "2                 NaN             NaN      FR   \n",
       "3                 NaN             NaN      IT   \n",
       "4                 NaN             NaN      DE   \n",
       "\n",
       "                                  street       city postCode  \\\n",
       "0  University Offices, Wellington Square     OXFORD      NaN   \n",
       "1           1 cours du Général de Gaulle  Gradignan    33170   \n",
       "2                147 rue de l'Université      Paris    75341   \n",
       "3              Piazzale delle Cascine 28    Firenze    50144   \n",
       "4                       Amalienstraße 52    München    80799   \n",
       "\n",
       "       organizationUrl  vatNumber  contactForm  contactType  contactTitle  \\\n",
       "0  http://www.ox.ac.uk        NaN          NaN          NaN           NaN   \n",
       "1                  NaN        NaN          NaN          NaN           NaN   \n",
       "2                  NaN        NaN          NaN          NaN           NaN   \n",
       "3                  NaN        NaN          NaN          NaN           NaN   \n",
       "4                  NaN        NaN          NaN          NaN           NaN   \n",
       "\n",
       "   contactFirstNames  contactLastNames  contactFunction  \\\n",
       "0                NaN               NaN              NaN   \n",
       "1                NaN               NaN              NaN   \n",
       "2                NaN               NaN              NaN   \n",
       "3                NaN               NaN              NaN   \n",
       "4                NaN               NaN              NaN   \n",
       "\n",
       "   contactTelephoneNumber  contactFaxNumber  \n",
       "0                     NaN               NaN  \n",
       "1                     NaN               NaN  \n",
       "2                     NaN               NaN  \n",
       "3                     NaN               NaN  \n",
       "4                     NaN               NaN  "
      ]
     },
     "execution_count": 144,
     "metadata": {},
     "output_type": "execute_result"
    }
   ],
   "source": [
    "fp1_organisations = pd.read_csv('../data/raw/cordis-fp1organizations.csv', delimiter='\\t')\n",
    "fp1_organisations.head()"
   ]
  },
  {
   "attachments": {},
   "cell_type": "markdown",
   "metadata": {},
   "source": [
    "# Data analysis"
   ]
  },
  {
   "cell_type": "code",
   "execution_count": 145,
   "metadata": {},
   "outputs": [],
   "source": [
    "fp7_organisations.ecContribution = pd.to_numeric(fp7_organisations.ecContribution, errors='coerce')"
   ]
  },
  {
   "cell_type": "code",
   "execution_count": 146,
   "metadata": {},
   "outputs": [],
   "source": [
    "he_funds = he_organisations.groupby(['country'])\\\n",
    "                    .agg({'ecContribution': 'sum', 'rcn': 'count'})\\\n",
    "                    .sort_values(['ecContribution', 'rcn'], ascending=False)\n",
    "\n",
    "h2020_funds = h2020_organisations.groupby(['country'])\\\n",
    "                    .agg({'ecContribution': 'sum', 'rcn': 'count'})\\\n",
    "                    .sort_values(['ecContribution', 'rcn'], ascending=False)\n",
    "\n",
    "fp7_organisations.ecContribution = pd.to_numeric(fp7_organisations.ecContribution, errors='coerce')\n",
    "fp7_funds = fp7_organisations.groupby(['country'])\\\n",
    "                    .agg({'ecContribution': 'sum', 'rcn': 'count'})\\\n",
    "                    .sort_values(['ecContribution', 'rcn'], ascending=False)\n",
    "\n",
    "fp6_organisations.ecContribution = pd.to_numeric(fp6_organisations.ecContribution, errors='coerce')\n",
    "fp6_funds = fp6_organisations.groupby(['country'])\\\n",
    "                    .agg({'ecContribution': 'sum', 'projectRcn': 'count'})\\\n",
    "                    .sort_values(['ecContribution', 'projectRcn'], ascending=False)\n",
    "\n",
    "fp5_funds = fp5_organisations.groupby(['country'])\\\n",
    "                    .agg({'ecContribution': 'sum', 'projectRcn': 'count'})\\\n",
    "                    .sort_values(['ecContribution', 'projectRcn'], ascending=False)\n",
    "\n",
    "fp4_funds = fp4_organisations.groupby(['country'])\\\n",
    "                    .agg({'ecContribution': 'sum', 'projectRcn': 'count'})\\\n",
    "                    .sort_values(['ecContribution', 'projectRcn'], ascending=False)\n",
    "\n",
    "fp3_funds = fp3_organisations.groupby(['country'])\\\n",
    "                    .agg({'ecContribution': 'sum', 'projectRcn': 'count'})\\\n",
    "                    .sort_values(['ecContribution', 'projectRcn'], ascending=False)\n",
    "\n",
    "fp2_funds = fp2_organisations.groupby(['country'])\\\n",
    "                    .agg({'ecContribution': 'sum', 'projectRcn': 'count'})\\\n",
    "                    .sort_values(['ecContribution', 'projectRcn'], ascending=False)\n",
    "\n",
    "fp1_funds = fp1_organisations.groupby(['country'])\\\n",
    "                    .agg({'ecContribution': 'sum', 'projectRcn': 'count'})\\\n",
    "                    .sort_values(['ecContribution', 'projectRcn'], ascending=False)"
   ]
  },
  {
   "cell_type": "code",
   "execution_count": 147,
   "metadata": {},
   "outputs": [
    {
     "data": {
      "text/html": [
       "<div>\n",
       "<style scoped>\n",
       "    .dataframe tbody tr th:only-of-type {\n",
       "        vertical-align: middle;\n",
       "    }\n",
       "\n",
       "    .dataframe tbody tr th {\n",
       "        vertical-align: top;\n",
       "    }\n",
       "\n",
       "    .dataframe thead th {\n",
       "        text-align: right;\n",
       "    }\n",
       "</style>\n",
       "<table border=\"1\" class=\"dataframe\">\n",
       "  <thead>\n",
       "    <tr style=\"text-align: right;\">\n",
       "      <th></th>\n",
       "      <th>ecContribution</th>\n",
       "      <th>rcn</th>\n",
       "      <th>ecContribution_h2020</th>\n",
       "      <th>rcn_h2020</th>\n",
       "      <th>ecContribution_fp7</th>\n",
       "      <th>rcn_fp7</th>\n",
       "      <th>ecContribution_fp6</th>\n",
       "      <th>projectRcn</th>\n",
       "      <th>ecContribution_fp5</th>\n",
       "      <th>projectRcn_fp5</th>\n",
       "      <th>ecContribution_fp4</th>\n",
       "      <th>projectRcn_fp4</th>\n",
       "      <th>ecContribution_fp3</th>\n",
       "      <th>projectRcn_fp3</th>\n",
       "      <th>ecContribution_fp2</th>\n",
       "      <th>projectRcn_fp2</th>\n",
       "      <th>ecContribution_fp1</th>\n",
       "      <th>projectRcn_fp1</th>\n",
       "    </tr>\n",
       "    <tr>\n",
       "      <th>country</th>\n",
       "      <th></th>\n",
       "      <th></th>\n",
       "      <th></th>\n",
       "      <th></th>\n",
       "      <th></th>\n",
       "      <th></th>\n",
       "      <th></th>\n",
       "      <th></th>\n",
       "      <th></th>\n",
       "      <th></th>\n",
       "      <th></th>\n",
       "      <th></th>\n",
       "      <th></th>\n",
       "      <th></th>\n",
       "      <th></th>\n",
       "      <th></th>\n",
       "      <th></th>\n",
       "      <th></th>\n",
       "    </tr>\n",
       "  </thead>\n",
       "  <tbody>\n",
       "    <tr>\n",
       "      <th>AD</th>\n",
       "      <td>NaN</td>\n",
       "      <td>NaN</td>\n",
       "      <td>NaN</td>\n",
       "      <td>NaN</td>\n",
       "      <td>NaN</td>\n",
       "      <td>NaN</td>\n",
       "      <td>NaN</td>\n",
       "      <td>NaN</td>\n",
       "      <td>0.0</td>\n",
       "      <td>1.0</td>\n",
       "      <td>NaN</td>\n",
       "      <td>NaN</td>\n",
       "      <td>NaN</td>\n",
       "      <td>NaN</td>\n",
       "      <td>NaN</td>\n",
       "      <td>NaN</td>\n",
       "      <td>NaN</td>\n",
       "      <td>NaN</td>\n",
       "    </tr>\n",
       "    <tr>\n",
       "      <th>AE</th>\n",
       "      <td>0.00</td>\n",
       "      <td>1.0</td>\n",
       "      <td>500000.00</td>\n",
       "      <td>4.0</td>\n",
       "      <td>370219.89</td>\n",
       "      <td>7.0</td>\n",
       "      <td>0.0</td>\n",
       "      <td>1.0</td>\n",
       "      <td>NaN</td>\n",
       "      <td>NaN</td>\n",
       "      <td>NaN</td>\n",
       "      <td>NaN</td>\n",
       "      <td>NaN</td>\n",
       "      <td>NaN</td>\n",
       "      <td>NaN</td>\n",
       "      <td>NaN</td>\n",
       "      <td>NaN</td>\n",
       "      <td>NaN</td>\n",
       "    </tr>\n",
       "    <tr>\n",
       "      <th>AF</th>\n",
       "      <td>120250.00</td>\n",
       "      <td>1.0</td>\n",
       "      <td>99237.99</td>\n",
       "      <td>2.0</td>\n",
       "      <td>16718.75</td>\n",
       "      <td>1.0</td>\n",
       "      <td>0.0</td>\n",
       "      <td>2.0</td>\n",
       "      <td>NaN</td>\n",
       "      <td>NaN</td>\n",
       "      <td>NaN</td>\n",
       "      <td>NaN</td>\n",
       "      <td>NaN</td>\n",
       "      <td>NaN</td>\n",
       "      <td>NaN</td>\n",
       "      <td>NaN</td>\n",
       "      <td>NaN</td>\n",
       "      <td>NaN</td>\n",
       "    </tr>\n",
       "    <tr>\n",
       "      <th>AI</th>\n",
       "      <td>0.00</td>\n",
       "      <td>1.0</td>\n",
       "      <td>1253137.26</td>\n",
       "      <td>5.0</td>\n",
       "      <td>NaN</td>\n",
       "      <td>NaN</td>\n",
       "      <td>NaN</td>\n",
       "      <td>NaN</td>\n",
       "      <td>NaN</td>\n",
       "      <td>NaN</td>\n",
       "      <td>NaN</td>\n",
       "      <td>NaN</td>\n",
       "      <td>NaN</td>\n",
       "      <td>NaN</td>\n",
       "      <td>NaN</td>\n",
       "      <td>NaN</td>\n",
       "      <td>NaN</td>\n",
       "      <td>NaN</td>\n",
       "    </tr>\n",
       "    <tr>\n",
       "      <th>AL</th>\n",
       "      <td>2261386.50</td>\n",
       "      <td>20.0</td>\n",
       "      <td>5589330.11</td>\n",
       "      <td>52.0</td>\n",
       "      <td>2268549.18</td>\n",
       "      <td>41.0</td>\n",
       "      <td>89100.0</td>\n",
       "      <td>40.0</td>\n",
       "      <td>0.0</td>\n",
       "      <td>8.0</td>\n",
       "      <td>0.0</td>\n",
       "      <td>8.0</td>\n",
       "      <td>NaN</td>\n",
       "      <td>NaN</td>\n",
       "      <td>NaN</td>\n",
       "      <td>NaN</td>\n",
       "      <td>NaN</td>\n",
       "      <td>NaN</td>\n",
       "    </tr>\n",
       "    <tr>\n",
       "      <th>...</th>\n",
       "      <td>...</td>\n",
       "      <td>...</td>\n",
       "      <td>...</td>\n",
       "      <td>...</td>\n",
       "      <td>...</td>\n",
       "      <td>...</td>\n",
       "      <td>...</td>\n",
       "      <td>...</td>\n",
       "      <td>...</td>\n",
       "      <td>...</td>\n",
       "      <td>...</td>\n",
       "      <td>...</td>\n",
       "      <td>...</td>\n",
       "      <td>...</td>\n",
       "      <td>...</td>\n",
       "      <td>...</td>\n",
       "      <td>...</td>\n",
       "      <td>...</td>\n",
       "    </tr>\n",
       "    <tr>\n",
       "      <th>YE</th>\n",
       "      <td>NaN</td>\n",
       "      <td>NaN</td>\n",
       "      <td>134073.75</td>\n",
       "      <td>1.0</td>\n",
       "      <td>142309.55</td>\n",
       "      <td>2.0</td>\n",
       "      <td>NaN</td>\n",
       "      <td>NaN</td>\n",
       "      <td>NaN</td>\n",
       "      <td>NaN</td>\n",
       "      <td>NaN</td>\n",
       "      <td>NaN</td>\n",
       "      <td>NaN</td>\n",
       "      <td>NaN</td>\n",
       "      <td>NaN</td>\n",
       "      <td>NaN</td>\n",
       "      <td>NaN</td>\n",
       "      <td>NaN</td>\n",
       "    </tr>\n",
       "    <tr>\n",
       "      <th>YU</th>\n",
       "      <td>NaN</td>\n",
       "      <td>NaN</td>\n",
       "      <td>NaN</td>\n",
       "      <td>NaN</td>\n",
       "      <td>NaN</td>\n",
       "      <td>NaN</td>\n",
       "      <td>161840.0</td>\n",
       "      <td>5.0</td>\n",
       "      <td>NaN</td>\n",
       "      <td>NaN</td>\n",
       "      <td>NaN</td>\n",
       "      <td>NaN</td>\n",
       "      <td>NaN</td>\n",
       "      <td>NaN</td>\n",
       "      <td>NaN</td>\n",
       "      <td>NaN</td>\n",
       "      <td>NaN</td>\n",
       "      <td>NaN</td>\n",
       "    </tr>\n",
       "    <tr>\n",
       "      <th>ZA</th>\n",
       "      <td>23734251.41</td>\n",
       "      <td>83.0</td>\n",
       "      <td>61109539.47</td>\n",
       "      <td>312.0</td>\n",
       "      <td>34390202.55</td>\n",
       "      <td>245.0</td>\n",
       "      <td>0.0</td>\n",
       "      <td>137.0</td>\n",
       "      <td>0.0</td>\n",
       "      <td>67.0</td>\n",
       "      <td>0.0</td>\n",
       "      <td>44.0</td>\n",
       "      <td>0.0</td>\n",
       "      <td>1.0</td>\n",
       "      <td>NaN</td>\n",
       "      <td>NaN</td>\n",
       "      <td>NaN</td>\n",
       "      <td>NaN</td>\n",
       "    </tr>\n",
       "    <tr>\n",
       "      <th>ZM</th>\n",
       "      <td>1298953.00</td>\n",
       "      <td>8.0</td>\n",
       "      <td>1976161.63</td>\n",
       "      <td>13.0</td>\n",
       "      <td>1637946.40</td>\n",
       "      <td>10.0</td>\n",
       "      <td>0.0</td>\n",
       "      <td>12.0</td>\n",
       "      <td>0.0</td>\n",
       "      <td>12.0</td>\n",
       "      <td>0.0</td>\n",
       "      <td>13.0</td>\n",
       "      <td>0.0</td>\n",
       "      <td>6.0</td>\n",
       "      <td>NaN</td>\n",
       "      <td>NaN</td>\n",
       "      <td>NaN</td>\n",
       "      <td>NaN</td>\n",
       "    </tr>\n",
       "    <tr>\n",
       "      <th>ZW</th>\n",
       "      <td>1769525.00</td>\n",
       "      <td>1.0</td>\n",
       "      <td>407125.00</td>\n",
       "      <td>4.0</td>\n",
       "      <td>402920.72</td>\n",
       "      <td>2.0</td>\n",
       "      <td>0.0</td>\n",
       "      <td>7.0</td>\n",
       "      <td>0.0</td>\n",
       "      <td>18.0</td>\n",
       "      <td>0.0</td>\n",
       "      <td>26.0</td>\n",
       "      <td>0.0</td>\n",
       "      <td>17.0</td>\n",
       "      <td>0.0</td>\n",
       "      <td>2.0</td>\n",
       "      <td>NaN</td>\n",
       "      <td>NaN</td>\n",
       "    </tr>\n",
       "  </tbody>\n",
       "</table>\n",
       "<p>206 rows × 18 columns</p>\n",
       "</div>"
      ],
      "text/plain": [
       "         ecContribution   rcn  ecContribution_h2020  rcn_h2020  \\\n",
       "country                                                          \n",
       "AD                  NaN   NaN                   NaN        NaN   \n",
       "AE                 0.00   1.0             500000.00        4.0   \n",
       "AF            120250.00   1.0              99237.99        2.0   \n",
       "AI                 0.00   1.0            1253137.26        5.0   \n",
       "AL           2261386.50  20.0            5589330.11       52.0   \n",
       "...                 ...   ...                   ...        ...   \n",
       "YE                  NaN   NaN             134073.75        1.0   \n",
       "YU                  NaN   NaN                   NaN        NaN   \n",
       "ZA          23734251.41  83.0           61109539.47      312.0   \n",
       "ZM           1298953.00   8.0            1976161.63       13.0   \n",
       "ZW           1769525.00   1.0             407125.00        4.0   \n",
       "\n",
       "         ecContribution_fp7  rcn_fp7  ecContribution_fp6  projectRcn  \\\n",
       "country                                                                \n",
       "AD                      NaN      NaN                 NaN         NaN   \n",
       "AE                370219.89      7.0                 0.0         1.0   \n",
       "AF                 16718.75      1.0                 0.0         2.0   \n",
       "AI                      NaN      NaN                 NaN         NaN   \n",
       "AL               2268549.18     41.0             89100.0        40.0   \n",
       "...                     ...      ...                 ...         ...   \n",
       "YE                142309.55      2.0                 NaN         NaN   \n",
       "YU                      NaN      NaN            161840.0         5.0   \n",
       "ZA              34390202.55    245.0                 0.0       137.0   \n",
       "ZM               1637946.40     10.0                 0.0        12.0   \n",
       "ZW                402920.72      2.0                 0.0         7.0   \n",
       "\n",
       "         ecContribution_fp5  projectRcn_fp5  ecContribution_fp4  \\\n",
       "country                                                           \n",
       "AD                      0.0             1.0                 NaN   \n",
       "AE                      NaN             NaN                 NaN   \n",
       "AF                      NaN             NaN                 NaN   \n",
       "AI                      NaN             NaN                 NaN   \n",
       "AL                      0.0             8.0                 0.0   \n",
       "...                     ...             ...                 ...   \n",
       "YE                      NaN             NaN                 NaN   \n",
       "YU                      NaN             NaN                 NaN   \n",
       "ZA                      0.0            67.0                 0.0   \n",
       "ZM                      0.0            12.0                 0.0   \n",
       "ZW                      0.0            18.0                 0.0   \n",
       "\n",
       "         projectRcn_fp4  ecContribution_fp3  projectRcn_fp3  \\\n",
       "country                                                       \n",
       "AD                  NaN                 NaN             NaN   \n",
       "AE                  NaN                 NaN             NaN   \n",
       "AF                  NaN                 NaN             NaN   \n",
       "AI                  NaN                 NaN             NaN   \n",
       "AL                  8.0                 NaN             NaN   \n",
       "...                 ...                 ...             ...   \n",
       "YE                  NaN                 NaN             NaN   \n",
       "YU                  NaN                 NaN             NaN   \n",
       "ZA                 44.0                 0.0             1.0   \n",
       "ZM                 13.0                 0.0             6.0   \n",
       "ZW                 26.0                 0.0            17.0   \n",
       "\n",
       "         ecContribution_fp2  projectRcn_fp2  ecContribution_fp1  \\\n",
       "country                                                           \n",
       "AD                      NaN             NaN                 NaN   \n",
       "AE                      NaN             NaN                 NaN   \n",
       "AF                      NaN             NaN                 NaN   \n",
       "AI                      NaN             NaN                 NaN   \n",
       "AL                      NaN             NaN                 NaN   \n",
       "...                     ...             ...                 ...   \n",
       "YE                      NaN             NaN                 NaN   \n",
       "YU                      NaN             NaN                 NaN   \n",
       "ZA                      NaN             NaN                 NaN   \n",
       "ZM                      NaN             NaN                 NaN   \n",
       "ZW                      0.0             2.0                 NaN   \n",
       "\n",
       "         projectRcn_fp1  \n",
       "country                  \n",
       "AD                  NaN  \n",
       "AE                  NaN  \n",
       "AF                  NaN  \n",
       "AI                  NaN  \n",
       "AL                  NaN  \n",
       "...                 ...  \n",
       "YE                  NaN  \n",
       "YU                  NaN  \n",
       "ZA                  NaN  \n",
       "ZM                  NaN  \n",
       "ZW                  NaN  \n",
       "\n",
       "[206 rows x 18 columns]"
      ]
     },
     "execution_count": 147,
     "metadata": {},
     "output_type": "execute_result"
    }
   ],
   "source": [
    "data = he_funds.join(h2020_funds, rsuffix='_h2020', how='outer')\n",
    "data = data.join(fp7_funds, rsuffix='_fp7', how='outer')\n",
    "data = data.join(fp6_funds, rsuffix='_fp6', how='outer')\n",
    "data = data.join(fp5_funds, rsuffix='_fp5', how='outer')\n",
    "data = data.join(fp4_funds, rsuffix='_fp4', how='outer')\n",
    "data = data.join(fp3_funds, rsuffix='_fp3', how='outer')\n",
    "data = data.join(fp2_funds, rsuffix='_fp2', how='outer')\n",
    "data = data.join(fp1_funds, rsuffix='_fp1', how='outer')\n",
    "data"
   ]
  },
  {
   "cell_type": "code",
   "execution_count": 148,
   "metadata": {},
   "outputs": [],
   "source": [
    "data = data.fillna(0)"
   ]
  },
  {
   "cell_type": "code",
   "execution_count": 149,
   "metadata": {},
   "outputs": [
    {
     "data": {
      "text/html": [
       "<div>\n",
       "<style scoped>\n",
       "    .dataframe tbody tr th:only-of-type {\n",
       "        vertical-align: middle;\n",
       "    }\n",
       "\n",
       "    .dataframe tbody tr th {\n",
       "        vertical-align: top;\n",
       "    }\n",
       "\n",
       "    .dataframe thead th {\n",
       "        text-align: right;\n",
       "    }\n",
       "</style>\n",
       "<table border=\"1\" class=\"dataframe\">\n",
       "  <thead>\n",
       "    <tr style=\"text-align: right;\">\n",
       "      <th></th>\n",
       "      <th>ecContribution</th>\n",
       "      <th>rcn</th>\n",
       "      <th>ecContribution_h2020</th>\n",
       "      <th>rcn_h2020</th>\n",
       "      <th>ecContribution_fp7</th>\n",
       "      <th>rcn_fp7</th>\n",
       "      <th>ecContribution_fp6</th>\n",
       "      <th>projectRcn</th>\n",
       "      <th>ecContribution_fp5</th>\n",
       "      <th>projectRcn_fp5</th>\n",
       "      <th>ecContribution_fp4</th>\n",
       "      <th>projectRcn_fp4</th>\n",
       "      <th>ecContribution_fp3</th>\n",
       "      <th>projectRcn_fp3</th>\n",
       "      <th>ecContribution_fp2</th>\n",
       "      <th>projectRcn_fp2</th>\n",
       "      <th>ecContribution_fp1</th>\n",
       "      <th>projectRcn_fp1</th>\n",
       "    </tr>\n",
       "    <tr>\n",
       "      <th>country</th>\n",
       "      <th></th>\n",
       "      <th></th>\n",
       "      <th></th>\n",
       "      <th></th>\n",
       "      <th></th>\n",
       "      <th></th>\n",
       "      <th></th>\n",
       "      <th></th>\n",
       "      <th></th>\n",
       "      <th></th>\n",
       "      <th></th>\n",
       "      <th></th>\n",
       "      <th></th>\n",
       "      <th></th>\n",
       "      <th></th>\n",
       "      <th></th>\n",
       "      <th></th>\n",
       "      <th></th>\n",
       "    </tr>\n",
       "  </thead>\n",
       "  <tbody>\n",
       "    <tr>\n",
       "      <th>IT</th>\n",
       "      <td>1.670405e+09</td>\n",
       "      <td>3994.0</td>\n",
       "      <td>5.676402e+09</td>\n",
       "      <td>17151.0</td>\n",
       "      <td>3.549517e+09</td>\n",
       "      <td>12437.0</td>\n",
       "      <td>93755605.0</td>\n",
       "      <td>6673.0</td>\n",
       "      <td>0.0</td>\n",
       "      <td>8025.0</td>\n",
       "      <td>0.0</td>\n",
       "      <td>6450.0</td>\n",
       "      <td>0.0</td>\n",
       "      <td>3324.0</td>\n",
       "      <td>0.0</td>\n",
       "      <td>1922.0</td>\n",
       "      <td>0.0</td>\n",
       "      <td>817.0</td>\n",
       "    </tr>\n",
       "  </tbody>\n",
       "</table>\n",
       "</div>"
      ],
      "text/plain": [
       "         ecContribution     rcn  ecContribution_h2020  rcn_h2020  \\\n",
       "country                                                            \n",
       "IT         1.670405e+09  3994.0          5.676402e+09    17151.0   \n",
       "\n",
       "         ecContribution_fp7  rcn_fp7  ecContribution_fp6  projectRcn  \\\n",
       "country                                                                \n",
       "IT             3.549517e+09  12437.0          93755605.0      6673.0   \n",
       "\n",
       "         ecContribution_fp5  projectRcn_fp5  ecContribution_fp4  \\\n",
       "country                                                           \n",
       "IT                      0.0          8025.0                 0.0   \n",
       "\n",
       "         projectRcn_fp4  ecContribution_fp3  projectRcn_fp3  \\\n",
       "country                                                       \n",
       "IT               6450.0                 0.0          3324.0   \n",
       "\n",
       "         ecContribution_fp2  projectRcn_fp2  ecContribution_fp1  \\\n",
       "country                                                           \n",
       "IT                      0.0          1922.0                 0.0   \n",
       "\n",
       "         projectRcn_fp1  \n",
       "country                  \n",
       "IT                817.0  "
      ]
     },
     "execution_count": 149,
     "metadata": {},
     "output_type": "execute_result"
    }
   ],
   "source": [
    "data[data.index == 'IT']"
   ]
  },
  {
   "cell_type": "code",
   "execution_count": 150,
   "metadata": {},
   "outputs": [
    {
     "name": "stdout",
     "output_type": "stream",
     "text": [
      "<class 'pandas.core.frame.DataFrame'>\n",
      "Index: 206 entries, AD to ZW\n",
      "Data columns (total 18 columns):\n",
      " #   Column                Non-Null Count  Dtype  \n",
      "---  ------                --------------  -----  \n",
      " 0   ecContribution        206 non-null    float64\n",
      " 1   rcn                   206 non-null    float64\n",
      " 2   ecContribution_h2020  206 non-null    float64\n",
      " 3   rcn_h2020             206 non-null    float64\n",
      " 4   ecContribution_fp7    206 non-null    float64\n",
      " 5   rcn_fp7               206 non-null    float64\n",
      " 6   ecContribution_fp6    206 non-null    float64\n",
      " 7   projectRcn            206 non-null    float64\n",
      " 8   ecContribution_fp5    206 non-null    float64\n",
      " 9   projectRcn_fp5        206 non-null    float64\n",
      " 10  ecContribution_fp4    206 non-null    float64\n",
      " 11  projectRcn_fp4        206 non-null    float64\n",
      " 12  ecContribution_fp3    206 non-null    float64\n",
      " 13  projectRcn_fp3        206 non-null    float64\n",
      " 14  ecContribution_fp2    206 non-null    float64\n",
      " 15  projectRcn_fp2        206 non-null    float64\n",
      " 16  ecContribution_fp1    206 non-null    float64\n",
      " 17  projectRcn_fp1        206 non-null    float64\n",
      "dtypes: float64(18)\n",
      "memory usage: 30.6+ KB\n"
     ]
    }
   ],
   "source": [
    "data.info()"
   ]
  },
  {
   "cell_type": "code",
   "execution_count": 151,
   "metadata": {},
   "outputs": [],
   "source": [
    "data['total_contribution'] = data['ecContribution']\\\n",
    "                            + data['ecContribution_h2020']\\\n",
    "                            + data['ecContribution_fp7']\\\n",
    "                            + data['ecContribution_fp6']\\\n",
    "                            + data['ecContribution_fp5']\\\n",
    "                            + data['ecContribution_fp4']\\\n",
    "                            + data['ecContribution_fp3']\\\n",
    "                            + data['ecContribution_fp2']\\\n",
    "                            + data['ecContribution_fp1']\n",
    "\n",
    "data['total_projects'] = data['rcn']\\\n",
    "                            + data['rcn_h2020']\\\n",
    "                            + data['rcn_fp7']\\\n",
    "                            + data['projectRcn']\\\n",
    "                            + data['projectRcn_fp5']\\\n",
    "                            + data['projectRcn_fp4']\\\n",
    "                            + data['projectRcn_fp3']\\\n",
    "                            + data['projectRcn_fp2']\\\n",
    "                            + data['projectRcn_fp1']\n",
    "data = data[['total_contribution', 'total_projects']]"
   ]
  },
  {
   "cell_type": "code",
   "execution_count": 152,
   "metadata": {},
   "outputs": [],
   "source": [
    "min_max_scaler = preprocessing.MinMaxScaler((3, 100))"
   ]
  },
  {
   "cell_type": "code",
   "execution_count": 153,
   "metadata": {},
   "outputs": [
    {
     "data": {
      "application/vnd.plotly.v1+json": {
       "config": {
        "linkText": "Export to plot.ly",
        "plotlyServerURL": "https://plot.ly",
        "showLink": false
       },
       "data": [
        {
         "marker": {
          "size": [
           [
            100
           ],
           [
            91.60243724734418
           ],
           [
            84.88621086772586
           ],
           [
            65.58674908338817
           ],
           [
            72.2961361286077
           ],
           [
            49.05721773056313
           ],
           [
            35.97927047099746
           ],
           [
            26.062235592742315
           ],
           [
            21.240504841590678
           ],
           [
            20.652322083294163
           ],
           [
            27.3913462442418
           ],
           [
            20.977190467237005
           ],
           [
            15.408832377550063
           ],
           [
            17.588300272633262
           ],
           [
            10.099229105950926
           ],
           [
            14.877644072576857
           ],
           [
            18.62331954498449
           ],
           [
            13.513196860016922
           ],
           [
            9.946483971044469
           ],
           [
            9.613636363636363
           ],
           [
            7.614270941054809
           ],
           [
            6.8459857102566515
           ],
           [
            7.932299990598853
           ],
           [
            5.525994171288898
           ],
           [
            5.704956754724076
           ],
           [
            4.668797593306383
           ],
           [
            6.336455297546301
           ],
           [
            4.850039954874495
           ],
           [
            5.594387515276864
           ],
           [
            4.389524772022186
           ],
           [
            4.284654977907305
           ],
           [
            7.063704521951679
           ],
           [
            4.665377926106985
           ],
           [
            5.040401428974335
           ],
           [
            4.012221491021904
           ],
           [
            5.131592554291624
           ],
           [
            4.071495722478143
           ],
           [
            3.8503572435837174
           ],
           [
            3.479893296982232
           ],
           [
            4.050977719281752
           ],
           [
            3.846937576384319
           ],
           [
            5.00962442417975
           ],
           [
            3.5460068628372663
           ],
           [
            4.174085738460092
           ],
           [
            3.2952312682147222
           ],
           [
            3.218858700761493
           ],
           [
            3.9426882579674722
           ],
           [
            3.2234182570273573
           ],
           [
            3.2439362602237476
           ],
           [
            3.5916024254959105
           ],
           [
            3.66797499294914
           ],
           [
            3.1823822506345776
           ],
           [
            3.4434168468553166
           ],
           [
            3.4274583999247907
           ],
           [
            3.2758531540847984
           ],
           [
            3.216578922628561
           ],
           [
            3.5505664191031308
           ],
           [
            3.0113988906646614
           ],
           [
            3.2541952618219425
           ],
           [
            3.134506909843001
           ],
           [
            3.2758531540847984
           ],
           [
            3.432017956190655
           ],
           [
            3.2940913791482562
           ],
           [
            3.1641440255711197
           ],
           [
            3.278132932217731
           ],
           [
            3.207459810096832
           ],
           [
            3.188081695966908
           ],
           [
            3.156164802105857
           ],
           [
            3.1493254677070603
           ],
           [
            3.1915013631663065
           ],
           [
            3.1025900159819497
           ],
           [
            3.0740927893202974
           ],
           [
            3.198340697565103
           ],
           [
            3.132227131710069
           ],
           [
            3.1493254677070603
           ],
           [
            3.1823822506345776
           ],
           [
            3.062693898655636
           ],
           [
            3.188081695966908
           ],
           [
            3.0683933439879665
           ],
           [
            3.06155400958917
           ],
           [
            3.2576149290213405
           ],
           [
            3.1652839146375857
           ],
           [
            3.0968905706496193
           ],
           [
            3.042175895459246
           ],
           [
            3.018238225063458
           ],
           [
            3.1208282410454076
           ],
           [
            3.155024913039391
           ],
           [
            3.0467354517251106
           ],
           [
            3.2655941524866035
           ],
           [
            3.0330567829275172
           ],
           [
            3.083211901852026
           ],
           [
            3.062693898655636
           ],
           [
            3.071813011187365
           ],
           [
            3.007979223465263
           ],
           [
            3.029637115728119
           ],
           [
            3.185801917833976
           ],
           [
            3.124247908244806
           ],
           [
            3.0467354517251106
           ],
           [
            3.1117091285136786
           ],
           [
            3.0364764501269157
           ],
           [
            3.1105692394472126
           ],
           [
            3.0467354517251106
           ],
           [
            3.0968905706496193
           ],
           [
            3.1481855786405943
           ],
           [
            3.0455955626586446
           ],
           [
            3.019378114129924
           ],
           [
            3.0330567829275172
           ],
           [
            3.0478753407915766
           ],
           [
            3.092331014383755
           ],
           [
            3.0341966719939832
           ],
           [
            3.0866315690514243
           ],
           [
            3.063833787722102
           ],
           [
            3.0387562282598477
           ],
           [
            3.0775124565196954
           ],
           [
            3.0216578922628563
           ],
           [
            3.029637115728119
           ],
           [
            3.0398961173263137
           ],
           [
            3.0239376703957883
           ],
           [
            3.0569944533233055
           ],
           [
            3.029637115728119
           ],
           [
            3.1641440255711197
           ],
           [
            3.0786523455861614
           ],
           [
            3.070673122120899
           ],
           [
            3.0056994453323305
           ],
           [
            3.0341966719939832
           ],
           [
            3.069533233054433
           ],
           [
            3.0136786687975934
           ],
           [
            3.0136786687975934
           ],
           [
            3.0113988906646614
           ],
           [
            3.0148185578640594
           ],
           [
            3.0227977813293223
           ],
           [
            3.0125387797311274
           ],
           [
            3.0125387797311274
           ],
           [
            3.0227977813293223
           ],
           [
            3.0136786687975934
           ],
           [
            3.006839334398797
           ],
           [
            3.010259001598195
           ],
           [
            3.018238225063458
           ],
           [
            3.0683933439879665
           ],
           [
            3.0216578922628563
           ],
           [
            3.0056994453323305
           ],
           [
            3.001139889066466
           ],
           [
            3.0148185578640594
           ],
           [
            3.0136786687975934
           ],
           [
            3.010259001598195
           ],
           [
            3.0113988906646614
           ],
           [
            3.006839334398797
           ],
           [
            3.0045595562658645
           ],
           [
            3.001139889066466
           ],
           [
            3.0125387797311274
           ],
           [
            3.0022797781329325
           ],
           [
            3.0022797781329325
           ],
           [
            3.019378114129924
           ],
           [
            3.019378114129924
           ],
           [
            3.02051800319639
           ],
           [
            3.001139889066466
           ],
           [
            3.0136786687975934
           ],
           [
            3.0056994453323305
           ],
           [
            3.0045595562658645
           ],
           [
            3.0022797781329325
           ],
           [
            3.001139889066466
           ],
           [
            3.0045595562658645
           ],
           [
            3.0034196671993985
           ],
           [
            3.02051800319639
           ],
           [
            3.0045595562658645
           ],
           [
            3.0045595562658645
           ],
           [
            3.0045595562658645
           ],
           [
            3.009119112531729
           ],
           [
            3.0216578922628563
           ],
           [
            3.019378114129924
           ],
           [
            3.001139889066466
           ],
           [
            3.001139889066466
           ],
           [
            3
           ],
           [
            3.0022797781329325
           ],
           [
            3.0034196671993985
           ],
           [
            3.010259001598195
           ],
           [
            3.0022797781329325
           ],
           [
            3
           ],
           [
            3.0045595562658645
           ],
           [
            3.0034196671993985
           ],
           [
            3
           ],
           [
            3.0022797781329325
           ],
           [
            3.007979223465263
           ],
           [
            3
           ],
           [
            3
           ],
           [
            3
           ],
           [
            3.0034196671993985
           ],
           [
            3
           ],
           [
            3.0034196671993985
           ],
           [
            3.0022797781329325
           ],
           [
            3.001139889066466
           ],
           [
            3.001139889066466
           ],
           [
            3.001139889066466
           ],
           [
            3.001139889066466
           ],
           [
            3.001139889066466
           ],
           [
            3.001139889066466
           ],
           [
            3
           ],
           [
            3
           ],
           [
            3
           ],
           [
            3
           ],
           [
            3
           ],
           [
            3
           ],
           [
            3
           ],
           [
            3
           ],
           [
            3
           ],
           [
            3
           ]
          ]
         },
         "mode": "markers",
         "text": [
          "DE",
          "UK",
          "FR",
          "ES",
          "IT",
          "NL",
          "BE",
          "SE",
          "CH",
          "AT",
          "EL",
          "DK",
          "NO",
          "FI",
          "IL",
          "IE",
          "PT",
          "PL",
          "CZ",
          "HU",
          "SI",
          "TR",
          "RO",
          "CY",
          "EE",
          "LU",
          "BG",
          "HR",
          "SK",
          "IS",
          "RS",
          "US",
          "LV",
          "LT",
          "ZA",
          "RU",
          "UA",
          "MT",
          "KE",
          "BR",
          "IN",
          "CN",
          "TN",
          "CA",
          "MK",
          "GH",
          "AU",
          "UG",
          "TZ",
          "MA",
          "AR",
          "BF",
          "EG",
          "CL",
          "CO",
          "GE",
          "JP",
          "SL",
          "MD",
          "NG",
          "SN",
          "MX",
          "BA",
          "ET",
          "TH",
          "JO",
          "LB",
          "ME",
          "AM",
          "AL",
          "MZ",
          "FO",
          "VN",
          "UY",
          "CM",
          "ID",
          "BD",
          "NZ",
          "BJ",
          "MW",
          "BY",
          "PE",
          "EC",
          "GA",
          "CD",
          "CR",
          "MY",
          "LK",
          "KR",
          "MG",
          "ZM",
          "PK",
          "CI",
          "GI",
          "GL",
          "DZ",
          "PH",
          "RW",
          "ML",
          "XK",
          "SG",
          "BW",
          "PS",
          "KZ",
          "NE",
          "JM",
          "NP",
          "LI",
          "BO",
          "KH",
          "ZW",
          "HK",
          "CV",
          "AZ",
          "MU",
          "SD",
          "NI",
          "NC",
          "KG",
          "IR",
          "TW",
          "UZ",
          "CU",
          "AI",
          "GT",
          "SY",
          "GW",
          "AE",
          "IQ",
          "SZ",
          "TJ",
          "MC",
          "PG",
          "GM",
          "PA",
          "GY",
          "FJ",
          "DO",
          "VE",
          "TG",
          "OM",
          "BQ",
          "HN",
          "BI",
          "PF",
          "CG",
          "SR",
          "LY",
          "CF",
          "MR",
          "HT",
          "YE",
          "LA",
          "GN",
          "PY",
          "CW",
          "AO",
          "AF",
          "QA",
          "KW",
          "VG",
          "BB",
          "LR",
          "TM",
          "YU",
          "SC",
          "TD",
          "LS",
          "SA",
          "SV",
          "MH",
          "MO",
          "AW",
          "WS",
          "MV",
          "TT",
          "BH",
          "WF",
          "MM",
          "VU",
          "DJ",
          "SO",
          "MN",
          "BN",
          "GD",
          "BZ",
          "BT",
          "GF",
          "SM",
          "ST",
          "FK",
          "GQ",
          "SB",
          "TO",
          "UM",
          "VA",
          "AD",
          "ER",
          "GP",
          "JE",
          "KY",
          "LC",
          "MQ",
          "MS",
          "NF",
          "SX"
         ],
         "type": "scatter",
         "x": [
          0,
          1,
          2,
          3,
          4,
          5,
          6,
          7,
          8,
          9,
          10,
          11,
          12,
          13,
          14,
          15,
          16,
          17,
          18,
          19,
          20,
          21,
          22,
          23,
          24,
          25,
          26,
          27,
          28,
          29,
          30,
          31,
          32,
          33,
          34,
          35,
          36,
          37,
          38,
          39,
          40,
          41,
          42,
          43,
          44,
          45,
          46,
          47,
          48,
          49,
          50,
          51,
          52,
          53,
          54,
          55,
          56,
          57,
          58,
          59,
          60,
          61,
          62,
          63,
          64,
          65,
          66,
          67,
          68,
          69,
          70,
          71,
          72,
          73,
          74,
          75,
          76,
          77,
          78,
          79,
          80,
          81,
          82,
          83,
          84,
          85,
          86,
          87,
          88,
          89,
          90,
          91,
          92,
          93,
          94,
          95,
          96,
          97,
          98,
          99,
          100,
          101,
          102,
          103,
          104,
          105,
          106,
          107,
          108,
          109,
          110,
          111,
          112,
          113,
          114,
          115,
          116,
          117,
          118,
          119,
          120,
          121,
          122,
          123,
          124,
          125,
          126,
          127,
          128,
          129,
          130,
          131,
          132,
          133,
          134,
          135,
          136,
          137,
          138,
          139,
          140,
          141,
          142,
          143,
          144,
          145,
          146,
          147,
          148,
          149,
          150,
          151,
          152,
          153,
          154,
          155,
          156,
          157,
          158,
          159,
          160,
          161,
          162,
          163,
          164,
          165,
          166,
          167,
          168,
          169,
          170,
          171,
          172,
          173,
          174,
          175,
          176,
          177,
          178,
          179,
          180,
          181,
          182,
          183,
          184,
          185,
          186,
          187,
          188,
          189,
          190,
          191,
          192,
          193,
          194,
          195,
          196,
          197,
          198,
          199,
          200,
          201,
          202,
          203,
          204,
          205
         ],
         "y": [
          20440581339.63,
          14996575638.439999,
          14994494170.96,
          11472080683.86,
          10990079930.369999,
          10330615161.619999,
          6513639788.549999,
          4639266979.1,
          4541361514.940001,
          3695074732.8100004,
          3412021347.9700003,
          3300592953.54,
          3027478834.66,
          2885688332.98,
          2481338564.08,
          2205636120.63,
          2051035494.18,
          1421257279,
          981990659.79,
          735985723.28,
          693347393.1500001,
          580968442.03,
          566861717.24,
          518787323.90999997,
          443888428.01,
          337017022.47,
          318516096.53,
          261262473.76999998,
          247875078.92,
          243549888.66000003,
          242509919.1,
          221327173.31,
          198661544.94000003,
          193383418.14999998,
          119233993.42999999,
          88114013.48,
          83375293.16,
          83228051.88000001,
          56942682.96,
          51419123.49,
          44047015.599999994,
          42849579.64,
          30699441.03,
          30520990.09,
          30513146.28,
          25811052.939999998,
          25468578.79,
          25164191.91,
          24854340.990000002,
          24444994.740000002,
          23925543.02,
          20006485.92,
          19286380.8,
          18755332.57,
          16894043.29,
          15741020.65,
          15261300.520000001,
          14567195.05,
          14321586,
          14109179.48,
          13930559.020000001,
          13707029.83,
          13497626.5,
          13286594.88,
          12400141.940000001,
          11907567.93,
          11233650.88,
          10891289.54,
          10311340.05,
          10208365.790000001,
          9581401.16,
          9472290.7,
          8743123.14,
          8193787.26,
          8100938.33,
          7395442.73,
          7233070.1,
          7114222.2,
          6809112.6899999995,
          6766806.74,
          6539822.47,
          6501024.75,
          5975363.62,
          5804394.88,
          5604045.4,
          5579937.779999999,
          5407724.99,
          5274621.92,
          5014557.65,
          4936261.8,
          4913061.029999999,
          4787694.7299999995,
          4736058.38,
          4640678.2,
          4520467.84,
          4443709.99,
          4194630.470000001,
          3845711.98,
          3683650.51,
          3462829.82,
          3436662.91,
          3353314.59,
          3305410.74,
          3212693.32,
          3147599.76,
          3122449.56,
          3064420.5,
          2993630.14,
          2761513.13,
          2631264.98,
          2579570.7199999997,
          2289720.99,
          2244398.73,
          2230169.26,
          2061217,
          1860221.5,
          1834464.25,
          1810250.83,
          1665075.76,
          1319526.05,
          1295092.05,
          1283723.87,
          1273257.5899999999,
          1253137.26,
          1075780.56,
          961498.5,
          929390,
          870219.89,
          837828.76,
          837502,
          682007,
          631876.85,
          619906,
          614700,
          613376.25,
          575526.9099999999,
          507982.5,
          506744,
          490718.78,
          479689,
          448822.33999999997,
          386175,
          384229,
          379333.95,
          376833.89,
          351896.25,
          344375,
          303597.5,
          302947,
          281553.75,
          280029,
          276383.3,
          268183.7,
          265000,
          264593.75,
          251733,
          240975,
          236206.74,
          224699.89,
          206509.89,
          185764.24,
          177727.8,
          171250,
          162346.7,
          161840,
          159710,
          154000,
          149603,
          139635,
          116885.03,
          116425,
          111761,
          109730,
          102720,
          100908.75,
          89898.51999999999,
          89782.72,
          86250,
          82680,
          70085,
          64027,
          54000,
          42500,
          31000,
          28132.5,
          20000,
          16718.75,
          11111.95,
          0,
          0,
          0,
          0,
          0,
          0,
          0,
          0,
          0,
          0,
          0,
          0,
          0,
          0,
          0,
          0,
          0,
          0
         ]
        }
       ],
       "layout": {
        "template": {
         "data": {
          "bar": [
           {
            "error_x": {
             "color": "#2a3f5f"
            },
            "error_y": {
             "color": "#2a3f5f"
            },
            "marker": {
             "line": {
              "color": "#E5ECF6",
              "width": 0.5
             },
             "pattern": {
              "fillmode": "overlay",
              "size": 10,
              "solidity": 0.2
             }
            },
            "type": "bar"
           }
          ],
          "barpolar": [
           {
            "marker": {
             "line": {
              "color": "#E5ECF6",
              "width": 0.5
             },
             "pattern": {
              "fillmode": "overlay",
              "size": 10,
              "solidity": 0.2
             }
            },
            "type": "barpolar"
           }
          ],
          "carpet": [
           {
            "aaxis": {
             "endlinecolor": "#2a3f5f",
             "gridcolor": "white",
             "linecolor": "white",
             "minorgridcolor": "white",
             "startlinecolor": "#2a3f5f"
            },
            "baxis": {
             "endlinecolor": "#2a3f5f",
             "gridcolor": "white",
             "linecolor": "white",
             "minorgridcolor": "white",
             "startlinecolor": "#2a3f5f"
            },
            "type": "carpet"
           }
          ],
          "choropleth": [
           {
            "colorbar": {
             "outlinewidth": 0,
             "ticks": ""
            },
            "type": "choropleth"
           }
          ],
          "contour": [
           {
            "colorbar": {
             "outlinewidth": 0,
             "ticks": ""
            },
            "colorscale": [
             [
              0,
              "#0d0887"
             ],
             [
              0.1111111111111111,
              "#46039f"
             ],
             [
              0.2222222222222222,
              "#7201a8"
             ],
             [
              0.3333333333333333,
              "#9c179e"
             ],
             [
              0.4444444444444444,
              "#bd3786"
             ],
             [
              0.5555555555555556,
              "#d8576b"
             ],
             [
              0.6666666666666666,
              "#ed7953"
             ],
             [
              0.7777777777777778,
              "#fb9f3a"
             ],
             [
              0.8888888888888888,
              "#fdca26"
             ],
             [
              1,
              "#f0f921"
             ]
            ],
            "type": "contour"
           }
          ],
          "contourcarpet": [
           {
            "colorbar": {
             "outlinewidth": 0,
             "ticks": ""
            },
            "type": "contourcarpet"
           }
          ],
          "heatmap": [
           {
            "colorbar": {
             "outlinewidth": 0,
             "ticks": ""
            },
            "colorscale": [
             [
              0,
              "#0d0887"
             ],
             [
              0.1111111111111111,
              "#46039f"
             ],
             [
              0.2222222222222222,
              "#7201a8"
             ],
             [
              0.3333333333333333,
              "#9c179e"
             ],
             [
              0.4444444444444444,
              "#bd3786"
             ],
             [
              0.5555555555555556,
              "#d8576b"
             ],
             [
              0.6666666666666666,
              "#ed7953"
             ],
             [
              0.7777777777777778,
              "#fb9f3a"
             ],
             [
              0.8888888888888888,
              "#fdca26"
             ],
             [
              1,
              "#f0f921"
             ]
            ],
            "type": "heatmap"
           }
          ],
          "heatmapgl": [
           {
            "colorbar": {
             "outlinewidth": 0,
             "ticks": ""
            },
            "colorscale": [
             [
              0,
              "#0d0887"
             ],
             [
              0.1111111111111111,
              "#46039f"
             ],
             [
              0.2222222222222222,
              "#7201a8"
             ],
             [
              0.3333333333333333,
              "#9c179e"
             ],
             [
              0.4444444444444444,
              "#bd3786"
             ],
             [
              0.5555555555555556,
              "#d8576b"
             ],
             [
              0.6666666666666666,
              "#ed7953"
             ],
             [
              0.7777777777777778,
              "#fb9f3a"
             ],
             [
              0.8888888888888888,
              "#fdca26"
             ],
             [
              1,
              "#f0f921"
             ]
            ],
            "type": "heatmapgl"
           }
          ],
          "histogram": [
           {
            "marker": {
             "pattern": {
              "fillmode": "overlay",
              "size": 10,
              "solidity": 0.2
             }
            },
            "type": "histogram"
           }
          ],
          "histogram2d": [
           {
            "colorbar": {
             "outlinewidth": 0,
             "ticks": ""
            },
            "colorscale": [
             [
              0,
              "#0d0887"
             ],
             [
              0.1111111111111111,
              "#46039f"
             ],
             [
              0.2222222222222222,
              "#7201a8"
             ],
             [
              0.3333333333333333,
              "#9c179e"
             ],
             [
              0.4444444444444444,
              "#bd3786"
             ],
             [
              0.5555555555555556,
              "#d8576b"
             ],
             [
              0.6666666666666666,
              "#ed7953"
             ],
             [
              0.7777777777777778,
              "#fb9f3a"
             ],
             [
              0.8888888888888888,
              "#fdca26"
             ],
             [
              1,
              "#f0f921"
             ]
            ],
            "type": "histogram2d"
           }
          ],
          "histogram2dcontour": [
           {
            "colorbar": {
             "outlinewidth": 0,
             "ticks": ""
            },
            "colorscale": [
             [
              0,
              "#0d0887"
             ],
             [
              0.1111111111111111,
              "#46039f"
             ],
             [
              0.2222222222222222,
              "#7201a8"
             ],
             [
              0.3333333333333333,
              "#9c179e"
             ],
             [
              0.4444444444444444,
              "#bd3786"
             ],
             [
              0.5555555555555556,
              "#d8576b"
             ],
             [
              0.6666666666666666,
              "#ed7953"
             ],
             [
              0.7777777777777778,
              "#fb9f3a"
             ],
             [
              0.8888888888888888,
              "#fdca26"
             ],
             [
              1,
              "#f0f921"
             ]
            ],
            "type": "histogram2dcontour"
           }
          ],
          "mesh3d": [
           {
            "colorbar": {
             "outlinewidth": 0,
             "ticks": ""
            },
            "type": "mesh3d"
           }
          ],
          "parcoords": [
           {
            "line": {
             "colorbar": {
              "outlinewidth": 0,
              "ticks": ""
             }
            },
            "type": "parcoords"
           }
          ],
          "pie": [
           {
            "automargin": true,
            "type": "pie"
           }
          ],
          "scatter": [
           {
            "fillpattern": {
             "fillmode": "overlay",
             "size": 10,
             "solidity": 0.2
            },
            "type": "scatter"
           }
          ],
          "scatter3d": [
           {
            "line": {
             "colorbar": {
              "outlinewidth": 0,
              "ticks": ""
             }
            },
            "marker": {
             "colorbar": {
              "outlinewidth": 0,
              "ticks": ""
             }
            },
            "type": "scatter3d"
           }
          ],
          "scattercarpet": [
           {
            "marker": {
             "colorbar": {
              "outlinewidth": 0,
              "ticks": ""
             }
            },
            "type": "scattercarpet"
           }
          ],
          "scattergeo": [
           {
            "marker": {
             "colorbar": {
              "outlinewidth": 0,
              "ticks": ""
             }
            },
            "type": "scattergeo"
           }
          ],
          "scattergl": [
           {
            "marker": {
             "colorbar": {
              "outlinewidth": 0,
              "ticks": ""
             }
            },
            "type": "scattergl"
           }
          ],
          "scattermapbox": [
           {
            "marker": {
             "colorbar": {
              "outlinewidth": 0,
              "ticks": ""
             }
            },
            "type": "scattermapbox"
           }
          ],
          "scatterpolar": [
           {
            "marker": {
             "colorbar": {
              "outlinewidth": 0,
              "ticks": ""
             }
            },
            "type": "scatterpolar"
           }
          ],
          "scatterpolargl": [
           {
            "marker": {
             "colorbar": {
              "outlinewidth": 0,
              "ticks": ""
             }
            },
            "type": "scatterpolargl"
           }
          ],
          "scatterternary": [
           {
            "marker": {
             "colorbar": {
              "outlinewidth": 0,
              "ticks": ""
             }
            },
            "type": "scatterternary"
           }
          ],
          "surface": [
           {
            "colorbar": {
             "outlinewidth": 0,
             "ticks": ""
            },
            "colorscale": [
             [
              0,
              "#0d0887"
             ],
             [
              0.1111111111111111,
              "#46039f"
             ],
             [
              0.2222222222222222,
              "#7201a8"
             ],
             [
              0.3333333333333333,
              "#9c179e"
             ],
             [
              0.4444444444444444,
              "#bd3786"
             ],
             [
              0.5555555555555556,
              "#d8576b"
             ],
             [
              0.6666666666666666,
              "#ed7953"
             ],
             [
              0.7777777777777778,
              "#fb9f3a"
             ],
             [
              0.8888888888888888,
              "#fdca26"
             ],
             [
              1,
              "#f0f921"
             ]
            ],
            "type": "surface"
           }
          ],
          "table": [
           {
            "cells": {
             "fill": {
              "color": "#EBF0F8"
             },
             "line": {
              "color": "white"
             }
            },
            "header": {
             "fill": {
              "color": "#C8D4E3"
             },
             "line": {
              "color": "white"
             }
            },
            "type": "table"
           }
          ]
         },
         "layout": {
          "annotationdefaults": {
           "arrowcolor": "#2a3f5f",
           "arrowhead": 0,
           "arrowwidth": 1
          },
          "autotypenumbers": "strict",
          "coloraxis": {
           "colorbar": {
            "outlinewidth": 0,
            "ticks": ""
           }
          },
          "colorscale": {
           "diverging": [
            [
             0,
             "#8e0152"
            ],
            [
             0.1,
             "#c51b7d"
            ],
            [
             0.2,
             "#de77ae"
            ],
            [
             0.3,
             "#f1b6da"
            ],
            [
             0.4,
             "#fde0ef"
            ],
            [
             0.5,
             "#f7f7f7"
            ],
            [
             0.6,
             "#e6f5d0"
            ],
            [
             0.7,
             "#b8e186"
            ],
            [
             0.8,
             "#7fbc41"
            ],
            [
             0.9,
             "#4d9221"
            ],
            [
             1,
             "#276419"
            ]
           ],
           "sequential": [
            [
             0,
             "#0d0887"
            ],
            [
             0.1111111111111111,
             "#46039f"
            ],
            [
             0.2222222222222222,
             "#7201a8"
            ],
            [
             0.3333333333333333,
             "#9c179e"
            ],
            [
             0.4444444444444444,
             "#bd3786"
            ],
            [
             0.5555555555555556,
             "#d8576b"
            ],
            [
             0.6666666666666666,
             "#ed7953"
            ],
            [
             0.7777777777777778,
             "#fb9f3a"
            ],
            [
             0.8888888888888888,
             "#fdca26"
            ],
            [
             1,
             "#f0f921"
            ]
           ],
           "sequentialminus": [
            [
             0,
             "#0d0887"
            ],
            [
             0.1111111111111111,
             "#46039f"
            ],
            [
             0.2222222222222222,
             "#7201a8"
            ],
            [
             0.3333333333333333,
             "#9c179e"
            ],
            [
             0.4444444444444444,
             "#bd3786"
            ],
            [
             0.5555555555555556,
             "#d8576b"
            ],
            [
             0.6666666666666666,
             "#ed7953"
            ],
            [
             0.7777777777777778,
             "#fb9f3a"
            ],
            [
             0.8888888888888888,
             "#fdca26"
            ],
            [
             1,
             "#f0f921"
            ]
           ]
          },
          "colorway": [
           "#636efa",
           "#EF553B",
           "#00cc96",
           "#ab63fa",
           "#FFA15A",
           "#19d3f3",
           "#FF6692",
           "#B6E880",
           "#FF97FF",
           "#FECB52"
          ],
          "font": {
           "color": "#2a3f5f"
          },
          "geo": {
           "bgcolor": "white",
           "lakecolor": "white",
           "landcolor": "#E5ECF6",
           "showlakes": true,
           "showland": true,
           "subunitcolor": "white"
          },
          "hoverlabel": {
           "align": "left"
          },
          "hovermode": "closest",
          "mapbox": {
           "style": "light"
          },
          "paper_bgcolor": "white",
          "plot_bgcolor": "#E5ECF6",
          "polar": {
           "angularaxis": {
            "gridcolor": "white",
            "linecolor": "white",
            "ticks": ""
           },
           "bgcolor": "#E5ECF6",
           "radialaxis": {
            "gridcolor": "white",
            "linecolor": "white",
            "ticks": ""
           }
          },
          "scene": {
           "xaxis": {
            "backgroundcolor": "#E5ECF6",
            "gridcolor": "white",
            "gridwidth": 2,
            "linecolor": "white",
            "showbackground": true,
            "ticks": "",
            "zerolinecolor": "white"
           },
           "yaxis": {
            "backgroundcolor": "#E5ECF6",
            "gridcolor": "white",
            "gridwidth": 2,
            "linecolor": "white",
            "showbackground": true,
            "ticks": "",
            "zerolinecolor": "white"
           },
           "zaxis": {
            "backgroundcolor": "#E5ECF6",
            "gridcolor": "white",
            "gridwidth": 2,
            "linecolor": "white",
            "showbackground": true,
            "ticks": "",
            "zerolinecolor": "white"
           }
          },
          "shapedefaults": {
           "line": {
            "color": "#2a3f5f"
           }
          },
          "ternary": {
           "aaxis": {
            "gridcolor": "white",
            "linecolor": "white",
            "ticks": ""
           },
           "baxis": {
            "gridcolor": "white",
            "linecolor": "white",
            "ticks": ""
           },
           "bgcolor": "#E5ECF6",
           "caxis": {
            "gridcolor": "white",
            "linecolor": "white",
            "ticks": ""
           }
          },
          "title": {
           "x": 0.05
          },
          "xaxis": {
           "automargin": true,
           "gridcolor": "white",
           "linecolor": "white",
           "ticks": "",
           "title": {
            "standoff": 15
           },
           "zerolinecolor": "white",
           "zerolinewidth": 2
          },
          "yaxis": {
           "automargin": true,
           "gridcolor": "white",
           "linecolor": "white",
           "ticks": "",
           "title": {
            "standoff": 15
           },
           "zerolinecolor": "white",
           "zerolinewidth": 2
          }
         }
        },
        "title": {
         "text": ""
        },
        "xaxis": {
         "type": "log"
        },
        "yaxis": {
         "type": "log"
        }
       }
      },
      "text/html": [
       "<div>                            <div id=\"388a0f08-f0fd-4ff0-bf8c-8bc485e647de\" class=\"plotly-graph-div\" style=\"height:525px; width:100%;\"></div>            <script type=\"text/javascript\">                require([\"plotly\"], function(Plotly) {                    window.PLOTLYENV=window.PLOTLYENV || {};                                    if (document.getElementById(\"388a0f08-f0fd-4ff0-bf8c-8bc485e647de\")) {                    Plotly.newPlot(                        \"388a0f08-f0fd-4ff0-bf8c-8bc485e647de\",                        [{\"marker\":{\"size\":[[100.0],[91.60243724734418],[84.88621086772586],[65.58674908338817],[72.2961361286077],[49.05721773056313],[35.97927047099746],[26.062235592742315],[21.240504841590678],[20.652322083294163],[27.3913462442418],[20.977190467237005],[15.408832377550063],[17.588300272633262],[10.099229105950926],[14.877644072576857],[18.62331954498449],[13.513196860016922],[9.946483971044469],[9.613636363636363],[7.614270941054809],[6.8459857102566515],[7.932299990598853],[5.525994171288898],[5.704956754724076],[4.668797593306383],[6.336455297546301],[4.850039954874495],[5.594387515276864],[4.389524772022186],[4.284654977907305],[7.063704521951679],[4.665377926106985],[5.040401428974335],[4.012221491021904],[5.131592554291624],[4.071495722478143],[3.8503572435837174],[3.479893296982232],[4.050977719281752],[3.846937576384319],[5.00962442417975],[3.5460068628372663],[4.174085738460092],[3.2952312682147222],[3.218858700761493],[3.9426882579674722],[3.2234182570273573],[3.2439362602237476],[3.5916024254959105],[3.66797499294914],[3.1823822506345776],[3.4434168468553166],[3.4274583999247907],[3.2758531540847984],[3.216578922628561],[3.5505664191031308],[3.0113988906646614],[3.2541952618219425],[3.134506909843001],[3.2758531540847984],[3.432017956190655],[3.2940913791482562],[3.1641440255711197],[3.278132932217731],[3.207459810096832],[3.188081695966908],[3.156164802105857],[3.1493254677070603],[3.1915013631663065],[3.1025900159819497],[3.0740927893202974],[3.198340697565103],[3.132227131710069],[3.1493254677070603],[3.1823822506345776],[3.062693898655636],[3.188081695966908],[3.0683933439879665],[3.06155400958917],[3.2576149290213405],[3.1652839146375857],[3.0968905706496193],[3.042175895459246],[3.018238225063458],[3.1208282410454076],[3.155024913039391],[3.0467354517251106],[3.2655941524866035],[3.0330567829275172],[3.083211901852026],[3.062693898655636],[3.071813011187365],[3.007979223465263],[3.029637115728119],[3.185801917833976],[3.124247908244806],[3.0467354517251106],[3.1117091285136786],[3.0364764501269157],[3.1105692394472126],[3.0467354517251106],[3.0968905706496193],[3.1481855786405943],[3.0455955626586446],[3.019378114129924],[3.0330567829275172],[3.0478753407915766],[3.092331014383755],[3.0341966719939832],[3.0866315690514243],[3.063833787722102],[3.0387562282598477],[3.0775124565196954],[3.0216578922628563],[3.029637115728119],[3.0398961173263137],[3.0239376703957883],[3.0569944533233055],[3.029637115728119],[3.1641440255711197],[3.0786523455861614],[3.070673122120899],[3.0056994453323305],[3.0341966719939832],[3.069533233054433],[3.0136786687975934],[3.0136786687975934],[3.0113988906646614],[3.0148185578640594],[3.0227977813293223],[3.0125387797311274],[3.0125387797311274],[3.0227977813293223],[3.0136786687975934],[3.006839334398797],[3.010259001598195],[3.018238225063458],[3.0683933439879665],[3.0216578922628563],[3.0056994453323305],[3.001139889066466],[3.0148185578640594],[3.0136786687975934],[3.010259001598195],[3.0113988906646614],[3.006839334398797],[3.0045595562658645],[3.001139889066466],[3.0125387797311274],[3.0022797781329325],[3.0022797781329325],[3.019378114129924],[3.019378114129924],[3.02051800319639],[3.001139889066466],[3.0136786687975934],[3.0056994453323305],[3.0045595562658645],[3.0022797781329325],[3.001139889066466],[3.0045595562658645],[3.0034196671993985],[3.02051800319639],[3.0045595562658645],[3.0045595562658645],[3.0045595562658645],[3.009119112531729],[3.0216578922628563],[3.019378114129924],[3.001139889066466],[3.001139889066466],[3.0],[3.0022797781329325],[3.0034196671993985],[3.010259001598195],[3.0022797781329325],[3.0],[3.0045595562658645],[3.0034196671993985],[3.0],[3.0022797781329325],[3.007979223465263],[3.0],[3.0],[3.0],[3.0034196671993985],[3.0],[3.0034196671993985],[3.0022797781329325],[3.001139889066466],[3.001139889066466],[3.001139889066466],[3.001139889066466],[3.001139889066466],[3.001139889066466],[3.0],[3.0],[3.0],[3.0],[3.0],[3.0],[3.0],[3.0],[3.0],[3.0]]},\"mode\":\"markers\",\"text\":[\"DE\",\"UK\",\"FR\",\"ES\",\"IT\",\"NL\",\"BE\",\"SE\",\"CH\",\"AT\",\"EL\",\"DK\",\"NO\",\"FI\",\"IL\",\"IE\",\"PT\",\"PL\",\"CZ\",\"HU\",\"SI\",\"TR\",\"RO\",\"CY\",\"EE\",\"LU\",\"BG\",\"HR\",\"SK\",\"IS\",\"RS\",\"US\",\"LV\",\"LT\",\"ZA\",\"RU\",\"UA\",\"MT\",\"KE\",\"BR\",\"IN\",\"CN\",\"TN\",\"CA\",\"MK\",\"GH\",\"AU\",\"UG\",\"TZ\",\"MA\",\"AR\",\"BF\",\"EG\",\"CL\",\"CO\",\"GE\",\"JP\",\"SL\",\"MD\",\"NG\",\"SN\",\"MX\",\"BA\",\"ET\",\"TH\",\"JO\",\"LB\",\"ME\",\"AM\",\"AL\",\"MZ\",\"FO\",\"VN\",\"UY\",\"CM\",\"ID\",\"BD\",\"NZ\",\"BJ\",\"MW\",\"BY\",\"PE\",\"EC\",\"GA\",\"CD\",\"CR\",\"MY\",\"LK\",\"KR\",\"MG\",\"ZM\",\"PK\",\"CI\",\"GI\",\"GL\",\"DZ\",\"PH\",\"RW\",\"ML\",\"XK\",\"SG\",\"BW\",\"PS\",\"KZ\",\"NE\",\"JM\",\"NP\",\"LI\",\"BO\",\"KH\",\"ZW\",\"HK\",\"CV\",\"AZ\",\"MU\",\"SD\",\"NI\",\"NC\",\"KG\",\"IR\",\"TW\",\"UZ\",\"CU\",\"AI\",\"GT\",\"SY\",\"GW\",\"AE\",\"IQ\",\"SZ\",\"TJ\",\"MC\",\"PG\",\"GM\",\"PA\",\"GY\",\"FJ\",\"DO\",\"VE\",\"TG\",\"OM\",\"BQ\",\"HN\",\"BI\",\"PF\",\"CG\",\"SR\",\"LY\",\"CF\",\"MR\",\"HT\",\"YE\",\"LA\",\"GN\",\"PY\",\"CW\",\"AO\",\"AF\",\"QA\",\"KW\",\"VG\",\"BB\",\"LR\",\"TM\",\"YU\",\"SC\",\"TD\",\"LS\",\"SA\",\"SV\",\"MH\",\"MO\",\"AW\",\"WS\",\"MV\",\"TT\",\"BH\",\"WF\",\"MM\",\"VU\",\"DJ\",\"SO\",\"MN\",\"BN\",\"GD\",\"BZ\",\"BT\",\"GF\",\"SM\",\"ST\",\"FK\",\"GQ\",\"SB\",\"TO\",\"UM\",\"VA\",\"AD\",\"ER\",\"GP\",\"JE\",\"KY\",\"LC\",\"MQ\",\"MS\",\"NF\",\"SX\"],\"x\":[0,1,2,3,4,5,6,7,8,9,10,11,12,13,14,15,16,17,18,19,20,21,22,23,24,25,26,27,28,29,30,31,32,33,34,35,36,37,38,39,40,41,42,43,44,45,46,47,48,49,50,51,52,53,54,55,56,57,58,59,60,61,62,63,64,65,66,67,68,69,70,71,72,73,74,75,76,77,78,79,80,81,82,83,84,85,86,87,88,89,90,91,92,93,94,95,96,97,98,99,100,101,102,103,104,105,106,107,108,109,110,111,112,113,114,115,116,117,118,119,120,121,122,123,124,125,126,127,128,129,130,131,132,133,134,135,136,137,138,139,140,141,142,143,144,145,146,147,148,149,150,151,152,153,154,155,156,157,158,159,160,161,162,163,164,165,166,167,168,169,170,171,172,173,174,175,176,177,178,179,180,181,182,183,184,185,186,187,188,189,190,191,192,193,194,195,196,197,198,199,200,201,202,203,204,205],\"y\":[20440581339.63,14996575638.439999,14994494170.96,11472080683.86,10990079930.369999,10330615161.619999,6513639788.549999,4639266979.1,4541361514.940001,3695074732.8100004,3412021347.9700003,3300592953.54,3027478834.66,2885688332.98,2481338564.08,2205636120.63,2051035494.18,1421257279.0,981990659.79,735985723.28,693347393.1500001,580968442.03,566861717.24,518787323.90999997,443888428.01,337017022.47,318516096.53,261262473.76999998,247875078.92,243549888.66000003,242509919.1,221327173.31,198661544.94000003,193383418.14999998,119233993.42999999,88114013.48,83375293.16,83228051.88000001,56942682.96,51419123.49,44047015.599999994,42849579.64,30699441.03,30520990.09,30513146.28,25811052.939999998,25468578.79,25164191.91,24854340.990000002,24444994.740000002,23925543.02,20006485.92,19286380.8,18755332.57,16894043.29,15741020.65,15261300.520000001,14567195.05,14321586.0,14109179.48,13930559.020000001,13707029.83,13497626.5,13286594.88,12400141.940000001,11907567.93,11233650.88,10891289.54,10311340.05,10208365.790000001,9581401.16,9472290.7,8743123.14,8193787.26,8100938.33,7395442.73,7233070.1,7114222.2,6809112.6899999995,6766806.74,6539822.47,6501024.75,5975363.62,5804394.88,5604045.4,5579937.779999999,5407724.99,5274621.92,5014557.65,4936261.8,4913061.029999999,4787694.7299999995,4736058.38,4640678.2,4520467.84,4443709.99,4194630.470000001,3845711.98,3683650.51,3462829.82,3436662.91,3353314.59,3305410.74,3212693.32,3147599.76,3122449.56,3064420.5,2993630.14,2761513.13,2631264.98,2579570.7199999997,2289720.99,2244398.73,2230169.26,2061217.0,1860221.5,1834464.25,1810250.83,1665075.76,1319526.05,1295092.05,1283723.87,1273257.5899999999,1253137.26,1075780.56,961498.5,929390.0,870219.89,837828.76,837502.0,682007.0,631876.85,619906.0,614700.0,613376.25,575526.9099999999,507982.5,506744.0,490718.78,479689.0,448822.33999999997,386175.0,384229.0,379333.95,376833.89,351896.25,344375.0,303597.5,302947.0,281553.75,280029.0,276383.3,268183.7,265000.0,264593.75,251733.0,240975.0,236206.74,224699.89,206509.89,185764.24,177727.8,171250.0,162346.7,161840.0,159710.0,154000.0,149603.0,139635.0,116885.03,116425.0,111761.0,109730.0,102720.0,100908.75,89898.51999999999,89782.72,86250.0,82680.0,70085.0,64027.0,54000.0,42500.0,31000.0,28132.5,20000.0,16718.75,11111.95,0.0,0.0,0.0,0.0,0.0,0.0,0.0,0.0,0.0,0.0,0.0,0.0,0.0,0.0,0.0,0.0,0.0,0.0],\"type\":\"scatter\"}],                        {\"template\":{\"data\":{\"barpolar\":[{\"marker\":{\"line\":{\"color\":\"#E5ECF6\",\"width\":0.5},\"pattern\":{\"fillmode\":\"overlay\",\"size\":10,\"solidity\":0.2}},\"type\":\"barpolar\"}],\"bar\":[{\"error_x\":{\"color\":\"#2a3f5f\"},\"error_y\":{\"color\":\"#2a3f5f\"},\"marker\":{\"line\":{\"color\":\"#E5ECF6\",\"width\":0.5},\"pattern\":{\"fillmode\":\"overlay\",\"size\":10,\"solidity\":0.2}},\"type\":\"bar\"}],\"carpet\":[{\"aaxis\":{\"endlinecolor\":\"#2a3f5f\",\"gridcolor\":\"white\",\"linecolor\":\"white\",\"minorgridcolor\":\"white\",\"startlinecolor\":\"#2a3f5f\"},\"baxis\":{\"endlinecolor\":\"#2a3f5f\",\"gridcolor\":\"white\",\"linecolor\":\"white\",\"minorgridcolor\":\"white\",\"startlinecolor\":\"#2a3f5f\"},\"type\":\"carpet\"}],\"choropleth\":[{\"colorbar\":{\"outlinewidth\":0,\"ticks\":\"\"},\"type\":\"choropleth\"}],\"contourcarpet\":[{\"colorbar\":{\"outlinewidth\":0,\"ticks\":\"\"},\"type\":\"contourcarpet\"}],\"contour\":[{\"colorbar\":{\"outlinewidth\":0,\"ticks\":\"\"},\"colorscale\":[[0.0,\"#0d0887\"],[0.1111111111111111,\"#46039f\"],[0.2222222222222222,\"#7201a8\"],[0.3333333333333333,\"#9c179e\"],[0.4444444444444444,\"#bd3786\"],[0.5555555555555556,\"#d8576b\"],[0.6666666666666666,\"#ed7953\"],[0.7777777777777778,\"#fb9f3a\"],[0.8888888888888888,\"#fdca26\"],[1.0,\"#f0f921\"]],\"type\":\"contour\"}],\"heatmapgl\":[{\"colorbar\":{\"outlinewidth\":0,\"ticks\":\"\"},\"colorscale\":[[0.0,\"#0d0887\"],[0.1111111111111111,\"#46039f\"],[0.2222222222222222,\"#7201a8\"],[0.3333333333333333,\"#9c179e\"],[0.4444444444444444,\"#bd3786\"],[0.5555555555555556,\"#d8576b\"],[0.6666666666666666,\"#ed7953\"],[0.7777777777777778,\"#fb9f3a\"],[0.8888888888888888,\"#fdca26\"],[1.0,\"#f0f921\"]],\"type\":\"heatmapgl\"}],\"heatmap\":[{\"colorbar\":{\"outlinewidth\":0,\"ticks\":\"\"},\"colorscale\":[[0.0,\"#0d0887\"],[0.1111111111111111,\"#46039f\"],[0.2222222222222222,\"#7201a8\"],[0.3333333333333333,\"#9c179e\"],[0.4444444444444444,\"#bd3786\"],[0.5555555555555556,\"#d8576b\"],[0.6666666666666666,\"#ed7953\"],[0.7777777777777778,\"#fb9f3a\"],[0.8888888888888888,\"#fdca26\"],[1.0,\"#f0f921\"]],\"type\":\"heatmap\"}],\"histogram2dcontour\":[{\"colorbar\":{\"outlinewidth\":0,\"ticks\":\"\"},\"colorscale\":[[0.0,\"#0d0887\"],[0.1111111111111111,\"#46039f\"],[0.2222222222222222,\"#7201a8\"],[0.3333333333333333,\"#9c179e\"],[0.4444444444444444,\"#bd3786\"],[0.5555555555555556,\"#d8576b\"],[0.6666666666666666,\"#ed7953\"],[0.7777777777777778,\"#fb9f3a\"],[0.8888888888888888,\"#fdca26\"],[1.0,\"#f0f921\"]],\"type\":\"histogram2dcontour\"}],\"histogram2d\":[{\"colorbar\":{\"outlinewidth\":0,\"ticks\":\"\"},\"colorscale\":[[0.0,\"#0d0887\"],[0.1111111111111111,\"#46039f\"],[0.2222222222222222,\"#7201a8\"],[0.3333333333333333,\"#9c179e\"],[0.4444444444444444,\"#bd3786\"],[0.5555555555555556,\"#d8576b\"],[0.6666666666666666,\"#ed7953\"],[0.7777777777777778,\"#fb9f3a\"],[0.8888888888888888,\"#fdca26\"],[1.0,\"#f0f921\"]],\"type\":\"histogram2d\"}],\"histogram\":[{\"marker\":{\"pattern\":{\"fillmode\":\"overlay\",\"size\":10,\"solidity\":0.2}},\"type\":\"histogram\"}],\"mesh3d\":[{\"colorbar\":{\"outlinewidth\":0,\"ticks\":\"\"},\"type\":\"mesh3d\"}],\"parcoords\":[{\"line\":{\"colorbar\":{\"outlinewidth\":0,\"ticks\":\"\"}},\"type\":\"parcoords\"}],\"pie\":[{\"automargin\":true,\"type\":\"pie\"}],\"scatter3d\":[{\"line\":{\"colorbar\":{\"outlinewidth\":0,\"ticks\":\"\"}},\"marker\":{\"colorbar\":{\"outlinewidth\":0,\"ticks\":\"\"}},\"type\":\"scatter3d\"}],\"scattercarpet\":[{\"marker\":{\"colorbar\":{\"outlinewidth\":0,\"ticks\":\"\"}},\"type\":\"scattercarpet\"}],\"scattergeo\":[{\"marker\":{\"colorbar\":{\"outlinewidth\":0,\"ticks\":\"\"}},\"type\":\"scattergeo\"}],\"scattergl\":[{\"marker\":{\"colorbar\":{\"outlinewidth\":0,\"ticks\":\"\"}},\"type\":\"scattergl\"}],\"scattermapbox\":[{\"marker\":{\"colorbar\":{\"outlinewidth\":0,\"ticks\":\"\"}},\"type\":\"scattermapbox\"}],\"scatterpolargl\":[{\"marker\":{\"colorbar\":{\"outlinewidth\":0,\"ticks\":\"\"}},\"type\":\"scatterpolargl\"}],\"scatterpolar\":[{\"marker\":{\"colorbar\":{\"outlinewidth\":0,\"ticks\":\"\"}},\"type\":\"scatterpolar\"}],\"scatter\":[{\"fillpattern\":{\"fillmode\":\"overlay\",\"size\":10,\"solidity\":0.2},\"type\":\"scatter\"}],\"scatterternary\":[{\"marker\":{\"colorbar\":{\"outlinewidth\":0,\"ticks\":\"\"}},\"type\":\"scatterternary\"}],\"surface\":[{\"colorbar\":{\"outlinewidth\":0,\"ticks\":\"\"},\"colorscale\":[[0.0,\"#0d0887\"],[0.1111111111111111,\"#46039f\"],[0.2222222222222222,\"#7201a8\"],[0.3333333333333333,\"#9c179e\"],[0.4444444444444444,\"#bd3786\"],[0.5555555555555556,\"#d8576b\"],[0.6666666666666666,\"#ed7953\"],[0.7777777777777778,\"#fb9f3a\"],[0.8888888888888888,\"#fdca26\"],[1.0,\"#f0f921\"]],\"type\":\"surface\"}],\"table\":[{\"cells\":{\"fill\":{\"color\":\"#EBF0F8\"},\"line\":{\"color\":\"white\"}},\"header\":{\"fill\":{\"color\":\"#C8D4E3\"},\"line\":{\"color\":\"white\"}},\"type\":\"table\"}]},\"layout\":{\"annotationdefaults\":{\"arrowcolor\":\"#2a3f5f\",\"arrowhead\":0,\"arrowwidth\":1},\"autotypenumbers\":\"strict\",\"coloraxis\":{\"colorbar\":{\"outlinewidth\":0,\"ticks\":\"\"}},\"colorscale\":{\"diverging\":[[0,\"#8e0152\"],[0.1,\"#c51b7d\"],[0.2,\"#de77ae\"],[0.3,\"#f1b6da\"],[0.4,\"#fde0ef\"],[0.5,\"#f7f7f7\"],[0.6,\"#e6f5d0\"],[0.7,\"#b8e186\"],[0.8,\"#7fbc41\"],[0.9,\"#4d9221\"],[1,\"#276419\"]],\"sequential\":[[0.0,\"#0d0887\"],[0.1111111111111111,\"#46039f\"],[0.2222222222222222,\"#7201a8\"],[0.3333333333333333,\"#9c179e\"],[0.4444444444444444,\"#bd3786\"],[0.5555555555555556,\"#d8576b\"],[0.6666666666666666,\"#ed7953\"],[0.7777777777777778,\"#fb9f3a\"],[0.8888888888888888,\"#fdca26\"],[1.0,\"#f0f921\"]],\"sequentialminus\":[[0.0,\"#0d0887\"],[0.1111111111111111,\"#46039f\"],[0.2222222222222222,\"#7201a8\"],[0.3333333333333333,\"#9c179e\"],[0.4444444444444444,\"#bd3786\"],[0.5555555555555556,\"#d8576b\"],[0.6666666666666666,\"#ed7953\"],[0.7777777777777778,\"#fb9f3a\"],[0.8888888888888888,\"#fdca26\"],[1.0,\"#f0f921\"]]},\"colorway\":[\"#636efa\",\"#EF553B\",\"#00cc96\",\"#ab63fa\",\"#FFA15A\",\"#19d3f3\",\"#FF6692\",\"#B6E880\",\"#FF97FF\",\"#FECB52\"],\"font\":{\"color\":\"#2a3f5f\"},\"geo\":{\"bgcolor\":\"white\",\"lakecolor\":\"white\",\"landcolor\":\"#E5ECF6\",\"showlakes\":true,\"showland\":true,\"subunitcolor\":\"white\"},\"hoverlabel\":{\"align\":\"left\"},\"hovermode\":\"closest\",\"mapbox\":{\"style\":\"light\"},\"paper_bgcolor\":\"white\",\"plot_bgcolor\":\"#E5ECF6\",\"polar\":{\"angularaxis\":{\"gridcolor\":\"white\",\"linecolor\":\"white\",\"ticks\":\"\"},\"bgcolor\":\"#E5ECF6\",\"radialaxis\":{\"gridcolor\":\"white\",\"linecolor\":\"white\",\"ticks\":\"\"}},\"scene\":{\"xaxis\":{\"backgroundcolor\":\"#E5ECF6\",\"gridcolor\":\"white\",\"gridwidth\":2,\"linecolor\":\"white\",\"showbackground\":true,\"ticks\":\"\",\"zerolinecolor\":\"white\"},\"yaxis\":{\"backgroundcolor\":\"#E5ECF6\",\"gridcolor\":\"white\",\"gridwidth\":2,\"linecolor\":\"white\",\"showbackground\":true,\"ticks\":\"\",\"zerolinecolor\":\"white\"},\"zaxis\":{\"backgroundcolor\":\"#E5ECF6\",\"gridcolor\":\"white\",\"gridwidth\":2,\"linecolor\":\"white\",\"showbackground\":true,\"ticks\":\"\",\"zerolinecolor\":\"white\"}},\"shapedefaults\":{\"line\":{\"color\":\"#2a3f5f\"}},\"ternary\":{\"aaxis\":{\"gridcolor\":\"white\",\"linecolor\":\"white\",\"ticks\":\"\"},\"baxis\":{\"gridcolor\":\"white\",\"linecolor\":\"white\",\"ticks\":\"\"},\"bgcolor\":\"#E5ECF6\",\"caxis\":{\"gridcolor\":\"white\",\"linecolor\":\"white\",\"ticks\":\"\"}},\"title\":{\"x\":0.05},\"xaxis\":{\"automargin\":true,\"gridcolor\":\"white\",\"linecolor\":\"white\",\"ticks\":\"\",\"title\":{\"standoff\":15},\"zerolinecolor\":\"white\",\"zerolinewidth\":2},\"yaxis\":{\"automargin\":true,\"gridcolor\":\"white\",\"linecolor\":\"white\",\"ticks\":\"\",\"title\":{\"standoff\":15},\"zerolinecolor\":\"white\",\"zerolinewidth\":2}}},\"title\":{\"text\":\"\"},\"xaxis\":{\"type\":\"log\"},\"yaxis\":{\"type\":\"log\"}},                        {\"responsive\": true}                    ).then(function(){\n",
       "                            \n",
       "var gd = document.getElementById('388a0f08-f0fd-4ff0-bf8c-8bc485e647de');\n",
       "var x = new MutationObserver(function (mutations, observer) {{\n",
       "        var display = window.getComputedStyle(gd).display;\n",
       "        if (!display || display === 'none') {{\n",
       "            console.log([gd, 'removed!']);\n",
       "            Plotly.purge(gd);\n",
       "            observer.disconnect();\n",
       "        }}\n",
       "}});\n",
       "\n",
       "// Listen for the removal of the full notebook cells\n",
       "var notebookContainer = gd.closest('#notebook-container');\n",
       "if (notebookContainer) {{\n",
       "    x.observe(notebookContainer, {childList: true});\n",
       "}}\n",
       "\n",
       "// Listen for the clearing of the current output cell\n",
       "var outputEl = gd.closest('.output');\n",
       "if (outputEl) {{\n",
       "    x.observe(outputEl, {childList: true});\n",
       "}}\n",
       "\n",
       "                        })                };                });            </script>        </div>"
      ]
     },
     "metadata": {},
     "output_type": "display_data"
    }
   ],
   "source": [
    "data = data.sort_values(['total_contribution', 'total_projects'], ascending=False).reset_index()\n",
    "trace = go.Scatter(x=data.index,\n",
    "                   y=data['total_contribution'],\n",
    "                   mode='markers',\n",
    "                   text=data['country'],\n",
    "                   marker=dict(size=min_max_scaler.fit_transform(data[['total_projects']]))\n",
    "                  )\n",
    "\n",
    "layout = go.Layout(\n",
    "    title='',\n",
    "    xaxis=dict(type='log'),\n",
    "    yaxis=dict(type='log')\n",
    ")\n",
    "\n",
    "fig = dict(data=[trace], layout=layout)\n",
    "plotly.offline.iplot(fig)"
   ]
  },
  {
   "cell_type": "code",
   "execution_count": 154,
   "metadata": {},
   "outputs": [
    {
     "data": {
      "application/vnd.plotly.v1+json": {
       "config": {
        "linkText": "Export to plot.ly",
        "plotlyServerURL": "https://plot.ly",
        "showLink": false
       },
       "data": [
        {
         "marker": {
          "size": [
           [
            100
           ],
           [
            74.16567835125042
           ],
           [
            74.15580082662402
           ],
           [
            55.1530056084592
           ],
           [
            57.44032182083541
           ],
           [
            52.02354067270763
           ],
           [
            33.91022945929515
           ],
           [
            19.19161731527744
           ],
           [
            25.015464702083946
           ],
           [
            24.55085805192436
           ],
           [
            18.662838114719456
           ],
           [
            20.534836369240853
           ],
           [
            12.73311079708564
           ],
           [
            16.693924044927712
           ],
           [
            17.36678546870212
           ],
           [
            13.466762179914728
           ],
           [
            9.744522270299356
           ],
           [
            14.77509762156876
           ],
           [
            7.6599992640597865
           ],
           [
            6.492592210171076
           ],
           [
            5.690020682810742
           ],
           [
            6.290253638978323
           ],
           [
            4.050299668798882
           ],
           [
            5.7569636078623425
           ],
           [
            4.511506001226541
           ],
           [
            5.106455623817859
           ],
           [
            4.176281743446501
           ],
           [
            5.461885480806041
           ],
           [
            3.4181416939932645
           ],
           [
            3.9176936432909466
           ],
           [
            3.2033410476942548
           ],
           [
            4.239811115672932
           ],
           [
            4.599301440424774
           ],
           [
            3.942740792886315
           ],
           [
            4.155756717849182
           ],
           [
            4.150821581923061
           ],
           [
            3.1448361956805084
           ],
           [
            3.3956542772509226
           ],
           [
            3.244007491551132
           ],
           [
            3.5658203732340303
           ],
           [
            3.1208601703436054
           ],
           [
            3.3949555493662946
           ],
           [
            3.209023434422406
           ],
           [
            3.113537752883794
           ],
           [
            3.1160027912309327
           ],
           [
            3.0724219201911795
           ],
           [
            3.1456830278176375
           ],
           [
            3.2702193325789226
           ],
           [
            3.0915227853120277
           ],
           [
            3.0650461878465376
           ],
           [
            3.0890027161684888
           ],
           [
            3.144798973178988
           ],
           [
            3.0640524723218903
           ],
           [
            3.0588444011544818
           ],
           [
            3.080170038801825
           ],
           [
            3.066106937101646
           ],
           [
            3.0237963922829802
           ],
           [
            3.031034478376606
           ],
           [
            3.067962540737853
           ],
           [
            3.1179453282649954
           ],
           [
            3.1194157140011254
           ],
           [
            3.1224853683748175
           ],
           [
            3.0746984137916713
           ],
           [
            3.056506909956158
           ],
           [
            3.041490157764532
           ],
           [
            3.048443410937153
           ],
           [
            3.053308862270339
           ],
           [
            3.0337602704117854
           ],
           [
            3.0210874564606587
           ],
           [
            3.0949400167243546
           ],
           [
            3.035094791722934
           ],
           [
            3.030850365274465
           ],
           [
            3.063051029809083
           ],
           [
            3.0061458099827347
           ],
           [
            3.051684199574684
           ],
           [
            3.0256621529160235
           ],
           [
            3.04893207136486
           ],
           [
            3.0384426942146954
           ],
           [
            3.015245713752564
           ],
           [
            3.0669545736894768
           ],
           [
            3.0388833052746427
           ],
           [
            3.019905459087954
           ],
           [
            3.026479382149989
           ],
           [
            3.017480623155137
           ],
           [
            3.016308552909094
           ],
           [
            3.0454681741716465
           ],
           [
            3.028355860408738
           ],
           [
            3.015685700736817
           ],
           [
            3.0131046553500247
           ],
           [
            3.012241254575029
           ],
           [
            3.023314743939598
           ],
           [
            3.0060918627176507
           ],
           [
            3.010583183258129
           ],
           [
            3.044950394640617
           ],
           [
            3.022474784607487
           ],
           [
            3.006042195384656
           ],
           [
            3.0045627545004887
           ],
           [
            3.0323123848561715
           ],
           [
            3.002328687275039
           ],
           [
            3.0108657837240367
           ],
           [
            3.0343242585933567
           ],
           [
            3.022719822939165
           ],
           [
            3.0321116235822223
           ],
           [
            3.0079015535828653
           ],
           [
            3.014206157777764
           ],
           [
            3.025030517368312
           ],
           [
            3.0182496796867886
           ],
           [
            3.0159130266319463
           ],
           [
            3.0149368147435247
           ],
           [
            3.027544534766651
           ],
           [
            3.0087053802087813
           ],
           [
            3.0106507086658985
           ],
           [
            3.0164327269835898
           ],
           [
            3.0124865677164063
           ],
           [
            3.0051050756622897
           ],
           [
            3.023424842309728
           ],
           [
            3.014542090734166
           ],
           [
            3.021451707913506
           ],
           [
            3.008827610257354
           ],
           [
            3.006261760598846
           ],
           [
            3.0085904763466567
           ],
           [
            3.0032364382353323
           ],
           [
            3.002917035431101
           ],
           [
            3.0097814267450587
           ],
           [
            3.0022763458742627
           ],
           [
            3.0006626325726726
           ],
           [
            3.0012556195601072
           ],
           [
            3.00077041007975
           ],
           [
            3.0148174654275994
           ],
           [
            3.001272655531062
           ],
           [
            3.0012575474040046
           ],
           [
            3.000554673456768
           ],
           [
            3.0265937839422445
           ],
           [
            3.002404734346019
           ],
           [
            3.003974333833769
           ],
           [
            3.001823344081107
           ],
           [
            3.004410384837011
           ],
           [
            3.0041295953342746
           ],
           [
            3.0029107536259083
           ],
           [
            3.001800114807824
           ],
           [
            3.0011435376818114
           ],
           [
            3.0029985475183705
           ],
           [
            3.0029417403057623
           ],
           [
            3.0013361025939633
           ],
           [
            3.069128069127391
           ],
           [
            3.0039758844609
           ],
           [
            3.001669910247798
           ],
           [
            3.002410611600584
           ],
           [
            3.0017882508683416
           ],
           [
            3.0004266100016976
           ],
           [
            3.0007099353369107
           ],
           [
            3.0220221615971
           ],
           [
            3.000201682130831
           ],
           [
            3.0027311410249258
           ],
           [
            3.0016342184424682
           ],
           [
            3.0059467151251873
           ],
           [
            3.0021298693151937
           ],
           [
            3.001120910085643
           ],
           [
            3.0014407103697636
           ],
           [
            3.0010663047673574
           ],
           [
            3.0008434005038094
           ],
           [
            3.000768005554204
           ],
           [
            3.0007578977203533
           ],
           [
            3.0007308011328933
           ],
           [
            3.0003923547900495
           ],
           [
            3.000812660350701
           ],
           [
            3.0004788586286937
           ],
           [
            3.000332585697395
           ],
           [
            3.0000793381911723
           ],
           [
            3
           ],
           [
            3.0013288669509284
           ],
           [
            3.0013115664204726
           ],
           [
            3.0009799848153618
           ],
           [
            3.0004874538465636
           ],
           [
            3.0004260604772095
           ],
           [
            3.0002562549427028
           ],
           [
            3
           ],
           [
            3.0018325787499682
           ],
           [
            3.0014376234467965
           ],
           [
            3.0011945893609524
           ],
           [
            3.0008815371236564
           ],
           [
            3.000552490401929
           ],
           [
            3.000530357567619
           ],
           [
            3
           ],
           [
            3
           ],
           [
            3
           ],
           [
            3
           ],
           [
            3
           ],
           [
            3
           ],
           [
            3.000520719534496
           ],
           [
            3.0004092960890394
           ],
           [
            3.0003038376891933
           ],
           [
            3.000147109318959
           ],
           [
            3.0001335017069555
           ],
           [
            3.000094909238038
           ],
           [
            3.000052731335381
           ],
           [
            3
           ],
           [
            3
           ],
           [
            3
           ],
           [
            3
           ],
           [
            3
           ],
           [
            3
           ],
           [
            3
           ],
           [
            3
           ],
           [
            3
           ],
           [
            3
           ]
          ]
         },
         "mode": "markers",
         "text": [
          "DE",
          "UK",
          "FR",
          "IT",
          "ES",
          "NL",
          "BE",
          "EL",
          "SE",
          "CH",
          "DK",
          "AT",
          "PT",
          "FI",
          "NO",
          "IE",
          "PL",
          "IL",
          "CZ",
          "HU",
          "RO",
          "SI",
          "US",
          "TR",
          "BG",
          "EE",
          "SK",
          "CY",
          "RU",
          "LT",
          "CN",
          "HR",
          "LU",
          "LV",
          "IS",
          "RS",
          "CA",
          "UA",
          "BR",
          "ZA",
          "AU",
          "MT",
          "IN",
          "AR",
          "MA",
          "JP",
          "TN",
          "KE",
          "EG",
          "MX",
          "CL",
          "MK",
          "BA",
          "TH",
          "CO",
          "SN",
          "KR",
          "BY",
          "MD",
          "TZ",
          "UG",
          "GH",
          "GE",
          "JO",
          "VN",
          "AL",
          "LB",
          "NZ",
          "DZ",
          "BF",
          "ID",
          "PE",
          "ET",
          "TW",
          "ME",
          "MY",
          "AM",
          "CM",
          "KZ",
          "NG",
          "UY",
          "PH",
          "CR",
          "ML",
          "SG",
          "MZ",
          "EC",
          "PS",
          "BO",
          "ZW",
          "ZM",
          "UZ",
          "AZ",
          "FO",
          "CI",
          "CU",
          "SY",
          "BJ",
          "VE",
          "HK",
          "BD",
          "PK",
          "MW",
          "KG",
          "LI",
          "LK",
          "RW",
          "BW",
          "NE",
          "GA",
          "NI",
          "CV",
          "XK",
          "KH",
          "GT",
          "MG",
          "NP",
          "GL",
          "SD",
          "IR",
          "NC",
          "TJ",
          "GM",
          "MU",
          "TG",
          "SA",
          "PY",
          "TM",
          "JM",
          "LA",
          "GN",
          "SV",
          "CD",
          "DO",
          "SZ",
          "HN",
          "GW",
          "AE",
          "PA",
          "BI",
          "AO",
          "MC",
          "PG",
          "MR",
          "SL",
          "IQ",
          "CG",
          "FJ",
          "PF",
          "TT",
          "LS",
          "GI",
          "MN",
          "GY",
          "SR",
          "AI",
          "OM",
          "AF",
          "LY",
          "QA",
          "BB",
          "YU",
          "SC",
          "TD",
          "MM",
          "LR",
          "MV",
          "VU",
          "BT",
          "SM",
          "HT",
          "YE",
          "KW",
          "WS",
          "BH",
          "SO",
          "ST",
          "BQ",
          "CF",
          "CW",
          "VG",
          "MH",
          "MO",
          "FK",
          "GQ",
          "SB",
          "TO",
          "UM",
          "VA",
          "AW",
          "WF",
          "DJ",
          "BN",
          "GD",
          "BZ",
          "GF",
          "AD",
          "ER",
          "GP",
          "JE",
          "KY",
          "LC",
          "MQ",
          "MS",
          "NF",
          "SX"
         ],
         "type": "scatter",
         "x": [
          0,
          1,
          2,
          3,
          4,
          5,
          6,
          7,
          8,
          9,
          10,
          11,
          12,
          13,
          14,
          15,
          16,
          17,
          18,
          19,
          20,
          21,
          22,
          23,
          24,
          25,
          26,
          27,
          28,
          29,
          30,
          31,
          32,
          33,
          34,
          35,
          36,
          37,
          38,
          39,
          40,
          41,
          42,
          43,
          44,
          45,
          46,
          47,
          48,
          49,
          50,
          51,
          52,
          53,
          54,
          55,
          56,
          57,
          58,
          59,
          60,
          61,
          62,
          63,
          64,
          65,
          66,
          67,
          68,
          69,
          70,
          71,
          72,
          73,
          74,
          75,
          76,
          77,
          78,
          79,
          80,
          81,
          82,
          83,
          84,
          85,
          86,
          87,
          88,
          89,
          90,
          91,
          92,
          93,
          94,
          95,
          96,
          97,
          98,
          99,
          100,
          101,
          102,
          103,
          104,
          105,
          106,
          107,
          108,
          109,
          110,
          111,
          112,
          113,
          114,
          115,
          116,
          117,
          118,
          119,
          120,
          121,
          122,
          123,
          124,
          125,
          126,
          127,
          128,
          129,
          130,
          131,
          132,
          133,
          134,
          135,
          136,
          137,
          138,
          139,
          140,
          141,
          142,
          143,
          144,
          145,
          146,
          147,
          148,
          149,
          150,
          151,
          152,
          153,
          154,
          155,
          156,
          157,
          158,
          159,
          160,
          161,
          162,
          163,
          164,
          165,
          166,
          167,
          168,
          169,
          170,
          171,
          172,
          173,
          174,
          175,
          176,
          177,
          178,
          179,
          180,
          181,
          182,
          183,
          184,
          185,
          186,
          187,
          188,
          189,
          190,
          191,
          192,
          193,
          194,
          195,
          196,
          197,
          198,
          199,
          200,
          201,
          202,
          203,
          204,
          205
         ],
         "y": [
          85097,
          77730,
          71838,
          60793,
          54907,
          40406,
          28933,
          21399,
          20233,
          16003,
          15772,
          15487,
          13707,
          12799,
          10887,
          10421,
          9224,
          6229,
          6095,
          5803,
          4328,
          4049,
          3566,
          3375,
          2928,
          2374,
          2277,
          2217,
          1871,
          1791,
          1764,
          1624,
          1465,
          1462,
          1220,
          1128,
          1031,
          941,
          923,
          889,
          828,
          747,
          744,
          587,
          520,
          484,
          480,
          422,
          390,
          380,
          376,
          260,
          259,
          245,
          243,
          243,
          234,
          227,
          224,
          215,
          197,
          193,
          191,
          183,
          175,
          169,
          166,
          166,
          164,
          161,
          161,
          146,
          145,
          145,
          138,
          137,
          132,
          132,
          131,
          119,
          117,
          110,
          107,
          99,
          98,
          91,
          86,
          86,
          82,
          77,
          74,
          70,
          69,
          66,
          64,
          63,
          62,
          61,
          61,
          57,
          56,
          56,
          55,
          51,
          43,
          42,
          42,
          42,
          41,
          38,
          36,
          35,
          33,
          31,
          31,
          30,
          30,
          27,
          27,
          27,
          22,
          21,
          21,
          20,
          20,
          20,
          19,
          19,
          18,
          18,
          18,
          18,
          17,
          17,
          14,
          14,
          13,
          13,
          13,
          13,
          13,
          12,
          12,
          12,
          11,
          11,
          11,
          10,
          10,
          10,
          9,
          8,
          8,
          7,
          7,
          6,
          6,
          6,
          5,
          5,
          5,
          5,
          5,
          5,
          5,
          4,
          4,
          4,
          4,
          4,
          3,
          3,
          3,
          3,
          3,
          3,
          3,
          2,
          2,
          2,
          2,
          2,
          2,
          2,
          2,
          2,
          2,
          2,
          2,
          1,
          1,
          1,
          1,
          1,
          1,
          1,
          1,
          1,
          1,
          1,
          1,
          1,
          1,
          1,
          1,
          1
         ]
        }
       ],
       "layout": {
        "template": {
         "data": {
          "bar": [
           {
            "error_x": {
             "color": "#2a3f5f"
            },
            "error_y": {
             "color": "#2a3f5f"
            },
            "marker": {
             "line": {
              "color": "#E5ECF6",
              "width": 0.5
             },
             "pattern": {
              "fillmode": "overlay",
              "size": 10,
              "solidity": 0.2
             }
            },
            "type": "bar"
           }
          ],
          "barpolar": [
           {
            "marker": {
             "line": {
              "color": "#E5ECF6",
              "width": 0.5
             },
             "pattern": {
              "fillmode": "overlay",
              "size": 10,
              "solidity": 0.2
             }
            },
            "type": "barpolar"
           }
          ],
          "carpet": [
           {
            "aaxis": {
             "endlinecolor": "#2a3f5f",
             "gridcolor": "white",
             "linecolor": "white",
             "minorgridcolor": "white",
             "startlinecolor": "#2a3f5f"
            },
            "baxis": {
             "endlinecolor": "#2a3f5f",
             "gridcolor": "white",
             "linecolor": "white",
             "minorgridcolor": "white",
             "startlinecolor": "#2a3f5f"
            },
            "type": "carpet"
           }
          ],
          "choropleth": [
           {
            "colorbar": {
             "outlinewidth": 0,
             "ticks": ""
            },
            "type": "choropleth"
           }
          ],
          "contour": [
           {
            "colorbar": {
             "outlinewidth": 0,
             "ticks": ""
            },
            "colorscale": [
             [
              0,
              "#0d0887"
             ],
             [
              0.1111111111111111,
              "#46039f"
             ],
             [
              0.2222222222222222,
              "#7201a8"
             ],
             [
              0.3333333333333333,
              "#9c179e"
             ],
             [
              0.4444444444444444,
              "#bd3786"
             ],
             [
              0.5555555555555556,
              "#d8576b"
             ],
             [
              0.6666666666666666,
              "#ed7953"
             ],
             [
              0.7777777777777778,
              "#fb9f3a"
             ],
             [
              0.8888888888888888,
              "#fdca26"
             ],
             [
              1,
              "#f0f921"
             ]
            ],
            "type": "contour"
           }
          ],
          "contourcarpet": [
           {
            "colorbar": {
             "outlinewidth": 0,
             "ticks": ""
            },
            "type": "contourcarpet"
           }
          ],
          "heatmap": [
           {
            "colorbar": {
             "outlinewidth": 0,
             "ticks": ""
            },
            "colorscale": [
             [
              0,
              "#0d0887"
             ],
             [
              0.1111111111111111,
              "#46039f"
             ],
             [
              0.2222222222222222,
              "#7201a8"
             ],
             [
              0.3333333333333333,
              "#9c179e"
             ],
             [
              0.4444444444444444,
              "#bd3786"
             ],
             [
              0.5555555555555556,
              "#d8576b"
             ],
             [
              0.6666666666666666,
              "#ed7953"
             ],
             [
              0.7777777777777778,
              "#fb9f3a"
             ],
             [
              0.8888888888888888,
              "#fdca26"
             ],
             [
              1,
              "#f0f921"
             ]
            ],
            "type": "heatmap"
           }
          ],
          "heatmapgl": [
           {
            "colorbar": {
             "outlinewidth": 0,
             "ticks": ""
            },
            "colorscale": [
             [
              0,
              "#0d0887"
             ],
             [
              0.1111111111111111,
              "#46039f"
             ],
             [
              0.2222222222222222,
              "#7201a8"
             ],
             [
              0.3333333333333333,
              "#9c179e"
             ],
             [
              0.4444444444444444,
              "#bd3786"
             ],
             [
              0.5555555555555556,
              "#d8576b"
             ],
             [
              0.6666666666666666,
              "#ed7953"
             ],
             [
              0.7777777777777778,
              "#fb9f3a"
             ],
             [
              0.8888888888888888,
              "#fdca26"
             ],
             [
              1,
              "#f0f921"
             ]
            ],
            "type": "heatmapgl"
           }
          ],
          "histogram": [
           {
            "marker": {
             "pattern": {
              "fillmode": "overlay",
              "size": 10,
              "solidity": 0.2
             }
            },
            "type": "histogram"
           }
          ],
          "histogram2d": [
           {
            "colorbar": {
             "outlinewidth": 0,
             "ticks": ""
            },
            "colorscale": [
             [
              0,
              "#0d0887"
             ],
             [
              0.1111111111111111,
              "#46039f"
             ],
             [
              0.2222222222222222,
              "#7201a8"
             ],
             [
              0.3333333333333333,
              "#9c179e"
             ],
             [
              0.4444444444444444,
              "#bd3786"
             ],
             [
              0.5555555555555556,
              "#d8576b"
             ],
             [
              0.6666666666666666,
              "#ed7953"
             ],
             [
              0.7777777777777778,
              "#fb9f3a"
             ],
             [
              0.8888888888888888,
              "#fdca26"
             ],
             [
              1,
              "#f0f921"
             ]
            ],
            "type": "histogram2d"
           }
          ],
          "histogram2dcontour": [
           {
            "colorbar": {
             "outlinewidth": 0,
             "ticks": ""
            },
            "colorscale": [
             [
              0,
              "#0d0887"
             ],
             [
              0.1111111111111111,
              "#46039f"
             ],
             [
              0.2222222222222222,
              "#7201a8"
             ],
             [
              0.3333333333333333,
              "#9c179e"
             ],
             [
              0.4444444444444444,
              "#bd3786"
             ],
             [
              0.5555555555555556,
              "#d8576b"
             ],
             [
              0.6666666666666666,
              "#ed7953"
             ],
             [
              0.7777777777777778,
              "#fb9f3a"
             ],
             [
              0.8888888888888888,
              "#fdca26"
             ],
             [
              1,
              "#f0f921"
             ]
            ],
            "type": "histogram2dcontour"
           }
          ],
          "mesh3d": [
           {
            "colorbar": {
             "outlinewidth": 0,
             "ticks": ""
            },
            "type": "mesh3d"
           }
          ],
          "parcoords": [
           {
            "line": {
             "colorbar": {
              "outlinewidth": 0,
              "ticks": ""
             }
            },
            "type": "parcoords"
           }
          ],
          "pie": [
           {
            "automargin": true,
            "type": "pie"
           }
          ],
          "scatter": [
           {
            "fillpattern": {
             "fillmode": "overlay",
             "size": 10,
             "solidity": 0.2
            },
            "type": "scatter"
           }
          ],
          "scatter3d": [
           {
            "line": {
             "colorbar": {
              "outlinewidth": 0,
              "ticks": ""
             }
            },
            "marker": {
             "colorbar": {
              "outlinewidth": 0,
              "ticks": ""
             }
            },
            "type": "scatter3d"
           }
          ],
          "scattercarpet": [
           {
            "marker": {
             "colorbar": {
              "outlinewidth": 0,
              "ticks": ""
             }
            },
            "type": "scattercarpet"
           }
          ],
          "scattergeo": [
           {
            "marker": {
             "colorbar": {
              "outlinewidth": 0,
              "ticks": ""
             }
            },
            "type": "scattergeo"
           }
          ],
          "scattergl": [
           {
            "marker": {
             "colorbar": {
              "outlinewidth": 0,
              "ticks": ""
             }
            },
            "type": "scattergl"
           }
          ],
          "scattermapbox": [
           {
            "marker": {
             "colorbar": {
              "outlinewidth": 0,
              "ticks": ""
             }
            },
            "type": "scattermapbox"
           }
          ],
          "scatterpolar": [
           {
            "marker": {
             "colorbar": {
              "outlinewidth": 0,
              "ticks": ""
             }
            },
            "type": "scatterpolar"
           }
          ],
          "scatterpolargl": [
           {
            "marker": {
             "colorbar": {
              "outlinewidth": 0,
              "ticks": ""
             }
            },
            "type": "scatterpolargl"
           }
          ],
          "scatterternary": [
           {
            "marker": {
             "colorbar": {
              "outlinewidth": 0,
              "ticks": ""
             }
            },
            "type": "scatterternary"
           }
          ],
          "surface": [
           {
            "colorbar": {
             "outlinewidth": 0,
             "ticks": ""
            },
            "colorscale": [
             [
              0,
              "#0d0887"
             ],
             [
              0.1111111111111111,
              "#46039f"
             ],
             [
              0.2222222222222222,
              "#7201a8"
             ],
             [
              0.3333333333333333,
              "#9c179e"
             ],
             [
              0.4444444444444444,
              "#bd3786"
             ],
             [
              0.5555555555555556,
              "#d8576b"
             ],
             [
              0.6666666666666666,
              "#ed7953"
             ],
             [
              0.7777777777777778,
              "#fb9f3a"
             ],
             [
              0.8888888888888888,
              "#fdca26"
             ],
             [
              1,
              "#f0f921"
             ]
            ],
            "type": "surface"
           }
          ],
          "table": [
           {
            "cells": {
             "fill": {
              "color": "#EBF0F8"
             },
             "line": {
              "color": "white"
             }
            },
            "header": {
             "fill": {
              "color": "#C8D4E3"
             },
             "line": {
              "color": "white"
             }
            },
            "type": "table"
           }
          ]
         },
         "layout": {
          "annotationdefaults": {
           "arrowcolor": "#2a3f5f",
           "arrowhead": 0,
           "arrowwidth": 1
          },
          "autotypenumbers": "strict",
          "coloraxis": {
           "colorbar": {
            "outlinewidth": 0,
            "ticks": ""
           }
          },
          "colorscale": {
           "diverging": [
            [
             0,
             "#8e0152"
            ],
            [
             0.1,
             "#c51b7d"
            ],
            [
             0.2,
             "#de77ae"
            ],
            [
             0.3,
             "#f1b6da"
            ],
            [
             0.4,
             "#fde0ef"
            ],
            [
             0.5,
             "#f7f7f7"
            ],
            [
             0.6,
             "#e6f5d0"
            ],
            [
             0.7,
             "#b8e186"
            ],
            [
             0.8,
             "#7fbc41"
            ],
            [
             0.9,
             "#4d9221"
            ],
            [
             1,
             "#276419"
            ]
           ],
           "sequential": [
            [
             0,
             "#0d0887"
            ],
            [
             0.1111111111111111,
             "#46039f"
            ],
            [
             0.2222222222222222,
             "#7201a8"
            ],
            [
             0.3333333333333333,
             "#9c179e"
            ],
            [
             0.4444444444444444,
             "#bd3786"
            ],
            [
             0.5555555555555556,
             "#d8576b"
            ],
            [
             0.6666666666666666,
             "#ed7953"
            ],
            [
             0.7777777777777778,
             "#fb9f3a"
            ],
            [
             0.8888888888888888,
             "#fdca26"
            ],
            [
             1,
             "#f0f921"
            ]
           ],
           "sequentialminus": [
            [
             0,
             "#0d0887"
            ],
            [
             0.1111111111111111,
             "#46039f"
            ],
            [
             0.2222222222222222,
             "#7201a8"
            ],
            [
             0.3333333333333333,
             "#9c179e"
            ],
            [
             0.4444444444444444,
             "#bd3786"
            ],
            [
             0.5555555555555556,
             "#d8576b"
            ],
            [
             0.6666666666666666,
             "#ed7953"
            ],
            [
             0.7777777777777778,
             "#fb9f3a"
            ],
            [
             0.8888888888888888,
             "#fdca26"
            ],
            [
             1,
             "#f0f921"
            ]
           ]
          },
          "colorway": [
           "#636efa",
           "#EF553B",
           "#00cc96",
           "#ab63fa",
           "#FFA15A",
           "#19d3f3",
           "#FF6692",
           "#B6E880",
           "#FF97FF",
           "#FECB52"
          ],
          "font": {
           "color": "#2a3f5f"
          },
          "geo": {
           "bgcolor": "white",
           "lakecolor": "white",
           "landcolor": "#E5ECF6",
           "showlakes": true,
           "showland": true,
           "subunitcolor": "white"
          },
          "hoverlabel": {
           "align": "left"
          },
          "hovermode": "closest",
          "mapbox": {
           "style": "light"
          },
          "paper_bgcolor": "white",
          "plot_bgcolor": "#E5ECF6",
          "polar": {
           "angularaxis": {
            "gridcolor": "white",
            "linecolor": "white",
            "ticks": ""
           },
           "bgcolor": "#E5ECF6",
           "radialaxis": {
            "gridcolor": "white",
            "linecolor": "white",
            "ticks": ""
           }
          },
          "scene": {
           "xaxis": {
            "backgroundcolor": "#E5ECF6",
            "gridcolor": "white",
            "gridwidth": 2,
            "linecolor": "white",
            "showbackground": true,
            "ticks": "",
            "zerolinecolor": "white"
           },
           "yaxis": {
            "backgroundcolor": "#E5ECF6",
            "gridcolor": "white",
            "gridwidth": 2,
            "linecolor": "white",
            "showbackground": true,
            "ticks": "",
            "zerolinecolor": "white"
           },
           "zaxis": {
            "backgroundcolor": "#E5ECF6",
            "gridcolor": "white",
            "gridwidth": 2,
            "linecolor": "white",
            "showbackground": true,
            "ticks": "",
            "zerolinecolor": "white"
           }
          },
          "shapedefaults": {
           "line": {
            "color": "#2a3f5f"
           }
          },
          "ternary": {
           "aaxis": {
            "gridcolor": "white",
            "linecolor": "white",
            "ticks": ""
           },
           "baxis": {
            "gridcolor": "white",
            "linecolor": "white",
            "ticks": ""
           },
           "bgcolor": "#E5ECF6",
           "caxis": {
            "gridcolor": "white",
            "linecolor": "white",
            "ticks": ""
           }
          },
          "title": {
           "x": 0.05
          },
          "xaxis": {
           "automargin": true,
           "gridcolor": "white",
           "linecolor": "white",
           "ticks": "",
           "title": {
            "standoff": 15
           },
           "zerolinecolor": "white",
           "zerolinewidth": 2
          },
          "yaxis": {
           "automargin": true,
           "gridcolor": "white",
           "linecolor": "white",
           "ticks": "",
           "title": {
            "standoff": 15
           },
           "zerolinecolor": "white",
           "zerolinewidth": 2
          }
         }
        },
        "title": {
         "text": ""
        },
        "xaxis": {
         "type": "log"
        },
        "yaxis": {
         "type": "log"
        }
       }
      },
      "text/html": [
       "<div>                            <div id=\"1329406e-6e4d-45bc-97ad-dd756d4d872b\" class=\"plotly-graph-div\" style=\"height:525px; width:100%;\"></div>            <script type=\"text/javascript\">                require([\"plotly\"], function(Plotly) {                    window.PLOTLYENV=window.PLOTLYENV || {};                                    if (document.getElementById(\"1329406e-6e4d-45bc-97ad-dd756d4d872b\")) {                    Plotly.newPlot(                        \"1329406e-6e4d-45bc-97ad-dd756d4d872b\",                        [{\"marker\":{\"size\":[[100.0],[74.16567835125042],[74.15580082662402],[55.1530056084592],[57.44032182083541],[52.02354067270763],[33.91022945929515],[19.19161731527744],[25.015464702083946],[24.55085805192436],[18.662838114719456],[20.534836369240853],[12.73311079708564],[16.693924044927712],[17.36678546870212],[13.466762179914728],[9.744522270299356],[14.77509762156876],[7.6599992640597865],[6.492592210171076],[5.690020682810742],[6.290253638978323],[4.050299668798882],[5.7569636078623425],[4.511506001226541],[5.106455623817859],[4.176281743446501],[5.461885480806041],[3.4181416939932645],[3.9176936432909466],[3.2033410476942548],[4.239811115672932],[4.599301440424774],[3.942740792886315],[4.155756717849182],[4.150821581923061],[3.1448361956805084],[3.3956542772509226],[3.244007491551132],[3.5658203732340303],[3.1208601703436054],[3.3949555493662946],[3.209023434422406],[3.113537752883794],[3.1160027912309327],[3.0724219201911795],[3.1456830278176375],[3.2702193325789226],[3.0915227853120277],[3.0650461878465376],[3.0890027161684888],[3.144798973178988],[3.0640524723218903],[3.0588444011544818],[3.080170038801825],[3.066106937101646],[3.0237963922829802],[3.031034478376606],[3.067962540737853],[3.1179453282649954],[3.1194157140011254],[3.1224853683748175],[3.0746984137916713],[3.056506909956158],[3.041490157764532],[3.048443410937153],[3.053308862270339],[3.0337602704117854],[3.0210874564606587],[3.0949400167243546],[3.035094791722934],[3.030850365274465],[3.063051029809083],[3.0061458099827347],[3.051684199574684],[3.0256621529160235],[3.04893207136486],[3.0384426942146954],[3.015245713752564],[3.0669545736894768],[3.0388833052746427],[3.019905459087954],[3.026479382149989],[3.017480623155137],[3.016308552909094],[3.0454681741716465],[3.028355860408738],[3.015685700736817],[3.0131046553500247],[3.012241254575029],[3.023314743939598],[3.0060918627176507],[3.010583183258129],[3.044950394640617],[3.022474784607487],[3.006042195384656],[3.0045627545004887],[3.0323123848561715],[3.002328687275039],[3.0108657837240367],[3.0343242585933567],[3.022719822939165],[3.0321116235822223],[3.0079015535828653],[3.014206157777764],[3.025030517368312],[3.0182496796867886],[3.0159130266319463],[3.0149368147435247],[3.027544534766651],[3.0087053802087813],[3.0106507086658985],[3.0164327269835898],[3.0124865677164063],[3.0051050756622897],[3.023424842309728],[3.014542090734166],[3.021451707913506],[3.008827610257354],[3.006261760598846],[3.0085904763466567],[3.0032364382353323],[3.002917035431101],[3.0097814267450587],[3.0022763458742627],[3.0006626325726726],[3.0012556195601072],[3.00077041007975],[3.0148174654275994],[3.001272655531062],[3.0012575474040046],[3.000554673456768],[3.0265937839422445],[3.002404734346019],[3.003974333833769],[3.001823344081107],[3.004410384837011],[3.0041295953342746],[3.0029107536259083],[3.001800114807824],[3.0011435376818114],[3.0029985475183705],[3.0029417403057623],[3.0013361025939633],[3.069128069127391],[3.0039758844609],[3.001669910247798],[3.002410611600584],[3.0017882508683416],[3.0004266100016976],[3.0007099353369107],[3.0220221615971],[3.000201682130831],[3.0027311410249258],[3.0016342184424682],[3.0059467151251873],[3.0021298693151937],[3.001120910085643],[3.0014407103697636],[3.0010663047673574],[3.0008434005038094],[3.000768005554204],[3.0007578977203533],[3.0007308011328933],[3.0003923547900495],[3.000812660350701],[3.0004788586286937],[3.000332585697395],[3.0000793381911723],[3.0],[3.0013288669509284],[3.0013115664204726],[3.0009799848153618],[3.0004874538465636],[3.0004260604772095],[3.0002562549427028],[3.0],[3.0018325787499682],[3.0014376234467965],[3.0011945893609524],[3.0008815371236564],[3.000552490401929],[3.000530357567619],[3.0],[3.0],[3.0],[3.0],[3.0],[3.0],[3.000520719534496],[3.0004092960890394],[3.0003038376891933],[3.000147109318959],[3.0001335017069555],[3.000094909238038],[3.000052731335381],[3.0],[3.0],[3.0],[3.0],[3.0],[3.0],[3.0],[3.0],[3.0],[3.0]]},\"mode\":\"markers\",\"text\":[\"DE\",\"UK\",\"FR\",\"IT\",\"ES\",\"NL\",\"BE\",\"EL\",\"SE\",\"CH\",\"DK\",\"AT\",\"PT\",\"FI\",\"NO\",\"IE\",\"PL\",\"IL\",\"CZ\",\"HU\",\"RO\",\"SI\",\"US\",\"TR\",\"BG\",\"EE\",\"SK\",\"CY\",\"RU\",\"LT\",\"CN\",\"HR\",\"LU\",\"LV\",\"IS\",\"RS\",\"CA\",\"UA\",\"BR\",\"ZA\",\"AU\",\"MT\",\"IN\",\"AR\",\"MA\",\"JP\",\"TN\",\"KE\",\"EG\",\"MX\",\"CL\",\"MK\",\"BA\",\"TH\",\"CO\",\"SN\",\"KR\",\"BY\",\"MD\",\"TZ\",\"UG\",\"GH\",\"GE\",\"JO\",\"VN\",\"AL\",\"LB\",\"NZ\",\"DZ\",\"BF\",\"ID\",\"PE\",\"ET\",\"TW\",\"ME\",\"MY\",\"AM\",\"CM\",\"KZ\",\"NG\",\"UY\",\"PH\",\"CR\",\"ML\",\"SG\",\"MZ\",\"EC\",\"PS\",\"BO\",\"ZW\",\"ZM\",\"UZ\",\"AZ\",\"FO\",\"CI\",\"CU\",\"SY\",\"BJ\",\"VE\",\"HK\",\"BD\",\"PK\",\"MW\",\"KG\",\"LI\",\"LK\",\"RW\",\"BW\",\"NE\",\"GA\",\"NI\",\"CV\",\"XK\",\"KH\",\"GT\",\"MG\",\"NP\",\"GL\",\"SD\",\"IR\",\"NC\",\"TJ\",\"GM\",\"MU\",\"TG\",\"SA\",\"PY\",\"TM\",\"JM\",\"LA\",\"GN\",\"SV\",\"CD\",\"DO\",\"SZ\",\"HN\",\"GW\",\"AE\",\"PA\",\"BI\",\"AO\",\"MC\",\"PG\",\"MR\",\"SL\",\"IQ\",\"CG\",\"FJ\",\"PF\",\"TT\",\"LS\",\"GI\",\"MN\",\"GY\",\"SR\",\"AI\",\"OM\",\"AF\",\"LY\",\"QA\",\"BB\",\"YU\",\"SC\",\"TD\",\"MM\",\"LR\",\"MV\",\"VU\",\"BT\",\"SM\",\"HT\",\"YE\",\"KW\",\"WS\",\"BH\",\"SO\",\"ST\",\"BQ\",\"CF\",\"CW\",\"VG\",\"MH\",\"MO\",\"FK\",\"GQ\",\"SB\",\"TO\",\"UM\",\"VA\",\"AW\",\"WF\",\"DJ\",\"BN\",\"GD\",\"BZ\",\"GF\",\"AD\",\"ER\",\"GP\",\"JE\",\"KY\",\"LC\",\"MQ\",\"MS\",\"NF\",\"SX\"],\"x\":[0,1,2,3,4,5,6,7,8,9,10,11,12,13,14,15,16,17,18,19,20,21,22,23,24,25,26,27,28,29,30,31,32,33,34,35,36,37,38,39,40,41,42,43,44,45,46,47,48,49,50,51,52,53,54,55,56,57,58,59,60,61,62,63,64,65,66,67,68,69,70,71,72,73,74,75,76,77,78,79,80,81,82,83,84,85,86,87,88,89,90,91,92,93,94,95,96,97,98,99,100,101,102,103,104,105,106,107,108,109,110,111,112,113,114,115,116,117,118,119,120,121,122,123,124,125,126,127,128,129,130,131,132,133,134,135,136,137,138,139,140,141,142,143,144,145,146,147,148,149,150,151,152,153,154,155,156,157,158,159,160,161,162,163,164,165,166,167,168,169,170,171,172,173,174,175,176,177,178,179,180,181,182,183,184,185,186,187,188,189,190,191,192,193,194,195,196,197,198,199,200,201,202,203,204,205],\"y\":[85097.0,77730.0,71838.0,60793.0,54907.0,40406.0,28933.0,21399.0,20233.0,16003.0,15772.0,15487.0,13707.0,12799.0,10887.0,10421.0,9224.0,6229.0,6095.0,5803.0,4328.0,4049.0,3566.0,3375.0,2928.0,2374.0,2277.0,2217.0,1871.0,1791.0,1764.0,1624.0,1465.0,1462.0,1220.0,1128.0,1031.0,941.0,923.0,889.0,828.0,747.0,744.0,587.0,520.0,484.0,480.0,422.0,390.0,380.0,376.0,260.0,259.0,245.0,243.0,243.0,234.0,227.0,224.0,215.0,197.0,193.0,191.0,183.0,175.0,169.0,166.0,166.0,164.0,161.0,161.0,146.0,145.0,145.0,138.0,137.0,132.0,132.0,131.0,119.0,117.0,110.0,107.0,99.0,98.0,91.0,86.0,86.0,82.0,77.0,74.0,70.0,69.0,66.0,64.0,63.0,62.0,61.0,61.0,57.0,56.0,56.0,55.0,51.0,43.0,42.0,42.0,42.0,41.0,38.0,36.0,35.0,33.0,31.0,31.0,30.0,30.0,27.0,27.0,27.0,22.0,21.0,21.0,20.0,20.0,20.0,19.0,19.0,18.0,18.0,18.0,18.0,17.0,17.0,14.0,14.0,13.0,13.0,13.0,13.0,13.0,12.0,12.0,12.0,11.0,11.0,11.0,10.0,10.0,10.0,9.0,8.0,8.0,7.0,7.0,6.0,6.0,6.0,5.0,5.0,5.0,5.0,5.0,5.0,5.0,4.0,4.0,4.0,4.0,4.0,3.0,3.0,3.0,3.0,3.0,3.0,3.0,2.0,2.0,2.0,2.0,2.0,2.0,2.0,2.0,2.0,2.0,2.0,2.0,1.0,1.0,1.0,1.0,1.0,1.0,1.0,1.0,1.0,1.0,1.0,1.0,1.0,1.0,1.0,1.0,1.0],\"type\":\"scatter\"}],                        {\"template\":{\"data\":{\"barpolar\":[{\"marker\":{\"line\":{\"color\":\"#E5ECF6\",\"width\":0.5},\"pattern\":{\"fillmode\":\"overlay\",\"size\":10,\"solidity\":0.2}},\"type\":\"barpolar\"}],\"bar\":[{\"error_x\":{\"color\":\"#2a3f5f\"},\"error_y\":{\"color\":\"#2a3f5f\"},\"marker\":{\"line\":{\"color\":\"#E5ECF6\",\"width\":0.5},\"pattern\":{\"fillmode\":\"overlay\",\"size\":10,\"solidity\":0.2}},\"type\":\"bar\"}],\"carpet\":[{\"aaxis\":{\"endlinecolor\":\"#2a3f5f\",\"gridcolor\":\"white\",\"linecolor\":\"white\",\"minorgridcolor\":\"white\",\"startlinecolor\":\"#2a3f5f\"},\"baxis\":{\"endlinecolor\":\"#2a3f5f\",\"gridcolor\":\"white\",\"linecolor\":\"white\",\"minorgridcolor\":\"white\",\"startlinecolor\":\"#2a3f5f\"},\"type\":\"carpet\"}],\"choropleth\":[{\"colorbar\":{\"outlinewidth\":0,\"ticks\":\"\"},\"type\":\"choropleth\"}],\"contourcarpet\":[{\"colorbar\":{\"outlinewidth\":0,\"ticks\":\"\"},\"type\":\"contourcarpet\"}],\"contour\":[{\"colorbar\":{\"outlinewidth\":0,\"ticks\":\"\"},\"colorscale\":[[0.0,\"#0d0887\"],[0.1111111111111111,\"#46039f\"],[0.2222222222222222,\"#7201a8\"],[0.3333333333333333,\"#9c179e\"],[0.4444444444444444,\"#bd3786\"],[0.5555555555555556,\"#d8576b\"],[0.6666666666666666,\"#ed7953\"],[0.7777777777777778,\"#fb9f3a\"],[0.8888888888888888,\"#fdca26\"],[1.0,\"#f0f921\"]],\"type\":\"contour\"}],\"heatmapgl\":[{\"colorbar\":{\"outlinewidth\":0,\"ticks\":\"\"},\"colorscale\":[[0.0,\"#0d0887\"],[0.1111111111111111,\"#46039f\"],[0.2222222222222222,\"#7201a8\"],[0.3333333333333333,\"#9c179e\"],[0.4444444444444444,\"#bd3786\"],[0.5555555555555556,\"#d8576b\"],[0.6666666666666666,\"#ed7953\"],[0.7777777777777778,\"#fb9f3a\"],[0.8888888888888888,\"#fdca26\"],[1.0,\"#f0f921\"]],\"type\":\"heatmapgl\"}],\"heatmap\":[{\"colorbar\":{\"outlinewidth\":0,\"ticks\":\"\"},\"colorscale\":[[0.0,\"#0d0887\"],[0.1111111111111111,\"#46039f\"],[0.2222222222222222,\"#7201a8\"],[0.3333333333333333,\"#9c179e\"],[0.4444444444444444,\"#bd3786\"],[0.5555555555555556,\"#d8576b\"],[0.6666666666666666,\"#ed7953\"],[0.7777777777777778,\"#fb9f3a\"],[0.8888888888888888,\"#fdca26\"],[1.0,\"#f0f921\"]],\"type\":\"heatmap\"}],\"histogram2dcontour\":[{\"colorbar\":{\"outlinewidth\":0,\"ticks\":\"\"},\"colorscale\":[[0.0,\"#0d0887\"],[0.1111111111111111,\"#46039f\"],[0.2222222222222222,\"#7201a8\"],[0.3333333333333333,\"#9c179e\"],[0.4444444444444444,\"#bd3786\"],[0.5555555555555556,\"#d8576b\"],[0.6666666666666666,\"#ed7953\"],[0.7777777777777778,\"#fb9f3a\"],[0.8888888888888888,\"#fdca26\"],[1.0,\"#f0f921\"]],\"type\":\"histogram2dcontour\"}],\"histogram2d\":[{\"colorbar\":{\"outlinewidth\":0,\"ticks\":\"\"},\"colorscale\":[[0.0,\"#0d0887\"],[0.1111111111111111,\"#46039f\"],[0.2222222222222222,\"#7201a8\"],[0.3333333333333333,\"#9c179e\"],[0.4444444444444444,\"#bd3786\"],[0.5555555555555556,\"#d8576b\"],[0.6666666666666666,\"#ed7953\"],[0.7777777777777778,\"#fb9f3a\"],[0.8888888888888888,\"#fdca26\"],[1.0,\"#f0f921\"]],\"type\":\"histogram2d\"}],\"histogram\":[{\"marker\":{\"pattern\":{\"fillmode\":\"overlay\",\"size\":10,\"solidity\":0.2}},\"type\":\"histogram\"}],\"mesh3d\":[{\"colorbar\":{\"outlinewidth\":0,\"ticks\":\"\"},\"type\":\"mesh3d\"}],\"parcoords\":[{\"line\":{\"colorbar\":{\"outlinewidth\":0,\"ticks\":\"\"}},\"type\":\"parcoords\"}],\"pie\":[{\"automargin\":true,\"type\":\"pie\"}],\"scatter3d\":[{\"line\":{\"colorbar\":{\"outlinewidth\":0,\"ticks\":\"\"}},\"marker\":{\"colorbar\":{\"outlinewidth\":0,\"ticks\":\"\"}},\"type\":\"scatter3d\"}],\"scattercarpet\":[{\"marker\":{\"colorbar\":{\"outlinewidth\":0,\"ticks\":\"\"}},\"type\":\"scattercarpet\"}],\"scattergeo\":[{\"marker\":{\"colorbar\":{\"outlinewidth\":0,\"ticks\":\"\"}},\"type\":\"scattergeo\"}],\"scattergl\":[{\"marker\":{\"colorbar\":{\"outlinewidth\":0,\"ticks\":\"\"}},\"type\":\"scattergl\"}],\"scattermapbox\":[{\"marker\":{\"colorbar\":{\"outlinewidth\":0,\"ticks\":\"\"}},\"type\":\"scattermapbox\"}],\"scatterpolargl\":[{\"marker\":{\"colorbar\":{\"outlinewidth\":0,\"ticks\":\"\"}},\"type\":\"scatterpolargl\"}],\"scatterpolar\":[{\"marker\":{\"colorbar\":{\"outlinewidth\":0,\"ticks\":\"\"}},\"type\":\"scatterpolar\"}],\"scatter\":[{\"fillpattern\":{\"fillmode\":\"overlay\",\"size\":10,\"solidity\":0.2},\"type\":\"scatter\"}],\"scatterternary\":[{\"marker\":{\"colorbar\":{\"outlinewidth\":0,\"ticks\":\"\"}},\"type\":\"scatterternary\"}],\"surface\":[{\"colorbar\":{\"outlinewidth\":0,\"ticks\":\"\"},\"colorscale\":[[0.0,\"#0d0887\"],[0.1111111111111111,\"#46039f\"],[0.2222222222222222,\"#7201a8\"],[0.3333333333333333,\"#9c179e\"],[0.4444444444444444,\"#bd3786\"],[0.5555555555555556,\"#d8576b\"],[0.6666666666666666,\"#ed7953\"],[0.7777777777777778,\"#fb9f3a\"],[0.8888888888888888,\"#fdca26\"],[1.0,\"#f0f921\"]],\"type\":\"surface\"}],\"table\":[{\"cells\":{\"fill\":{\"color\":\"#EBF0F8\"},\"line\":{\"color\":\"white\"}},\"header\":{\"fill\":{\"color\":\"#C8D4E3\"},\"line\":{\"color\":\"white\"}},\"type\":\"table\"}]},\"layout\":{\"annotationdefaults\":{\"arrowcolor\":\"#2a3f5f\",\"arrowhead\":0,\"arrowwidth\":1},\"autotypenumbers\":\"strict\",\"coloraxis\":{\"colorbar\":{\"outlinewidth\":0,\"ticks\":\"\"}},\"colorscale\":{\"diverging\":[[0,\"#8e0152\"],[0.1,\"#c51b7d\"],[0.2,\"#de77ae\"],[0.3,\"#f1b6da\"],[0.4,\"#fde0ef\"],[0.5,\"#f7f7f7\"],[0.6,\"#e6f5d0\"],[0.7,\"#b8e186\"],[0.8,\"#7fbc41\"],[0.9,\"#4d9221\"],[1,\"#276419\"]],\"sequential\":[[0.0,\"#0d0887\"],[0.1111111111111111,\"#46039f\"],[0.2222222222222222,\"#7201a8\"],[0.3333333333333333,\"#9c179e\"],[0.4444444444444444,\"#bd3786\"],[0.5555555555555556,\"#d8576b\"],[0.6666666666666666,\"#ed7953\"],[0.7777777777777778,\"#fb9f3a\"],[0.8888888888888888,\"#fdca26\"],[1.0,\"#f0f921\"]],\"sequentialminus\":[[0.0,\"#0d0887\"],[0.1111111111111111,\"#46039f\"],[0.2222222222222222,\"#7201a8\"],[0.3333333333333333,\"#9c179e\"],[0.4444444444444444,\"#bd3786\"],[0.5555555555555556,\"#d8576b\"],[0.6666666666666666,\"#ed7953\"],[0.7777777777777778,\"#fb9f3a\"],[0.8888888888888888,\"#fdca26\"],[1.0,\"#f0f921\"]]},\"colorway\":[\"#636efa\",\"#EF553B\",\"#00cc96\",\"#ab63fa\",\"#FFA15A\",\"#19d3f3\",\"#FF6692\",\"#B6E880\",\"#FF97FF\",\"#FECB52\"],\"font\":{\"color\":\"#2a3f5f\"},\"geo\":{\"bgcolor\":\"white\",\"lakecolor\":\"white\",\"landcolor\":\"#E5ECF6\",\"showlakes\":true,\"showland\":true,\"subunitcolor\":\"white\"},\"hoverlabel\":{\"align\":\"left\"},\"hovermode\":\"closest\",\"mapbox\":{\"style\":\"light\"},\"paper_bgcolor\":\"white\",\"plot_bgcolor\":\"#E5ECF6\",\"polar\":{\"angularaxis\":{\"gridcolor\":\"white\",\"linecolor\":\"white\",\"ticks\":\"\"},\"bgcolor\":\"#E5ECF6\",\"radialaxis\":{\"gridcolor\":\"white\",\"linecolor\":\"white\",\"ticks\":\"\"}},\"scene\":{\"xaxis\":{\"backgroundcolor\":\"#E5ECF6\",\"gridcolor\":\"white\",\"gridwidth\":2,\"linecolor\":\"white\",\"showbackground\":true,\"ticks\":\"\",\"zerolinecolor\":\"white\"},\"yaxis\":{\"backgroundcolor\":\"#E5ECF6\",\"gridcolor\":\"white\",\"gridwidth\":2,\"linecolor\":\"white\",\"showbackground\":true,\"ticks\":\"\",\"zerolinecolor\":\"white\"},\"zaxis\":{\"backgroundcolor\":\"#E5ECF6\",\"gridcolor\":\"white\",\"gridwidth\":2,\"linecolor\":\"white\",\"showbackground\":true,\"ticks\":\"\",\"zerolinecolor\":\"white\"}},\"shapedefaults\":{\"line\":{\"color\":\"#2a3f5f\"}},\"ternary\":{\"aaxis\":{\"gridcolor\":\"white\",\"linecolor\":\"white\",\"ticks\":\"\"},\"baxis\":{\"gridcolor\":\"white\",\"linecolor\":\"white\",\"ticks\":\"\"},\"bgcolor\":\"#E5ECF6\",\"caxis\":{\"gridcolor\":\"white\",\"linecolor\":\"white\",\"ticks\":\"\"}},\"title\":{\"x\":0.05},\"xaxis\":{\"automargin\":true,\"gridcolor\":\"white\",\"linecolor\":\"white\",\"ticks\":\"\",\"title\":{\"standoff\":15},\"zerolinecolor\":\"white\",\"zerolinewidth\":2},\"yaxis\":{\"automargin\":true,\"gridcolor\":\"white\",\"linecolor\":\"white\",\"ticks\":\"\",\"title\":{\"standoff\":15},\"zerolinecolor\":\"white\",\"zerolinewidth\":2}}},\"title\":{\"text\":\"\"},\"xaxis\":{\"type\":\"log\"},\"yaxis\":{\"type\":\"log\"}},                        {\"responsive\": true}                    ).then(function(){\n",
       "                            \n",
       "var gd = document.getElementById('1329406e-6e4d-45bc-97ad-dd756d4d872b');\n",
       "var x = new MutationObserver(function (mutations, observer) {{\n",
       "        var display = window.getComputedStyle(gd).display;\n",
       "        if (!display || display === 'none') {{\n",
       "            console.log([gd, 'removed!']);\n",
       "            Plotly.purge(gd);\n",
       "            observer.disconnect();\n",
       "        }}\n",
       "}});\n",
       "\n",
       "// Listen for the removal of the full notebook cells\n",
       "var notebookContainer = gd.closest('#notebook-container');\n",
       "if (notebookContainer) {{\n",
       "    x.observe(notebookContainer, {childList: true});\n",
       "}}\n",
       "\n",
       "// Listen for the clearing of the current output cell\n",
       "var outputEl = gd.closest('.output');\n",
       "if (outputEl) {{\n",
       "    x.observe(outputEl, {childList: true});\n",
       "}}\n",
       "\n",
       "                        })                };                });            </script>        </div>"
      ]
     },
     "metadata": {},
     "output_type": "display_data"
    }
   ],
   "source": [
    "data = data.sort_values(['total_projects', 'total_contribution'], ascending=False).reset_index()\n",
    "trace = go.Scatter(x=data.index,\n",
    "                   y=data['total_projects'],\n",
    "                   mode='markers',\n",
    "                   text=data['country'],\n",
    "                   marker=dict(size=min_max_scaler.fit_transform(data[['total_contribution']]))\n",
    "                  )\n",
    "\n",
    "layout = go.Layout(\n",
    "    title='',\n",
    "    xaxis=dict(type='log'),\n",
    "    yaxis=dict(type='log')\n",
    ")\n",
    "\n",
    "fig = dict(data=[trace], layout=layout)\n",
    "plotly.offline.iplot(fig)"
   ]
  },
  {
   "cell_type": "code",
   "execution_count": null,
   "metadata": {},
   "outputs": [],
   "source": []
  },
  {
   "cell_type": "code",
   "execution_count": null,
   "metadata": {},
   "outputs": [],
   "source": []
  },
  {
   "cell_type": "code",
   "execution_count": null,
   "metadata": {},
   "outputs": [],
   "source": []
  }
 ],
 "metadata": {
  "kernelspec": {
   "display_name": "Python 3",
   "language": "python",
   "name": "python3"
  },
  "language_info": {
   "codemirror_mode": {
    "name": "ipython",
    "version": 3
   },
   "file_extension": ".py",
   "mimetype": "text/x-python",
   "name": "python",
   "nbconvert_exporter": "python",
   "pygments_lexer": "ipython3",
   "version": "3.9.12"
  }
 },
 "nbformat": 4,
 "nbformat_minor": 2
}
